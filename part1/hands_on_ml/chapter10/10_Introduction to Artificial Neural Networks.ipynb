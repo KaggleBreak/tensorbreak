{
 "cells": [
  {
   "cell_type": "markdown",
   "metadata": {},
   "source": [
    "### 텐서뽀개기 Part1  2017/07/25(화) 3회차 모임\n",
    "### Hands on Machine learning scikit_learn_and_Tensorflow\n",
    "\n",
    "- 스터디 : 캐글뽀개기 - 텐서뽀개기\n",
    "- 페이스북 : <https://www.facebook.com/groups/kagglebreak/>\n",
    "- github : <https://github.com/KaggleBreak/tensorbreak>\n",
    "- 구글드라이브 : \n",
    "<https://drive.google.com/drive/folders/0B2l0iH28o85xM3A3TVhGdkFHb3M>\n",
    "\n",
    "\n",
    "### 10장. Introduction to Artificial Neural Networks\n",
    "\n",
    "- 지적인 기계를 만드는 방법에 대한 영감을 얻기 위해 뇌의 구조를 보는 것은 논리적인 것 같습니다. \n",
    "- 인공 신경망(ANN)에 영감을 주었던 핵심 아이디어입니다. 그러나, 비행기가 새들로부터 영감을 받았지만, 날개를 펄럭일 필요가 없습니다. \n",
    "- 유사하게, ANN은 점차적으로 생물학적으로는 상당히 다른 것으로 되었습니다. 어떤 연구자들은 심지어 우리가 생물학적으로 유추 가능한 시스템으로 창의성을 제한하지 않도록 생물학적 유추를 완전히 삭제해야 한다고 주장합니다 (예: \"뉴런\"보다는 \"단위\"라고 말함)\n",
    "\n",
    "- ANN은 Deep Learning의 핵심입니다. 그들은 다양하고 강력하며 확장성이 뛰어나므로 수십억 개의 이미지 (예 : Google 이미지)를 분류하고, 음성 인식 서비스 (예 : Apple Siri)를 강화하고, 수천만 명의 사용자 (예 : YouTube)를 보거나 수백만 가지의 과거 게임을 검토한 다음 (DeepMind의 AlphaGo) Go의 게임에서 세계 챔피언을 물리 칠 수있는 방법을 배우십시오.\n",
    "- 이 장에서는 인공 신경망을 처음 ANN 아키텍처를 간략히 살펴본 다음 MLP (Multi-Layer Perceptron)를 제시하고 TensorFlow를 사용하여 MNIST 숫자 분류 문제를 해결합니다.\n",
    "\n",
    "### From biological to Artificial neurons\n",
    "\n",
    "-  신경 생리학자인 Warren McCulloch와 수학자 Walter Pitts에 의해 1943년에 처음으로 소개되었다. 그들의 획기적인 논문에서 그들은 생물학적 뉴런이 동물 두뇌에서 함께 작동하여 복잡한 계산을 수행하는 방법에 대한 단순화 된 계산 모델을 제시했습니다. 이것은 최초의 인공 신경망 구조였습니다. 그 이후로 많은 다른 아키텍처가 발명되었습니다.\n",
    "\n",
    "- 1960 년대까지 ANN의 초기 성공은 곧 우리가 진정으로 지적인 기계와 대화 할 것이라는 대폭적인 믿음을 이끌어 냈습니다. 약속이 실현되지 않을 것이라는 것이 명백해지자 (적어도 상당 기간 동안) 자금은 다른 곳으로 날아 갔고 ANN은 길게 어두운 시대로 들어갔다. \n",
    "\n",
    "- 1980 년대 초에는 새로운 네트워크 아키텍처가 발명되고 더 나은 교육 기술이 개발됨에 따라 ANN에 관심이 다시 생겨났습니다. 그러나 1990 년대에는 서포트 벡터 머신 (제 5 장 참조)과 같은 강력한 대체 기계 학습 기술이 더 나은 결과와 보다 강력한 이론적 기반을 제공하는 것처럼 보였으므로 대부분의 연구자가 선호했습니다. 마지막으로 ANN에 대한 또 다른 관심의 물결을 목격하고 있습니다. 이전 파도처럼 이 파도가 사라질까요? 이 점이 다르다는 것과 우리 삶에 훨씬 더 중대한 영향을 미칠 것이라고 믿을만한 몇 가지 이유가 있습니다.\n",
    "\n",
    "    1. 현재 신경 네트워크를 훈련시키는 데 사용할 수 있는 방대한 양의 데이터가 있으며 ANN은 매우 크고 복잡한 문제에 대해 다른 ML 기술을 자주 능가합니다.\n",
    "    2. 1990 년대 이후 컴퓨팅 파워가 엄청나게 증가한 덕분에 합리적인 시간에 대형 신경 네트워크를 학습 할 수 있었습니다.\n",
    "    3. 훈련 알고리즘이 개선되었습니다. 공평하기 때문에 그들은 1990 년대에 사용 된 것들과 약간 다릅니다 만, 이러한 비교적 작은 비틀기는 엄청난 긍정적 영향을 미칩니다.\n",
    "    4. ANN의 이론적 한계 중 일부는 실제로는 양성으로 판명되었습니다. 예를 들어, 많은 사람들은 ANN 교육 알고리즘이 지역 최적 조건에 머물러 있기 때문에 운명을 정해야 한다고 생각했으나 실제로는 거의 사용되지 않습니다 (또는 해당되는 경우 지역 최적화는 일반적으로 매우 유사합니다. 글로벌 최적).\n",
    "    5. ANN은 자금 조달과 진보의 선순환으로 들어간 것처럼 보입니다. ANN을 기반으로 한 놀라운 제품은 정기적으로 헤드 라인 뉴스를 만들어 더 많은 발전과 더 놀라운 제품을 탄생 시켰습니다.\n",
    "\n",
    "\n",
    "### Biological neurons\n",
    "- 우리가 인공 뉴런에 대해 논의하기 전에 생물학적 뉴런 (그림 10-13에 표시)을 간략하게 살펴 봅시다. \n",
    "\n",
    "- 동물의 대뇌 피질 (예 : 뇌)에서 주로 발견되는 비정상적인 세포로, 세포체 핵과 세포의 복잡한 성분의 대부분과 수상 돌기(dendrites)라고 불리는 많은 분지 확장과 축삭(axon)이라고 불리는 한 개의 매우 긴 확장을 포함하고있다. 축색 돌기의 길이는 세포체보다 몇 배나 길거나 수십만 배까지 길어질 수 있습니다. \n",
    "\n",
    "- 말단 근처에서 축삭 돌기는 텔로 덴드리아(telodendria)라고 불리는 많은 가지로 나뉘며,이 지점의 끝에는 다른 뉴런의 수상 돌기(또는 세포체에 직접 연결되어있는) 인 시냅스 터미널 (또는 시냅스)이라고하는 소규모 구조물이 있습니다. \n",
    "\n",
    "- 생물학적 뉴런은 이 시냅스를 통해 다른 뉴런의 신호라고 불리는 짧은 전기 충격을 받습니다. 뉴런이 수 밀리 초 이내에 다른 뉴런으로부터 충분한 수의 신호를 수신하면 자신의 신호를 발령합니다.\n",
    "\n",
    "- 수상 돌기(input, 신경세포에서 보내는 신호를 전달 받는 부분), 축삭 돌기(Output, 다른 신경세포에 신호를 전달하는 부분), 활동 전이, 시냅스들이 가중치, 뉴런들이 1천억개 존재하고 100조개의 연결이 존재한다고 합니다.\n",
    "\n",
    "<img src ='./img/10_1.png'>\n",
    "\n",
    "- 따라서 개별적인 생물학적 뉴런은 오히려 간단한 방식으로 행동하는 것처럼 보이지만, 수십억 개의 뉴런으로 연결된 각각의 뉴런이있는 수십억 개의 방대한 네트워크로 구성됩니다. \n",
    "\n",
    "- 고도로 복잡한 계산은 매우 단순한 뉴런의 방대한 네트워크에 의해 수행 될 수 있습니다. 복잡한 개미가 단순한 개미의 결합 된 노력에서 나타날 수있는 것처럼. 생물학적 신경망 (BNN4)의 구조는 여전히 활발히 연구되고 있지만, 뇌의 일부분이 매핑되어 있으며, 뉴런은 종종 연속적인 계층으로 구성되는 것처럼 보입니다.\n",
    "\n",
    "\n",
    "### Logical computations with neurons\n",
    "\n",
    "- 워렌 맥컬록 (Walren McCulloch)과 월터 피츠 (Walter Pitts)는 생물학적 뉴런의 아주 간단한 모델을 제안했다.\n",
    "\n",
    "- 이 모델은 인공 뉴런으로 알려졌으며 하나 이상의 바이너리 (on / off) 입력과 하나의 바이너리 출력이 있다. 인공 뉴런은 일정 수 이상의 입력이 활성화 되었을 때 출력을 활성화 합니다. McCulloch와 Pitts는 그러한 단순화된 모델을 사용하더라도 원하는 모든 논리적 명제를 계산하는 인공 뉴런 네트워크를 구축하는 것이 가능하다는 것을 보여주었습니다. \n",
    "\n",
    "- 예를 들어, 입력의 적어도 두 개가 활성화되었을 때 뉴런이 활성화되었다고 가정하고 다양한 논리 연산을 수행하는 몇 개의 인공 신경망을 구축해 봅시다 (그림 10-3 참조).\n",
    "\n",
    "<img src ='./img/10_2.png'>\n",
    "\n",
    "    - 왼쪽의 첫 번째 네트워크는 단순히 identity 기능입니다 : 뉴런 A가 활성화되면 뉴런 C도 활성화됩니다 (뉴런 A에서 두 개의 입력 신호를 받기 때문에). 그러나 뉴런 A가 오프이면 뉴런 C가 오프됩니다.\n",
    "\n",
    "    - 두 번째 네트워크는 논리 AND를 수행합니다. 신경 C는 뉴런 A와 B가 활성화 된 경우에만 활성화 됩니다 (단일 입력 신호로는 뉴런 C를 활성화 할 수 없습니다).\n",
    "\n",
    "    - 세 번째 네트워크는 논리 OR을 수행합니다. 즉, 뉴런 A 또는 뉴론 B 중 하나가 활성화되거나 활성화 된 경우 뉴런 C가 활성화됩니다.\n",
    "\n",
    "    - 마지막으로, 입력 연결이 뉴런의 활동 (생물학적 뉴런의 경우)을 억제 할 수 있다고 가정하면 네 번째 네트워크는 약간 더 복잡한 논리 명제를 계산합니다. 뉴런 C는 뉴런 A가 활성화 되어 있고 뉴런 B가 꺼져 있습니다. 뉴런 A가 항상 활성화되어 있으면 논리적 NOT을 얻습니다. 즉, 뉴런 B가 꺼져있을 때 뉴런 C가 활성화되고 반대의 경우도 마찬가지입니다.\n",
    "\n",
    "- 위의 네트워크가 결합되어 복잡한 논리 표현식을 계산하는 방법을 쉽게 상상할 수 있습니다 (이 장의 마지막 부분에있는 실습 참조).\n",
    "\n",
    "\n",
    "### The Perceptron\n",
    "\n",
    "- Perceptron은 F. Rosenblatt가 1957 년에 발명 한 가장 단순한 ANN 아키텍처 중 하나입니다. LTU (Linear Threshold Unit)라고 하는 약간 다른 인공 뉴런 (그림 10-4 참조)을 기반으로 합니다. \n",
    "\n",
    "- 입력 및 출력은 이제 숫자가 되고 (바이너리 온 / 오프 값 대신) 각 입력 연결은 가중치와 연결됩니다 . LTU (z = w1x1 + w2x2 + ⋯ + wnxn = wTx)의 가중치 합을 계산하면 그 합계에 단계 함수를 적용하여 결과를 출력합니다. step(wTx)\n",
    "\n",
    "<img src ='./img/10_3.png'>\n",
    "\n",
    "- 단일 선형 이진 분류에 단일 LTU를 사용할 수 있습니다. \n",
    "\n",
    "- 입력의 선형 조합을 계산하고 결과가 임계 값을 초과하면 양수 클래스를 출력하거나 그렇지 않은 경우 Logistic Regression 분류기 또는 선형과 같이 음수 클래스를 출력합니다 (SVM). \n",
    "\n",
    "- 예를 들어, 하나의 LTU를 사용하여 꽃잎의 길이와 너비를 기반으로 아이리스 꽃을 분류 할 수 있습니다 (이전 장에서했던 것처럼 추가 바이어스 기능 x0 = 1 추가). LTU를 훈련한다는 것은 w0, w1 및 w2에 대한 올바른 값을 찾는 것을 의미합니다 (훈련 알고리즘은 아래에서 설명합니다).\n",
    "\n",
    "- 퍼셉트론은 LTU의 단일 층으로 구성되며, 각 뉴런은 모든 입력에 연결됩니다. 이러한 연결은 종종 입력 뉴런이라고하는 특수 통과 뉴런을 사용하여 표현됩니다. 입력 된 모든 입력을 출력합니다. 또한 추가 바이어스 특성이 일반적으로 추가됩니다 (x0 = 1). 이 바이어스 특성은 일반적으로 항상 1을 출력하는 바이어스 뉴런이라는 특별한 유형의 뉴런을 사용하여 표현됩니다.\n",
    "\n",
    "- 그림 10-5에서는 2 개의 입력과 3 개의 출력을 갖는 퍼셉트론을 나타냅니다. \n",
    "\n",
    "<img src ='./img/10_4.png'>\n",
    "\n",
    "- 퍼셉트론은 어떻게 훈련 받았습니까? F. Rosenblatt가 제안한 Perceptron 교육 알고리즘은 Hebb의 규칙에 크게 영향을 받았습니다. 도널드 헤브 (Donald Hebb)는 1949년에 출판 된 그의 책 \"행동의 조직\"에서 생물학적 뉴런이 종종 다른 뉴런을 촉발시킬 때 이 두 뉴런 사이의 연결이 더욱 강하게 성장한다고 제안했다.\n",
    "\n",
    "- 이 아이디어는 S. Löwel의 캐치 프레이즈 (catching phrase)에 의해 나중에 요약되었다. 이 규칙은 나중에 Hebb의 규칙 (또는 Hebbian 학습)으로 알려지게되었습니다. 두 개의 뉴런 간의 연결 무게는 동일한 출력을 가질 때마다 증가합니다.\n",
    "\n",
    "- 퍼셉트론은 네트워크에서 발생한 오류를 고려한 이 규칙의 변형을 사용하여 교육을 받습니다. 잘못된 출력으로 이어지는 연결을 강화하지는 못합니다. 보다 구체적으로 말하면, 퍼셉트론은 한 번에 하나의 훈련 인스턴스를 공급 받고, 각 인스턴스에 대해 예측을합니다. 잘못된 예측을 산출 한 모든 출력 뉴런에 대해 올바른 예측에 기여한 입력으로부터 연결 가중치를 강화합니다. 규칙은 식 10-2와 같습니다.\n",
    "\n",
    "- Hebbian Learning [http://www.aistudy.com/neural/hebbian_learning.htm]\n",
    "\n",
    "<img src ='./img/10_5.png'>\n",
    "\n",
    "- 각 출력 뉴런의 결정 경계는 선형이므로 Perceptron은 복잡한 패턴을 학습할 수 없습니다 (Logistic Regression 분류기와 유사함). 그러나, 훈련 인스턴스가 선형으로 분리 가능한 경우, F. Rosenblatt는이 알고리즘이 솔루션으로 수렴된다는 것을 입증했습니다. 이를 퍼셉트론 수렴 정리 (Perceptron convergence theorem)라고합니다.\n",
    "\n",
    "- Scikit-Learn은 단일 LTU 네트워크를 구현하는 Perceptron 클래스를 제공합니다. 예를 들어 아이리스 (Iris) 데이터 세트 (예 : 4 장에서 소개)에서 예상대로 사용할 수 있습니다."
   ]
  },
  {
   "cell_type": "code",
   "execution_count": 23,
   "metadata": {
    "collapsed": true
   },
   "outputs": [],
   "source": [
    "# To support both python 2 and python 3\n",
    "from __future__ import division, print_function, unicode_literals\n",
    "\n",
    "# Common imports\n",
    "import numpy as np\n",
    "import os\n",
    "\n",
    "# to make this notebook's output stable across runs\n",
    "def reset_graph(seed=42):\n",
    "    tf.reset_default_graph()\n",
    "    tf.set_random_seed(seed)\n",
    "    np.random.seed(seed)\n",
    "\n",
    "# To plot pretty figures\n",
    "%matplotlib inline\n",
    "import matplotlib\n",
    "import matplotlib.pyplot as plt\n",
    "plt.rcParams['axes.labelsize'] = 14\n",
    "plt.rcParams['xtick.labelsize'] = 12\n",
    "plt.rcParams['ytick.labelsize'] = 12\n",
    "\n",
    "# Where to save the figures\n",
    "PROJECT_ROOT_DIR = \".\"\n",
    "CHAPTER_ID = \"ann\"\n",
    "\n",
    "def save_fig(fig_id, tight_layout=True):\n",
    "    path = os.path.join(PROJECT_ROOT_DIR, \"img\", CHAPTER_ID, fig_id + \".png\")\n",
    "    print(\"Saving figure\", fig_id)\n",
    "    if tight_layout:\n",
    "        plt.tight_layout()\n",
    "    plt.savefig(path, format='png', dpi=300)"
   ]
  },
  {
   "cell_type": "code",
   "execution_count": 24,
   "metadata": {
    "collapsed": false
   },
   "outputs": [
    {
     "data": {
      "text/plain": [
       "Perceptron(alpha=0.0001, class_weight=None, eta0=1.0, fit_intercept=True,\n",
       "      n_iter=5, n_jobs=1, penalty=None, random_state=42, shuffle=True,\n",
       "      verbose=0, warm_start=False)"
      ]
     },
     "execution_count": 24,
     "metadata": {},
     "output_type": "execute_result"
    }
   ],
   "source": [
    "### The Perceptron\n",
    "\n",
    "import numpy as np\n",
    "from sklearn.datasets import load_iris\n",
    "from sklearn.linear_model import Perceptron\n",
    "\n",
    "iris = load_iris()\n",
    "X = iris.data[:, (2, 3)]  # petal length, petal width\n",
    "y = (iris.target == 0).astype(np.int)\n",
    "\n",
    "per_clf = Perceptron(random_state=42)\n",
    "per_clf.fit(X, y)"
   ]
  },
  {
   "cell_type": "code",
   "execution_count": 25,
   "metadata": {
    "collapsed": false
   },
   "outputs": [
    {
     "data": {
      "text/plain": [
       "array([[ 1.4,  0.2],\n",
       "       [ 1.3,  0.2],\n",
       "       [ 1.5,  0.2],\n",
       "       [ 1.4,  0.2],\n",
       "       [ 1.7,  0.4],\n",
       "       [ 1.4,  0.3],\n",
       "       [ 1.5,  0.2],\n",
       "       [ 1.4,  0.2],\n",
       "       [ 1.5,  0.1],\n",
       "       [ 1.5,  0.2],\n",
       "       [ 1.6,  0.2],\n",
       "       [ 1.4,  0.1],\n",
       "       [ 1.1,  0.1],\n",
       "       [ 1.2,  0.2],\n",
       "       [ 1.5,  0.4],\n",
       "       [ 1.3,  0.4],\n",
       "       [ 1.4,  0.3],\n",
       "       [ 1.7,  0.3],\n",
       "       [ 1.5,  0.3],\n",
       "       [ 1.7,  0.2],\n",
       "       [ 1.5,  0.4],\n",
       "       [ 1. ,  0.2],\n",
       "       [ 1.7,  0.5],\n",
       "       [ 1.9,  0.2],\n",
       "       [ 1.6,  0.2],\n",
       "       [ 1.6,  0.4],\n",
       "       [ 1.5,  0.2],\n",
       "       [ 1.4,  0.2],\n",
       "       [ 1.6,  0.2],\n",
       "       [ 1.6,  0.2],\n",
       "       [ 1.5,  0.4],\n",
       "       [ 1.5,  0.1],\n",
       "       [ 1.4,  0.2],\n",
       "       [ 1.5,  0.1],\n",
       "       [ 1.2,  0.2],\n",
       "       [ 1.3,  0.2],\n",
       "       [ 1.5,  0.1],\n",
       "       [ 1.3,  0.2],\n",
       "       [ 1.5,  0.2],\n",
       "       [ 1.3,  0.3],\n",
       "       [ 1.3,  0.3],\n",
       "       [ 1.3,  0.2],\n",
       "       [ 1.6,  0.6],\n",
       "       [ 1.9,  0.4],\n",
       "       [ 1.4,  0.3],\n",
       "       [ 1.6,  0.2],\n",
       "       [ 1.4,  0.2],\n",
       "       [ 1.5,  0.2],\n",
       "       [ 1.4,  0.2],\n",
       "       [ 4.7,  1.4],\n",
       "       [ 4.5,  1.5],\n",
       "       [ 4.9,  1.5],\n",
       "       [ 4. ,  1.3],\n",
       "       [ 4.6,  1.5],\n",
       "       [ 4.5,  1.3],\n",
       "       [ 4.7,  1.6],\n",
       "       [ 3.3,  1. ],\n",
       "       [ 4.6,  1.3],\n",
       "       [ 3.9,  1.4],\n",
       "       [ 3.5,  1. ],\n",
       "       [ 4.2,  1.5],\n",
       "       [ 4. ,  1. ],\n",
       "       [ 4.7,  1.4],\n",
       "       [ 3.6,  1.3],\n",
       "       [ 4.4,  1.4],\n",
       "       [ 4.5,  1.5],\n",
       "       [ 4.1,  1. ],\n",
       "       [ 4.5,  1.5],\n",
       "       [ 3.9,  1.1],\n",
       "       [ 4.8,  1.8],\n",
       "       [ 4. ,  1.3],\n",
       "       [ 4.9,  1.5],\n",
       "       [ 4.7,  1.2],\n",
       "       [ 4.3,  1.3],\n",
       "       [ 4.4,  1.4],\n",
       "       [ 4.8,  1.4],\n",
       "       [ 5. ,  1.7],\n",
       "       [ 4.5,  1.5],\n",
       "       [ 3.5,  1. ],\n",
       "       [ 3.8,  1.1],\n",
       "       [ 3.7,  1. ],\n",
       "       [ 3.9,  1.2],\n",
       "       [ 5.1,  1.6],\n",
       "       [ 4.5,  1.5],\n",
       "       [ 4.5,  1.6],\n",
       "       [ 4.7,  1.5],\n",
       "       [ 4.4,  1.3],\n",
       "       [ 4.1,  1.3],\n",
       "       [ 4. ,  1.3],\n",
       "       [ 4.4,  1.2],\n",
       "       [ 4.6,  1.4],\n",
       "       [ 4. ,  1.2],\n",
       "       [ 3.3,  1. ],\n",
       "       [ 4.2,  1.3],\n",
       "       [ 4.2,  1.2],\n",
       "       [ 4.2,  1.3],\n",
       "       [ 4.3,  1.3],\n",
       "       [ 3. ,  1.1],\n",
       "       [ 4.1,  1.3]])"
      ]
     },
     "execution_count": 25,
     "metadata": {},
     "output_type": "execute_result"
    }
   ],
   "source": [
    "X[1:100]"
   ]
  },
  {
   "cell_type": "code",
   "execution_count": 13,
   "metadata": {
    "collapsed": false
   },
   "outputs": [
    {
     "data": {
      "text/plain": [
       "array([1, 1, 1, 1, 1, 1, 1, 1, 1, 1, 1, 1, 1, 1, 1, 1, 1, 1, 1, 1, 1, 1, 1,\n",
       "       1, 1, 1, 1, 1, 1, 1, 1, 1, 1, 1, 1, 1, 1, 1, 1, 1, 1, 1, 1, 1, 1, 1,\n",
       "       1, 1, 1, 0, 0, 0, 0, 0, 0, 0, 0, 0, 0, 0, 0, 0, 0, 0, 0, 0, 0, 0, 0,\n",
       "       0, 0, 0, 0, 0, 0, 0, 0, 0, 0, 0, 0, 0, 0, 0, 0, 0, 0, 0, 0, 0, 0, 0,\n",
       "       0, 0, 0, 0, 0, 0, 0])"
      ]
     },
     "execution_count": 13,
     "metadata": {},
     "output_type": "execute_result"
    }
   ],
   "source": [
    "y[1:100]"
   ]
  },
  {
   "cell_type": "code",
   "execution_count": 26,
   "metadata": {
    "collapsed": false
   },
   "outputs": [],
   "source": [
    "y_pred = per_clf.predict([[2, 0.5]])"
   ]
  },
  {
   "cell_type": "code",
   "execution_count": 27,
   "metadata": {
    "collapsed": false
   },
   "outputs": [
    {
     "data": {
      "text/plain": [
       "array([1])"
      ]
     },
     "execution_count": 27,
     "metadata": {},
     "output_type": "execute_result"
    }
   ],
   "source": [
    "y_pred"
   ]
  },
  {
   "cell_type": "code",
   "execution_count": 29,
   "metadata": {
    "collapsed": false
   },
   "outputs": [
    {
     "name": "stderr",
     "output_type": "stream",
     "text": [
      "/Library/Frameworks/Python.framework/Versions/3.5/lib/python3.5/site-packages/numpy/ma/core.py:6385: MaskedArrayFutureWarning: In the future the default for ma.minimum.reduce will be axis=0, not the current None, to match np.minimum.reduce. Explicitly pass 0 or None to silence this warning.\n",
      "  return self.reduce(a)\n",
      "/Library/Frameworks/Python.framework/Versions/3.5/lib/python3.5/site-packages/numpy/ma/core.py:6385: MaskedArrayFutureWarning: In the future the default for ma.maximum.reduce will be axis=0, not the current None, to match np.maximum.reduce. Explicitly pass 0 or None to silence this warning.\n",
      "  return self.reduce(a)\n"
     ]
    },
    {
     "data": {
      "image/png": "[encoded data removed]",
      "text/plain": [
       "<matplotlib.figure.Figure at 0x10b63f080>"
      ]
     },
     "metadata": {},
     "output_type": "display_data"
    }
   ],
   "source": [
    "a = -per_clf.coef_[0][0] / per_clf.coef_[0][1]\n",
    "b = -per_clf.intercept_ / per_clf.coef_[0][1]\n",
    "\n",
    "axes = [0, 5, 0, 2]\n",
    "\n",
    "x0, x1 = np.meshgrid(\n",
    "        np.linspace(axes[0], axes[1], 500).reshape(-1, 1),\n",
    "        np.linspace(axes[2], axes[3], 200).reshape(-1, 1),\n",
    "    )\n",
    "X_new = np.c_[x0.ravel(), x1.ravel()]\n",
    "y_predict = per_clf.predict(X_new)\n",
    "zz = y_predict.reshape(x0.shape)\n",
    "\n",
    "plt.figure(figsize=(10, 4))\n",
    "plt.plot(X[y==0, 0], X[y==0, 1], \"bs\", label=\"Not Iris-Setosa\")\n",
    "plt.plot(X[y==1, 0], X[y==1, 1], \"yo\", label=\"Iris-Setosa\")\n",
    "\n",
    "plt.plot([axes[0], axes[1]], [a * axes[0] + b, a * axes[1] + b], \"k-\", linewidth=3)\n",
    "\n",
    "from matplotlib.colors import ListedColormap\n",
    "custom_cmap = ListedColormap(['#9898ff', '#fafab0'])\n",
    "\n",
    "plt.contourf(x0, x1, zz, cmap=custom_cmap, linewidth=5)\n",
    "plt.xlabel(\"Petal length\", fontsize=14)\n",
    "plt.ylabel(\"Petal width\", fontsize=14)\n",
    "plt.legend(loc=\"lower right\", fontsize=14)\n",
    "plt.axis(axes)\n",
    "\n",
    "#save_fig(\"perceptron_iris_plot\")\n",
    "plt.show()"
   ]
  },
  {
   "cell_type": "markdown",
   "metadata": {},
   "source": [
    "- Perceptron 학습 알고리즘이 Stochastic Gradient Descent와 매우 유사하다는 것을 알고있을 것입니다. 실제로 Scikit-Learn의 Perceptron 클래스는 다음과 같은 하이퍼 매개 변수와 함께 SGDClassifier를 사용하는 것과 같습니다. loss = \"perceptron\", learning_rate = \"constant\", eta0 = 1 (학습 속도) 및 penalty = None (규정 없음) .\n",
    "\n",
    "- 로지스틱 회귀 분류기와 달리 퍼셉트론은 클래스 확률을 출력하지 않으며 단지 하드 임계 값을 기반으로 예측을 수행합니다. 이것은 Perceptrons에 대한 Logistic Regression을 선호하는 좋은 이유 중 하나입니다.\n",
    "\n",
    "- \"Perceptrons\"라는 제목의 1969 년 논문에서, M. Minsky와 S. Papert는 Perceptrons의 심각한 약점, 특히 사소한 문제 (예 : Exclusive OR (XOR) 분류)를 해결할 수 없다는 사실을 강조했다. 문제는 그림 10-6의 왼쪽을 참조하십시오). 물론 이것은 다른 선형 분류 모델 (Logistic Regression 분류기)에서도 마찬가지이지만 연구자들은 Perceptrons에서 더 많은 것을 기대했으며 실망감은 컸다. 결과적으로 많은 연구자들이 연결주의를 완전히 삭제했다. 신경 네트워크의 연구) 논리, 문제 해결 및 검색과 같은 높은 수준의 문제에 찬성합니다.\n",
    "\n",
    "- 그러나 여러 가지 퍼셉트론을 겹쳐서 퍼셉트론의 한계를 해결할 수 있습니다. 결과 ANN을 MLP (Multi-Layer Perceptron)라고합니다. 특히 MLP는 그림 10-6 오른쪽에 표시된 MLP의 출력을 입력의 각 조합에 대해 입력 (0, 0) 또는 (1)로 계산하여 확인할 수 있으므로 XOR 문제를 해결할 수 있습니다 , 1) 네트워크는 0을 출력하고, 입력 (0, 1) 또는 (1, 0)을 출력하면 1을 출력합니다.\n",
    "\n",
    "<img src ='./img/10_6.png'>\n",
    "\n",
    "### Multi-Layer Perceptron and Backpropagation\n",
    "\n",
    "- MLP는 하나의 (패스 스루) 입력 레이어, 숨겨진 레이어라고하는 하나 이상의 LTU 레이어 및 출력 레이어라고하는 LTU의 최종 레이어로 구성됩니다 (그림 10-7 참조). 출력 레이어를 제외한 모든 레이어는 바이어스 뉴런을 포함하며 다음 레이어에 완전히 연결됩니다. ANN에 두 개 이상의 숨겨진 레이어가있는 경우이를 DNN (Deep Neural Network)이라고합니다.\n",
    "\n",
    "<img src ='./img/10_7.png'>\n",
    "\n",
    "- 수년 동안 연구자들은 성공하지 못하고 MLP를 훈련시키는 방법을 찾는데 어려움을 겪었습니다. 그러나 1986 년 D. Rumelhart et al. backpropagation training algorithm을 도입한 획기적인 기사 7을 발표했습니다. 오늘 우리는 reverse-mode autodiff (Gradient Descent는 4 장에서 소개되었고 autodiff는 9 장에서 논의 됨)를 사용하여 Gradient Descent로 설명 할 것입니다.\n",
    "\n",
    "- 각 훈련 인스턴스에 대해 알고리즘은 네트워크에 피드를 제공하고 각 연속 레이어의 모든 뉴런 출력을 계산합니다 (예상을 만들 때와 마찬가지로 순방향 전달입니다). 그런 다음 네트워크의 출력 오류 (예 : 원하는 출력과 네트워크의 실제 출력 간의 차이)를 측정하고 마지막 숨겨진 계층의 각 뉴런이 각 출력 뉴런의 오류에 기여한 정도를 계산합니다. 그런 다음 이전에 숨겨진 계층의 각 뉴런에서 발생한 오류 기여도를 측정합니다.\n",
    "\n",
    "- 알고리즘이 입력 레이어에 도달 할 때까지 계속됩니다. 역 통과는 네트워크에서 오류 그라디언트를 역방향으로 전파함으로써 네트워크의 모든 연결 가중치에 대한 오류 그라데이션을 효율적으로 측정합니다 (따라서 알고리즘의 이름). 부록 D에서 역 모드 자동 디코딩 알고리즘을 체크 아웃하면, 역 전파의 순방향 및 역방향 패스가 단순히 역방향 모드 자동 확산을 수행한다는 것을 알 수 있습니다. 역 전파 알고리즘의 마지막 단계는 이전 측정 된 오류 기울기를 사용하여 네트워크의 모든 연결 가중치에 대한 그라데이션 하강 단계입니다.\n",
    "\n",
    "- 각 학습 인스턴스에 대해 역전파 알고리즘은 먼저 예측 (순방향 통과)을 수행하고 오류를 측정 한 다음 각 계층을 역순으로 통과하여 각 연결 (역 통과)에서 오류 기여도를 측정하고 최종적으로 오류를 줄이기 위해 연결 가중치를 약간 조정합니다 (그래디언트 하강 단계).\n",
    "\n",
    "- 이 알고리즘이 제대로 작동하려면 작성자는 MLP의 아키텍처를 크게 변경했습니다. 즉, 단계 함수를 σz = 1 / 1 + exp - z로 바꿉니다. 계단 함수에는 평면 세그먼트만 포함되어 있기 때문에 필수적이었습니다. 그래디언트 디센트가 고정되어있는 반면, 로지스틱 함수는 어디에서나 잘 정의 된 비제로 파생 값을 갖기 때문에 필수적이었습니다. 모든 단계. backpropagation 알고리즘은 물류 기능 대신 다른 활성화 함수와 함께 사용될 수 있습니다. 두 가지 다른 인기있는 정품 인증 기능은 다음과 같습니다.\n",
    "\n",
    "### Activation Function\n",
    "\n",
    "- 하이퍼 볼릭 탄젠트 함수는 logistic 함수처럼 \"S\"모양이며 연속적이고 차별화가 가능하지만 출력 값의 범위는 -1에서 1까지입니다 (예 : 로지스틱 함수) 각 레이어의 출력을 더 많거나 적게 정규화 (즉, 0을 중심으로)하는 경향이 있습니다. 이렇게 하면 수렴 속도가 빨라집니다.\n",
    "\n",
    "- ReLU 함수 (9 장에서 소개) : ReLU z = max (0, z) 그것은 연속적이지만 불행하게도 z = 0에서 구별 할 수 없습니다. 그러나 실제로는 매우 잘 작동하며 계산이 매우 빠르다는 이점이 있습니다. 또한 최대 출력 값이 없다는 사실은 그라디언트 디센트 (그라디언트 채도) 중 일부 문제를 줄이는 데 도움이됩니다."
   ]
  },
  {
   "cell_type": "code",
   "execution_count": 30,
   "metadata": {
    "collapsed": true
   },
   "outputs": [],
   "source": [
    "def logit(z):\n",
    "    return 1 / (1 + np.exp(-z))\n",
    "\n",
    "def relu(z):\n",
    "    return np.maximum(0, z)\n",
    "\n",
    "def derivative(f, z, eps=0.000001):\n",
    "    return (f(z + eps) - f(z - eps))/(2 * eps)"
   ]
  },
  {
   "cell_type": "code",
   "execution_count": 32,
   "metadata": {
    "collapsed": false
   },
   "outputs": [
    {
     "data": {
      "image/png": "[encoded data removed]",
      "text/plain": [
       "<matplotlib.figure.Figure at 0x10ca302e8>"
      ]
     },
     "metadata": {},
     "output_type": "display_data"
    }
   ],
   "source": [
    "z = np.linspace(-5, 5, 200)\n",
    "\n",
    "plt.figure(figsize=(11,4))\n",
    "\n",
    "plt.subplot(121)\n",
    "plt.plot(z, np.sign(z), \"r-\", linewidth=2, label=\"Step\")\n",
    "plt.plot(z, logit(z), \"g--\", linewidth=2, label=\"Logit\")\n",
    "plt.plot(z, np.tanh(z), \"b-\", linewidth=2, label=\"Tanh\")\n",
    "plt.plot(z, relu(z), \"m-.\", linewidth=2, label=\"ReLU\")\n",
    "plt.grid(True)\n",
    "plt.legend(loc=\"center right\", fontsize=14)\n",
    "plt.title(\"Activation functions\", fontsize=14)\n",
    "plt.axis([-5, 5, -1.2, 1.2])\n",
    "\n",
    "plt.subplot(122)\n",
    "plt.plot(z, derivative(np.sign, z), \"r-\", linewidth=2, label=\"Step\")\n",
    "plt.plot(0, 0, \"ro\", markersize=5)\n",
    "plt.plot(0, 0, \"rx\", markersize=10)\n",
    "plt.plot(z, derivative(logit, z), \"g--\", linewidth=2, label=\"Logit\")\n",
    "plt.plot(z, derivative(np.tanh, z), \"b-\", linewidth=2, label=\"Tanh\")\n",
    "plt.plot(z, derivative(relu, z), \"m-.\", linewidth=2, label=\"ReLU\")\n",
    "plt.grid(True)\n",
    "#plt.legend(loc=\"center right\", fontsize=14)\n",
    "plt.title(\"Derivatives\", fontsize=14)\n",
    "plt.axis([-5, 5, -0.2, 1.2])\n",
    "\n",
    "#save_fig(\"activation_functions_plot\")\n",
    "plt.show()"
   ]
  },
  {
   "cell_type": "code",
   "execution_count": 34,
   "metadata": {
    "collapsed": true
   },
   "outputs": [],
   "source": [
    "def heaviside(z):\n",
    "    return (z >= 0).astype(z.dtype)\n",
    "\n",
    "def sigmoid(z):\n",
    "    return 1/(1+np.exp(-z))\n",
    "\n",
    "def mlp_xor(x1, x2, activation=heaviside):\n",
    "    return activation(-activation(x1 + x2 - 1.5) + activation(x1 + x2 - 0.5) - 0.5)"
   ]
  },
  {
   "cell_type": "code",
   "execution_count": 35,
   "metadata": {
    "collapsed": false
   },
   "outputs": [
    {
     "name": "stderr",
     "output_type": "stream",
     "text": [
      "/Library/Frameworks/Python.framework/Versions/3.5/lib/python3.5/site-packages/numpy/ma/core.py:6385: MaskedArrayFutureWarning: In the future the default for ma.minimum.reduce will be axis=0, not the current None, to match np.minimum.reduce. Explicitly pass 0 or None to silence this warning.\n",
      "  return self.reduce(a)\n",
      "/Library/Frameworks/Python.framework/Versions/3.5/lib/python3.5/site-packages/numpy/ma/core.py:6385: MaskedArrayFutureWarning: In the future the default for ma.maximum.reduce will be axis=0, not the current None, to match np.maximum.reduce. Explicitly pass 0 or None to silence this warning.\n",
      "  return self.reduce(a)\n"
     ]
    },
    {
     "data": {
      "image/png": "[encoded data removed]",
      "text/plain": [
       "<matplotlib.figure.Figure at 0x10b65b978>"
      ]
     },
     "metadata": {},
     "output_type": "display_data"
    }
   ],
   "source": [
    "x1s = np.linspace(-0.2, 1.2, 100)\n",
    "x2s = np.linspace(-0.2, 1.2, 100)\n",
    "x1, x2 = np.meshgrid(x1s, x2s)\n",
    "\n",
    "z1 = mlp_xor(x1, x2, activation=heaviside)\n",
    "z2 = mlp_xor(x1, x2, activation=sigmoid)\n",
    "\n",
    "plt.figure(figsize=(10,4))\n",
    "\n",
    "plt.subplot(121)\n",
    "plt.contourf(x1, x2, z1)\n",
    "plt.plot([0, 1], [0, 1], \"gs\", markersize=20)\n",
    "plt.plot([0, 1], [1, 0], \"y^\", markersize=20)\n",
    "plt.title(\"Activation function: heaviside\", fontsize=14)\n",
    "plt.grid(True)\n",
    "\n",
    "plt.subplot(122)\n",
    "plt.contourf(x1, x2, z2)\n",
    "plt.plot([0, 1], [0, 1], \"gs\", markersize=20)\n",
    "plt.plot([0, 1], [1, 0], \"y^\", markersize=20)\n",
    "plt.title(\"Activation function: sigmoid\", fontsize=14)\n",
    "plt.grid(True)"
   ]
  },
  {
   "cell_type": "code",
   "execution_count": 85,
   "metadata": {
    "collapsed": false
   },
   "outputs": [
    {
     "data": {
      "text/plain": [
       "array([[ 0.,  0.,  0., ...,  1.,  1.,  1.],\n",
       "       [ 0.,  0.,  0., ...,  1.,  1.,  1.],\n",
       "       [ 0.,  0.,  0., ...,  1.,  1.,  1.],\n",
       "       ..., \n",
       "       [ 1.,  1.,  1., ...,  0.,  0.,  0.],\n",
       "       [ 1.,  1.,  1., ...,  0.,  0.,  0.],\n",
       "       [ 1.,  1.,  1., ...,  0.,  0.,  0.]])"
      ]
     },
     "execution_count": 85,
     "metadata": {},
     "output_type": "execute_result"
    }
   ],
   "source": [
    "z1"
   ]
  },
  {
   "cell_type": "code",
   "execution_count": 86,
   "metadata": {
    "collapsed": false
   },
   "outputs": [
    {
     "data": {
      "text/plain": [
       "array([[ 0.4155525 ,  0.41586968,  0.416187  , ...,  0.43656188,\n",
       "         0.43657038,  0.43657321],\n",
       "       [ 0.41586968,  0.416187  ,  0.41650443, ...,  0.43657038,\n",
       "         0.43657321,  0.43657038],\n",
       "       [ 0.416187  ,  0.41650443,  0.41682188, ...,  0.43657321,\n",
       "         0.43657038,  0.43656188],\n",
       "       ..., \n",
       "       [ 0.43656188,  0.43657038,  0.43657321, ...,  0.41682188,\n",
       "         0.41650443,  0.416187  ],\n",
       "       [ 0.43657038,  0.43657321,  0.43657038, ...,  0.41650443,\n",
       "         0.416187  ,  0.41586968],\n",
       "       [ 0.43657321,  0.43657038,  0.43656188, ...,  0.416187  ,\n",
       "         0.41586968,  0.4155525 ]])"
      ]
     },
     "execution_count": 86,
     "metadata": {},
     "output_type": "execute_result"
    }
   ],
   "source": [
    "z2"
   ]
  },
  {
   "cell_type": "markdown",
   "metadata": {},
   "source": [
    "- MLP는 분류에 자주 사용되며 각 출력은 다른 바이너리 클래스 (예 : 스팸 / 햄, 긴급 / 비 긴급 등)에 해당합니다. 클래스가 배타적 인 경우 (예 : 숫자 이미지 분류의 경우 클래스 0-9) 출력 레이어는 일반적으로 개별 활성화 함수를 공유 softmax 함수로 대체하여 수정됩니다 (그림 10-9 참조). softmax 함수는 3 장에서 소개되었습니다. 각 뉴런의 출력은 해당 클래스의 예상 확률에 해당합니다. 신호는 한 방향 (입력에서 출력까지)으로 만 흐릅니다. 따라서이 아키텍처는 FNN (Feedforward Neural Network)의 예입니다.\n",
    "\n",
    "<img src ='./img/10_8.png'>\n",
    "\n",
    "### Training an MLP with TensorFlow’s high level API\n",
    "\n",
    "- TensorFlow를 사용하여 MLP를 학습하는 가장 간단한 방법은 Scikit-Learn의 API와 매우 유사한 상위 레벨 API TF.Learn을 사용하는 것입니다. \n",
    "\n",
    "- DNNClassifier 클래스는 임의의 수의 숨겨진 레이어로 Deep Neural Network를 학습하고 Softmax 출력 레이어를 사용하여 예상되는 클래스 확률을 산출하는 것을 쉽게 만듭니다. \n",
    "\n",
    "- 예를 들어, 다음 코드는 두 개의 숨겨진 레이어 (300 개의 뉴런이있는 레이어와 100 개의 뉴런이있는 레이어)와 10 개의 뉴런이있는 softmax 출력 레이어로 DNN을 분류합니다."
   ]
  },
  {
   "cell_type": "code",
   "execution_count": 37,
   "metadata": {
    "collapsed": true
   },
   "outputs": [],
   "source": [
    "from tensorflow.examples.tutorials.mnist import input_data"
   ]
  },
  {
   "cell_type": "code",
   "execution_count": 38,
   "metadata": {
    "collapsed": false
   },
   "outputs": [
    {
     "name": "stdout",
     "output_type": "stream",
     "text": [
      "Successfully downloaded train-images-idx3-ubyte.gz 9912422 bytes.\n",
      "Extracting /tmp/data/train-images-idx3-ubyte.gz\n",
      "Successfully downloaded train-labels-idx1-ubyte.gz 28881 bytes.\n",
      "Extracting /tmp/data/train-labels-idx1-ubyte.gz\n",
      "Successfully downloaded t10k-images-idx3-ubyte.gz 1648877 bytes.\n",
      "Extracting /tmp/data/t10k-images-idx3-ubyte.gz\n",
      "Successfully downloaded t10k-labels-idx1-ubyte.gz 4542 bytes.\n",
      "Extracting /tmp/data/t10k-labels-idx1-ubyte.gz\n"
     ]
    }
   ],
   "source": [
    "mnist = input_data.read_data_sets(\"/tmp/data/\")"
   ]
  },
  {
   "cell_type": "code",
   "execution_count": 39,
   "metadata": {
    "collapsed": true
   },
   "outputs": [],
   "source": [
    "X_train = mnist.train.images\n",
    "X_test = mnist.test.images\n",
    "y_train = mnist.train.labels.astype(\"int\")\n",
    "y_test = mnist.test.labels.astype(\"int\")"
   ]
  },
  {
   "cell_type": "code",
   "execution_count": 93,
   "metadata": {
    "collapsed": false
   },
   "outputs": [
    {
     "data": {
      "text/plain": [
       "(55000, 784)"
      ]
     },
     "execution_count": 93,
     "metadata": {},
     "output_type": "execute_result"
    }
   ],
   "source": [
    "X_train.shape"
   ]
  },
  {
   "cell_type": "code",
   "execution_count": 94,
   "metadata": {
    "collapsed": false
   },
   "outputs": [
    {
     "data": {
      "text/plain": [
       "(10000, 784)"
      ]
     },
     "execution_count": 94,
     "metadata": {},
     "output_type": "execute_result"
    }
   ],
   "source": [
    "X_test.shape"
   ]
  },
  {
   "cell_type": "code",
   "execution_count": 40,
   "metadata": {
    "collapsed": false
   },
   "outputs": [
    {
     "name": "stdout",
     "output_type": "stream",
     "text": [
      "WARNING:tensorflow:Using temporary folder as model directory: /var/folders/b1/6r6n8ptx4r9cq1rvs075k7j00000gn/T/tmp7felyjwd\n",
      "INFO:tensorflow:Using config: {'_num_ps_replicas': 0, '_keep_checkpoint_max': 5, '_save_summary_steps': 100, '_save_checkpoints_secs': 600, '_master': '', '_num_worker_replicas': 0, '_save_checkpoints_steps': None, '_environment': 'local', '_is_chief': True, '_task_id': 0, '_task_type': None, '_tf_random_seed': 42, '_model_dir': '/var/folders/b1/6r6n8ptx4r9cq1rvs075k7j00000gn/T/tmp7felyjwd', '_evaluation_master': '', '_cluster_spec': <tensorflow.python.training.server_lib.ClusterSpec object at 0x118dae7f0>, '_tf_config': gpu_options {\n",
      "  per_process_gpu_memory_fraction: 1\n",
      "}\n",
      ", '_session_config': None, '_keep_checkpoint_every_n_hours': 10000}\n",
      "WARNING:tensorflow:From /Library/Frameworks/Python.framework/Versions/3.5/lib/python3.5/site-packages/tensorflow/contrib/learn/python/learn/estimators/head.py:625: scalar_summary (from tensorflow.python.ops.logging_ops) is deprecated and will be removed after 2016-11-30.\n",
      "Instructions for updating:\n",
      "Please switch to tf.summary.scalar. Note that tf.summary.scalar uses the node name instead of the tag. This means that TensorFlow will automatically de-duplicate summary names based on the scope they are created in. Also, passing a tensor or list of tags to a scalar summary op is no longer supported.\n",
      "INFO:tensorflow:Create CheckpointSaverHook.\n",
      "INFO:tensorflow:Saving checkpoints for 1 into /var/folders/b1/6r6n8ptx4r9cq1rvs075k7j00000gn/T/tmp7felyjwd/model.ckpt.\n",
      "INFO:tensorflow:step = 1, loss = 2.36404\n",
      "INFO:tensorflow:global_step/sec: 236.341\n",
      "INFO:tensorflow:step = 101, loss = 0.309677 (0.425 sec)\n",
      "INFO:tensorflow:global_step/sec: 233.446\n",
      "INFO:tensorflow:step = 201, loss = 0.254103 (0.430 sec)\n",
      "INFO:tensorflow:global_step/sec: 198.765\n",
      "INFO:tensorflow:step = 301, loss = 0.403251 (0.501 sec)\n",
      "INFO:tensorflow:global_step/sec: 182.899\n",
      "INFO:tensorflow:step = 401, loss = 0.248612 (0.547 sec)\n",
      "INFO:tensorflow:global_step/sec: 167.57\n",
      "INFO:tensorflow:step = 501, loss = 0.238972 (0.598 sec)\n",
      "INFO:tensorflow:global_step/sec: 206.801\n",
      "INFO:tensorflow:step = 601, loss = 0.0964612 (0.486 sec)\n",
      "INFO:tensorflow:global_step/sec: 200.858\n",
      "INFO:tensorflow:step = 701, loss = 0.119384 (0.495 sec)\n",
      "INFO:tensorflow:global_step/sec: 216.549\n",
      "INFO:tensorflow:step = 801, loss = 0.184879 (0.461 sec)\n",
      "INFO:tensorflow:global_step/sec: 240.536\n",
      "INFO:tensorflow:step = 901, loss = 0.093465 (0.416 sec)\n",
      "INFO:tensorflow:global_step/sec: 231.749\n",
      "INFO:tensorflow:step = 1001, loss = 0.206881 (0.431 sec)\n",
      "INFO:tensorflow:global_step/sec: 179.577\n",
      "INFO:tensorflow:step = 1101, loss = 0.187316 (0.557 sec)\n",
      "INFO:tensorflow:global_step/sec: 181.293\n",
      "INFO:tensorflow:step = 1201, loss = 0.1543 (0.552 sec)\n",
      "INFO:tensorflow:global_step/sec: 213.664\n",
      "INFO:tensorflow:step = 1301, loss = 0.163595 (0.468 sec)\n",
      "INFO:tensorflow:global_step/sec: 210.846\n",
      "INFO:tensorflow:step = 1401, loss = 0.0720562 (0.476 sec)\n",
      "INFO:tensorflow:global_step/sec: 235.117\n",
      "INFO:tensorflow:step = 1501, loss = 0.0723128 (0.424 sec)\n",
      "INFO:tensorflow:global_step/sec: 187.517\n",
      "INFO:tensorflow:step = 1601, loss = 0.121916 (0.533 sec)\n",
      "INFO:tensorflow:global_step/sec: 232.848\n",
      "INFO:tensorflow:step = 1701, loss = 0.039761 (0.430 sec)\n",
      "INFO:tensorflow:global_step/sec: 237.398\n",
      "INFO:tensorflow:step = 1801, loss = 0.152173 (0.421 sec)\n",
      "INFO:tensorflow:global_step/sec: 234.481\n",
      "INFO:tensorflow:step = 1901, loss = 0.070405 (0.426 sec)\n",
      "INFO:tensorflow:global_step/sec: 228.987\n",
      "INFO:tensorflow:step = 2001, loss = 0.0662507 (0.437 sec)\n",
      "INFO:tensorflow:global_step/sec: 229.368\n",
      "INFO:tensorflow:step = 2101, loss = 0.0241838 (0.436 sec)\n",
      "INFO:tensorflow:global_step/sec: 229.765\n",
      "INFO:tensorflow:step = 2201, loss = 0.0292274 (0.435 sec)\n",
      "INFO:tensorflow:global_step/sec: 214.372\n",
      "INFO:tensorflow:step = 2301, loss = 0.0513423 (0.469 sec)\n",
      "INFO:tensorflow:global_step/sec: 230.972\n",
      "INFO:tensorflow:step = 2401, loss = 0.0555448 (0.430 sec)\n",
      "INFO:tensorflow:global_step/sec: 233.022\n",
      "INFO:tensorflow:step = 2501, loss = 0.0884138 (0.429 sec)\n",
      "INFO:tensorflow:global_step/sec: 223.948\n",
      "INFO:tensorflow:step = 2601, loss = 0.0315207 (0.446 sec)\n",
      "INFO:tensorflow:global_step/sec: 185.018\n",
      "INFO:tensorflow:step = 2701, loss = 0.0126636 (0.540 sec)\n",
      "INFO:tensorflow:global_step/sec: 188.297\n",
      "INFO:tensorflow:step = 2801, loss = 0.0514662 (0.531 sec)\n",
      "INFO:tensorflow:global_step/sec: 169.7\n",
      "INFO:tensorflow:step = 2901, loss = 0.088122 (0.589 sec)\n",
      "INFO:tensorflow:global_step/sec: 194.791\n",
      "INFO:tensorflow:step = 3001, loss = 0.0138777 (0.518 sec)\n",
      "INFO:tensorflow:global_step/sec: 176.051\n",
      "INFO:tensorflow:step = 3101, loss = 0.044173 (0.565 sec)\n",
      "INFO:tensorflow:global_step/sec: 148.213\n",
      "INFO:tensorflow:step = 3201, loss = 0.0120668 (0.678 sec)\n",
      "INFO:tensorflow:global_step/sec: 160.766\n",
      "INFO:tensorflow:step = 3301, loss = 0.0452911 (0.618 sec)\n",
      "INFO:tensorflow:global_step/sec: 143.508\n",
      "INFO:tensorflow:step = 3401, loss = 0.152817 (0.702 sec)\n",
      "INFO:tensorflow:global_step/sec: 135.716\n",
      "INFO:tensorflow:step = 3501, loss = 0.0838171 (0.732 sec)\n",
      "INFO:tensorflow:global_step/sec: 151.514\n",
      "INFO:tensorflow:step = 3601, loss = 0.156769 (0.662 sec)\n",
      "INFO:tensorflow:global_step/sec: 170.183\n",
      "INFO:tensorflow:step = 3701, loss = 0.0343551 (0.585 sec)\n",
      "INFO:tensorflow:global_step/sec: 183.818\n",
      "INFO:tensorflow:step = 3801, loss = 0.00878235 (0.544 sec)\n",
      "INFO:tensorflow:global_step/sec: 161.663\n",
      "INFO:tensorflow:step = 3901, loss = 0.152629 (0.619 sec)\n",
      "INFO:tensorflow:global_step/sec: 133.429\n",
      "INFO:tensorflow:step = 4001, loss = 0.0950618 (0.749 sec)\n",
      "INFO:tensorflow:global_step/sec: 138.611\n",
      "INFO:tensorflow:step = 4101, loss = 0.0524628 (0.723 sec)\n",
      "INFO:tensorflow:global_step/sec: 146.598\n",
      "INFO:tensorflow:step = 4201, loss = 0.0629685 (0.680 sec)\n",
      "INFO:tensorflow:global_step/sec: 176.771\n",
      "INFO:tensorflow:step = 4301, loss = 0.166633 (0.569 sec)\n",
      "INFO:tensorflow:global_step/sec: 188.93\n",
      "INFO:tensorflow:step = 4401, loss = 0.108088 (0.526 sec)\n",
      "INFO:tensorflow:global_step/sec: 186.435\n",
      "INFO:tensorflow:step = 4501, loss = 0.0167887 (0.537 sec)\n",
      "INFO:tensorflow:global_step/sec: 202.067\n",
      "INFO:tensorflow:step = 4601, loss = 0.0170214 (0.494 sec)\n",
      "INFO:tensorflow:global_step/sec: 203.425\n",
      "INFO:tensorflow:step = 4701, loss = 0.00988497 (0.492 sec)\n",
      "INFO:tensorflow:global_step/sec: 205.539\n",
      "INFO:tensorflow:step = 4801, loss = 0.0218255 (0.486 sec)\n",
      "INFO:tensorflow:global_step/sec: 191.174\n",
      "INFO:tensorflow:step = 4901, loss = 0.0958064 (0.523 sec)\n",
      "INFO:tensorflow:global_step/sec: 209.117\n",
      "INFO:tensorflow:step = 5001, loss = 0.032898 (0.478 sec)\n",
      "INFO:tensorflow:global_step/sec: 236.635\n",
      "INFO:tensorflow:step = 5101, loss = 0.00692303 (0.423 sec)\n",
      "INFO:tensorflow:global_step/sec: 207.101\n",
      "INFO:tensorflow:step = 5201, loss = 0.0374796 (0.483 sec)\n",
      "INFO:tensorflow:global_step/sec: 207.882\n",
      "INFO:tensorflow:step = 5301, loss = 0.0408561 (0.481 sec)\n",
      "INFO:tensorflow:global_step/sec: 225.816\n",
      "INFO:tensorflow:step = 5401, loss = 0.0703828 (0.443 sec)\n",
      "INFO:tensorflow:global_step/sec: 213.451\n",
      "INFO:tensorflow:step = 5501, loss = 0.0597546 (0.468 sec)\n",
      "INFO:tensorflow:global_step/sec: 208.075\n",
      "INFO:tensorflow:step = 5601, loss = 0.0637175 (0.481 sec)\n",
      "INFO:tensorflow:global_step/sec: 228.373\n",
      "INFO:tensorflow:step = 5701, loss = 0.0142295 (0.438 sec)\n",
      "INFO:tensorflow:global_step/sec: 235.248\n",
      "INFO:tensorflow:step = 5801, loss = 0.008777 (0.425 sec)\n",
      "INFO:tensorflow:global_step/sec: 215.306\n",
      "INFO:tensorflow:step = 5901, loss = 0.0868253 (0.464 sec)\n",
      "INFO:tensorflow:global_step/sec: 222.961\n",
      "INFO:tensorflow:step = 6001, loss = 0.109432 (0.453 sec)\n",
      "INFO:tensorflow:global_step/sec: 224.828\n",
      "INFO:tensorflow:step = 6101, loss = 0.0131425 (0.441 sec)\n",
      "INFO:tensorflow:global_step/sec: 226.608\n",
      "INFO:tensorflow:step = 6201, loss = 0.0240843 (0.442 sec)\n",
      "INFO:tensorflow:global_step/sec: 208.149\n",
      "INFO:tensorflow:step = 6301, loss = 0.085723 (0.480 sec)\n",
      "INFO:tensorflow:global_step/sec: 227.017\n",
      "INFO:tensorflow:step = 6401, loss = 0.0259363 (0.440 sec)\n",
      "INFO:tensorflow:global_step/sec: 225.082\n",
      "INFO:tensorflow:step = 6501, loss = 0.00852303 (0.444 sec)\n",
      "INFO:tensorflow:global_step/sec: 203.26\n",
      "INFO:tensorflow:step = 6601, loss = 0.0227815 (0.492 sec)\n",
      "INFO:tensorflow:global_step/sec: 215.973\n",
      "INFO:tensorflow:step = 6701, loss = 0.0275877 (0.463 sec)\n",
      "INFO:tensorflow:global_step/sec: 240.731\n",
      "INFO:tensorflow:step = 6801, loss = 0.0085514 (0.415 sec)\n",
      "INFO:tensorflow:global_step/sec: 228.485\n",
      "INFO:tensorflow:step = 6901, loss = 0.0113093 (0.438 sec)\n",
      "INFO:tensorflow:global_step/sec: 239.597\n",
      "INFO:tensorflow:step = 7001, loss = 0.0190613 (0.417 sec)\n",
      "INFO:tensorflow:global_step/sec: 225.399\n",
      "INFO:tensorflow:step = 7101, loss = 0.00409009 (0.446 sec)\n",
      "INFO:tensorflow:global_step/sec: 222.782\n",
      "INFO:tensorflow:step = 7201, loss = 0.0582136 (0.447 sec)\n",
      "INFO:tensorflow:global_step/sec: 224.37\n",
      "INFO:tensorflow:step = 7301, loss = 0.00672715 (0.446 sec)\n",
      "INFO:tensorflow:global_step/sec: 221.423\n",
      "INFO:tensorflow:step = 7401, loss = 0.0127499 (0.451 sec)\n",
      "INFO:tensorflow:global_step/sec: 214.461\n",
      "INFO:tensorflow:step = 7501, loss = 0.005338 (0.466 sec)\n",
      "INFO:tensorflow:global_step/sec: 221.736\n",
      "INFO:tensorflow:step = 7601, loss = 0.0160609 (0.451 sec)\n",
      "INFO:tensorflow:global_step/sec: 217.892\n",
      "INFO:tensorflow:step = 7701, loss = 0.00499156 (0.459 sec)\n",
      "INFO:tensorflow:global_step/sec: 214.017\n",
      "INFO:tensorflow:step = 7801, loss = 0.00483353 (0.467 sec)\n",
      "INFO:tensorflow:global_step/sec: 212.809\n",
      "INFO:tensorflow:step = 7901, loss = 0.00696935 (0.471 sec)\n",
      "INFO:tensorflow:global_step/sec: 225.951\n",
      "INFO:tensorflow:step = 8001, loss = 0.00272221 (0.442 sec)\n",
      "INFO:tensorflow:global_step/sec: 215.78\n",
      "INFO:tensorflow:step = 8101, loss = 0.0217708 (0.463 sec)\n",
      "INFO:tensorflow:global_step/sec: 231.077\n",
      "INFO:tensorflow:step = 8201, loss = 0.0288787 (0.435 sec)\n",
      "INFO:tensorflow:global_step/sec: 229.671\n",
      "INFO:tensorflow:step = 8301, loss = 0.0539877 (0.433 sec)\n",
      "INFO:tensorflow:global_step/sec: 227.003\n",
      "INFO:tensorflow:step = 8401, loss = 0.00857862 (0.441 sec)\n",
      "INFO:tensorflow:global_step/sec: 226.171\n",
      "INFO:tensorflow:step = 8501, loss = 0.00668675 (0.443 sec)\n",
      "INFO:tensorflow:global_step/sec: 227.237\n",
      "INFO:tensorflow:step = 8601, loss = 0.00526417 (0.439 sec)\n",
      "INFO:tensorflow:global_step/sec: 201.677\n",
      "INFO:tensorflow:step = 8701, loss = 0.00431127 (0.496 sec)\n",
      "INFO:tensorflow:global_step/sec: 212.759\n",
      "INFO:tensorflow:step = 8801, loss = 0.00488374 (0.470 sec)\n",
      "INFO:tensorflow:global_step/sec: 218.212\n",
      "INFO:tensorflow:step = 8901, loss = 0.00250303 (0.458 sec)\n",
      "INFO:tensorflow:global_step/sec: 220.533\n",
      "INFO:tensorflow:step = 9001, loss = 0.0148685 (0.453 sec)\n",
      "INFO:tensorflow:global_step/sec: 220.048\n",
      "INFO:tensorflow:step = 9101, loss = 0.00912793 (0.454 sec)\n",
      "INFO:tensorflow:global_step/sec: 227.836\n",
      "INFO:tensorflow:step = 9201, loss = 0.00432368 (0.439 sec)\n",
      "INFO:tensorflow:global_step/sec: 234.527\n",
      "INFO:tensorflow:step = 9301, loss = 0.0138446 (0.427 sec)\n",
      "INFO:tensorflow:global_step/sec: 233.093\n",
      "INFO:tensorflow:step = 9401, loss = 0.0518277 (0.429 sec)\n",
      "INFO:tensorflow:global_step/sec: 214.385\n",
      "INFO:tensorflow:step = 9501, loss = 0.00607764 (0.467 sec)\n",
      "INFO:tensorflow:global_step/sec: 158.878\n",
      "INFO:tensorflow:step = 9601, loss = 0.0207135 (0.631 sec)\n",
      "INFO:tensorflow:global_step/sec: 179.842\n",
      "INFO:tensorflow:step = 9701, loss = 0.0166932 (0.555 sec)\n",
      "INFO:tensorflow:global_step/sec: 143.294\n",
      "INFO:tensorflow:step = 9801, loss = 0.00487015 (0.707 sec)\n",
      "INFO:tensorflow:global_step/sec: 181.469\n",
      "INFO:tensorflow:step = 9901, loss = 0.0185824 (0.541 sec)\n",
      "INFO:tensorflow:global_step/sec: 205.771\n",
      "INFO:tensorflow:step = 10001, loss = 0.0240925 (0.486 sec)\n",
      "INFO:tensorflow:global_step/sec: 208.471\n",
      "INFO:tensorflow:step = 10101, loss = 0.00462607 (0.479 sec)\n",
      "INFO:tensorflow:global_step/sec: 183.911\n",
      "INFO:tensorflow:step = 10201, loss = 0.0100708 (0.544 sec)\n",
      "INFO:tensorflow:global_step/sec: 208.727\n",
      "INFO:tensorflow:step = 10301, loss = 0.00573162 (0.480 sec)\n",
      "INFO:tensorflow:global_step/sec: 210.092\n",
      "INFO:tensorflow:step = 10401, loss = 0.0101062 (0.475 sec)\n",
      "INFO:tensorflow:global_step/sec: 196.517\n",
      "INFO:tensorflow:step = 10501, loss = 0.00470994 (0.509 sec)\n",
      "INFO:tensorflow:global_step/sec: 220.973\n",
      "INFO:tensorflow:step = 10601, loss = 0.00745281 (0.453 sec)\n",
      "INFO:tensorflow:global_step/sec: 197.523\n",
      "INFO:tensorflow:step = 10701, loss = 0.0220603 (0.506 sec)\n",
      "INFO:tensorflow:global_step/sec: 163.65\n",
      "INFO:tensorflow:step = 10801, loss = 0.0147888 (0.612 sec)\n",
      "INFO:tensorflow:global_step/sec: 201.353\n",
      "INFO:tensorflow:step = 10901, loss = 0.00258084 (0.500 sec)\n",
      "INFO:tensorflow:global_step/sec: 179.729\n",
      "INFO:tensorflow:step = 11001, loss = 0.0285976 (0.553 sec)\n",
      "INFO:tensorflow:global_step/sec: 186.299\n",
      "INFO:tensorflow:step = 11101, loss = 0.0044351 (0.537 sec)\n",
      "INFO:tensorflow:global_step/sec: 199.585\n",
      "INFO:tensorflow:step = 11201, loss = 0.00119579 (0.502 sec)\n",
      "INFO:tensorflow:global_step/sec: 180.879\n",
      "INFO:tensorflow:step = 11301, loss = 0.0158182 (0.554 sec)\n",
      "INFO:tensorflow:global_step/sec: 141.651\n",
      "INFO:tensorflow:step = 11401, loss = 0.00693267 (0.706 sec)\n",
      "INFO:tensorflow:global_step/sec: 135.099\n",
      "INFO:tensorflow:step = 11501, loss = 0.0174892 (0.739 sec)\n",
      "INFO:tensorflow:global_step/sec: 126.901\n",
      "INFO:tensorflow:step = 11601, loss = 0.000888462 (0.792 sec)\n",
      "INFO:tensorflow:global_step/sec: 193.874\n",
      "INFO:tensorflow:step = 11701, loss = 0.0026345 (0.513 sec)\n",
      "INFO:tensorflow:global_step/sec: 198.029\n",
      "INFO:tensorflow:step = 11801, loss = 0.000522998 (0.504 sec)\n",
      "INFO:tensorflow:global_step/sec: 173.7\n",
      "INFO:tensorflow:step = 11901, loss = 0.0101293 (0.578 sec)\n",
      "INFO:tensorflow:global_step/sec: 162.487\n",
      "INFO:tensorflow:step = 12001, loss = 0.000120309 (0.618 sec)\n",
      "INFO:tensorflow:global_step/sec: 122.04\n",
      "INFO:tensorflow:step = 12101, loss = 0.00283077 (0.819 sec)\n",
      "INFO:tensorflow:global_step/sec: 181.931\n",
      "INFO:tensorflow:step = 12201, loss = 0.00376223 (0.546 sec)\n",
      "INFO:tensorflow:global_step/sec: 192.692\n",
      "INFO:tensorflow:step = 12301, loss = 0.00516198 (0.519 sec)\n",
      "INFO:tensorflow:global_step/sec: 151.922\n",
      "INFO:tensorflow:step = 12401, loss = 0.000395552 (0.658 sec)\n",
      "INFO:tensorflow:global_step/sec: 146.899\n",
      "INFO:tensorflow:step = 12501, loss = 0.0038692 (0.683 sec)\n",
      "INFO:tensorflow:global_step/sec: 145.935\n",
      "INFO:tensorflow:step = 12601, loss = 0.000996494 (0.683 sec)\n",
      "INFO:tensorflow:global_step/sec: 173.226\n",
      "INFO:tensorflow:step = 12701, loss = 0.00522744 (0.577 sec)\n",
      "INFO:tensorflow:global_step/sec: 207.713\n",
      "INFO:tensorflow:step = 12801, loss = 0.00650308 (0.481 sec)\n",
      "INFO:tensorflow:global_step/sec: 177.511\n",
      "INFO:tensorflow:step = 12901, loss = 0.00290468 (0.563 sec)\n",
      "INFO:tensorflow:global_step/sec: 155.058\n",
      "INFO:tensorflow:step = 13001, loss = 0.00306313 (0.646 sec)\n",
      "INFO:tensorflow:global_step/sec: 191.963\n",
      "INFO:tensorflow:step = 13101, loss = 0.0040113 (0.519 sec)\n",
      "INFO:tensorflow:global_step/sec: 122.437\n",
      "INFO:tensorflow:step = 13201, loss = 0.00749846 (0.817 sec)\n",
      "INFO:tensorflow:global_step/sec: 199.098\n",
      "INFO:tensorflow:step = 13301, loss = 0.00422553 (0.502 sec)\n",
      "INFO:tensorflow:global_step/sec: 226.001\n",
      "INFO:tensorflow:step = 13401, loss = 0.00333589 (0.442 sec)\n",
      "INFO:tensorflow:global_step/sec: 231.332\n",
      "INFO:tensorflow:step = 13501, loss = 0.00930926 (0.433 sec)\n",
      "INFO:tensorflow:global_step/sec: 154.02\n",
      "INFO:tensorflow:step = 13601, loss = 0.00580592 (0.649 sec)\n",
      "INFO:tensorflow:global_step/sec: 148.232\n",
      "INFO:tensorflow:step = 13701, loss = 0.00158466 (0.680 sec)\n",
      "INFO:tensorflow:global_step/sec: 130.098\n",
      "INFO:tensorflow:step = 13801, loss = 0.00957848 (0.764 sec)\n",
      "INFO:tensorflow:global_step/sec: 150.749\n",
      "INFO:tensorflow:step = 13901, loss = 0.0029991 (0.667 sec)\n",
      "INFO:tensorflow:global_step/sec: 129.478\n",
      "INFO:tensorflow:step = 14001, loss = 0.00257565 (0.772 sec)\n",
      "INFO:tensorflow:global_step/sec: 173.332\n",
      "INFO:tensorflow:step = 14101, loss = 0.0051015 (0.574 sec)\n",
      "INFO:tensorflow:global_step/sec: 146.186\n",
      "INFO:tensorflow:step = 14201, loss = 0.00931561 (0.686 sec)\n",
      "INFO:tensorflow:global_step/sec: 184.136\n",
      "INFO:tensorflow:step = 14301, loss = 0.00167436 (0.541 sec)\n",
      "INFO:tensorflow:global_step/sec: 162.41\n",
      "INFO:tensorflow:step = 14401, loss = 0.00068472 (0.623 sec)\n",
      "INFO:tensorflow:global_step/sec: 156.644\n",
      "INFO:tensorflow:step = 14501, loss = 0.000823331 (0.638 sec)\n",
      "INFO:tensorflow:global_step/sec: 166.677\n",
      "INFO:tensorflow:step = 14601, loss = 0.00392992 (0.599 sec)\n",
      "INFO:tensorflow:global_step/sec: 171.619\n",
      "INFO:tensorflow:step = 14701, loss = 0.00197606 (0.583 sec)\n",
      "INFO:tensorflow:global_step/sec: 200.744\n",
      "INFO:tensorflow:step = 14801, loss = 0.00111108 (0.494 sec)\n",
      "INFO:tensorflow:global_step/sec: 184.51\n",
      "INFO:tensorflow:step = 14901, loss = 0.00252097 (0.539 sec)\n",
      "INFO:tensorflow:global_step/sec: 137.934\n",
      "INFO:tensorflow:step = 15001, loss = 0.000814515 (0.726 sec)\n",
      "INFO:tensorflow:global_step/sec: 213.457\n",
      "INFO:tensorflow:step = 15101, loss = 0.00237104 (0.467 sec)\n",
      "INFO:tensorflow:global_step/sec: 119.596\n",
      "INFO:tensorflow:step = 15201, loss = 0.00227502 (0.837 sec)\n",
      "INFO:tensorflow:global_step/sec: 209.695\n",
      "INFO:tensorflow:step = 15301, loss = 0.00141252 (0.476 sec)\n",
      "INFO:tensorflow:global_step/sec: 210.051\n",
      "INFO:tensorflow:step = 15401, loss = 0.00455337 (0.476 sec)\n",
      "INFO:tensorflow:global_step/sec: 214.146\n",
      "INFO:tensorflow:step = 15501, loss = 0.00491852 (0.467 sec)\n",
      "INFO:tensorflow:global_step/sec: 200.048\n",
      "INFO:tensorflow:step = 15601, loss = 0.00487903 (0.500 sec)\n",
      "INFO:tensorflow:global_step/sec: 209.971\n",
      "INFO:tensorflow:step = 15701, loss = 0.0134273 (0.477 sec)\n",
      "INFO:tensorflow:global_step/sec: 213.773\n",
      "INFO:tensorflow:step = 15801, loss = 0.00312125 (0.468 sec)\n",
      "INFO:tensorflow:global_step/sec: 200.992\n",
      "INFO:tensorflow:step = 15901, loss = 0.000708232 (0.498 sec)\n",
      "INFO:tensorflow:global_step/sec: 185.868\n",
      "INFO:tensorflow:step = 16001, loss = 0.00560298 (0.538 sec)\n",
      "INFO:tensorflow:global_step/sec: 183.659\n",
      "INFO:tensorflow:step = 16101, loss = 0.00430737 (0.545 sec)\n",
      "INFO:tensorflow:global_step/sec: 147.35\n",
      "INFO:tensorflow:step = 16201, loss = 7.45395e-05 (0.677 sec)\n",
      "INFO:tensorflow:global_step/sec: 150.162\n",
      "INFO:tensorflow:step = 16301, loss = 0.00280412 (0.666 sec)\n",
      "INFO:tensorflow:global_step/sec: 220.662\n",
      "INFO:tensorflow:step = 16401, loss = 0.001583 (0.454 sec)\n",
      "INFO:tensorflow:global_step/sec: 202.527\n",
      "INFO:tensorflow:step = 16501, loss = 0.00205469 (0.493 sec)\n",
      "INFO:tensorflow:global_step/sec: 214.706\n",
      "INFO:tensorflow:step = 16601, loss = 0.00472116 (0.467 sec)\n",
      "INFO:tensorflow:global_step/sec: 203.606\n",
      "INFO:tensorflow:step = 16701, loss = 0.00300912 (0.490 sec)\n",
      "INFO:tensorflow:global_step/sec: 133.857\n",
      "INFO:tensorflow:step = 16801, loss = 0.00221508 (0.751 sec)\n",
      "INFO:tensorflow:global_step/sec: 144.378\n",
      "INFO:tensorflow:step = 16901, loss = 0.00274078 (0.696 sec)\n",
      "INFO:tensorflow:global_step/sec: 148.852\n",
      "INFO:tensorflow:step = 17001, loss = 0.00335069 (0.665 sec)\n",
      "INFO:tensorflow:global_step/sec: 154.199\n",
      "INFO:tensorflow:step = 17101, loss = 0.000582267 (0.649 sec)\n",
      "INFO:tensorflow:global_step/sec: 187.517\n",
      "INFO:tensorflow:step = 17201, loss = 0.00259225 (0.535 sec)\n",
      "INFO:tensorflow:global_step/sec: 190.148\n",
      "INFO:tensorflow:step = 17301, loss = 0.000920891 (0.529 sec)\n",
      "INFO:tensorflow:global_step/sec: 152.037\n",
      "INFO:tensorflow:step = 17401, loss = 0.00217769 (0.653 sec)\n",
      "INFO:tensorflow:global_step/sec: 177.924\n",
      "INFO:tensorflow:step = 17501, loss = 0.00163418 (0.564 sec)\n",
      "INFO:tensorflow:global_step/sec: 183.008\n",
      "INFO:tensorflow:step = 17601, loss = 0.000338328 (0.544 sec)\n",
      "INFO:tensorflow:global_step/sec: 184.217\n",
      "INFO:tensorflow:step = 17701, loss = 0.000893746 (0.557 sec)\n",
      "INFO:tensorflow:global_step/sec: 161.142\n",
      "INFO:tensorflow:step = 17801, loss = 0.000348846 (0.610 sec)\n",
      "INFO:tensorflow:global_step/sec: 151.047\n",
      "INFO:tensorflow:step = 17901, loss = 0.00200284 (0.658 sec)\n",
      "INFO:tensorflow:global_step/sec: 190.373\n",
      "INFO:tensorflow:step = 18001, loss = 0.0012488 (0.529 sec)\n",
      "INFO:tensorflow:global_step/sec: 203.952\n",
      "INFO:tensorflow:step = 18101, loss = 0.00122258 (0.486 sec)\n",
      "INFO:tensorflow:global_step/sec: 225.953\n",
      "INFO:tensorflow:step = 18201, loss = 0.00400346 (0.443 sec)\n",
      "INFO:tensorflow:global_step/sec: 129.588\n",
      "INFO:tensorflow:step = 18301, loss = 0.0154516 (0.772 sec)\n",
      "INFO:tensorflow:global_step/sec: 197.486\n",
      "INFO:tensorflow:step = 18401, loss = 0.00357402 (0.505 sec)\n",
      "INFO:tensorflow:global_step/sec: 213.176\n",
      "INFO:tensorflow:step = 18501, loss = 0.00224499 (0.469 sec)\n",
      "INFO:tensorflow:global_step/sec: 208.819\n",
      "INFO:tensorflow:step = 18601, loss = 0.00348468 (0.479 sec)\n",
      "INFO:tensorflow:global_step/sec: 194.003\n",
      "INFO:tensorflow:step = 18701, loss = 0.00106254 (0.516 sec)\n",
      "INFO:tensorflow:global_step/sec: 182.237\n",
      "INFO:tensorflow:step = 18801, loss = 0.00134678 (0.548 sec)\n",
      "INFO:tensorflow:global_step/sec: 141.981\n",
      "INFO:tensorflow:step = 18901, loss = 0.00304573 (0.707 sec)\n",
      "INFO:tensorflow:global_step/sec: 150.253\n",
      "INFO:tensorflow:step = 19001, loss = 0.00137681 (0.663 sec)\n",
      "INFO:tensorflow:global_step/sec: 216.989\n",
      "INFO:tensorflow:step = 19101, loss = 0.000547609 (0.461 sec)\n",
      "INFO:tensorflow:global_step/sec: 205.64\n",
      "INFO:tensorflow:step = 19201, loss = 0.000463684 (0.486 sec)\n",
      "INFO:tensorflow:global_step/sec: 204.31\n",
      "INFO:tensorflow:step = 19301, loss = 0.00509027 (0.490 sec)\n",
      "INFO:tensorflow:global_step/sec: 208.313\n",
      "INFO:tensorflow:step = 19401, loss = 0.000722533 (0.481 sec)\n",
      "INFO:tensorflow:global_step/sec: 155.255\n",
      "INFO:tensorflow:step = 19501, loss = 0.00281473 (0.649 sec)\n",
      "INFO:tensorflow:global_step/sec: 151.498\n",
      "INFO:tensorflow:step = 19601, loss = 0.000629583 (0.657 sec)\n",
      "INFO:tensorflow:global_step/sec: 135.201\n",
      "INFO:tensorflow:step = 19701, loss = 0.000147449 (0.736 sec)\n",
      "INFO:tensorflow:global_step/sec: 204.107\n",
      "INFO:tensorflow:step = 19801, loss = 0.000430371 (0.496 sec)\n",
      "INFO:tensorflow:global_step/sec: 158.601\n",
      "INFO:tensorflow:step = 19901, loss = 0.00136521 (0.625 sec)\n",
      "INFO:tensorflow:global_step/sec: 128.239\n",
      "INFO:tensorflow:step = 20001, loss = 0.0024896 (0.779 sec)\n",
      "INFO:tensorflow:global_step/sec: 209.747\n",
      "INFO:tensorflow:step = 20101, loss = 0.000431558 (0.477 sec)\n",
      "INFO:tensorflow:global_step/sec: 204.625\n",
      "INFO:tensorflow:step = 20201, loss = 0.00192564 (0.489 sec)\n",
      "INFO:tensorflow:global_step/sec: 205.686\n",
      "INFO:tensorflow:step = 20301, loss = 0.000940824 (0.485 sec)\n",
      "INFO:tensorflow:global_step/sec: 218.053\n",
      "INFO:tensorflow:step = 20401, loss = 0.000245953 (0.462 sec)\n",
      "INFO:tensorflow:global_step/sec: 219.389\n",
      "INFO:tensorflow:step = 20501, loss = 0.00025361 (0.453 sec)\n",
      "INFO:tensorflow:global_step/sec: 143.442\n",
      "INFO:tensorflow:step = 20601, loss = 0.00130026 (0.697 sec)\n",
      "INFO:tensorflow:global_step/sec: 135.647\n",
      "INFO:tensorflow:step = 20701, loss = 0.00123567 (0.739 sec)\n",
      "INFO:tensorflow:global_step/sec: 142.616\n",
      "INFO:tensorflow:step = 20801, loss = 0.00204745 (0.702 sec)\n",
      "INFO:tensorflow:global_step/sec: 123.521\n",
      "INFO:tensorflow:step = 20901, loss = 0.00153957 (0.810 sec)\n",
      "INFO:tensorflow:global_step/sec: 215.632\n",
      "INFO:tensorflow:step = 21001, loss = 0.00241378 (0.462 sec)\n",
      "INFO:tensorflow:global_step/sec: 212.827\n",
      "INFO:tensorflow:step = 21101, loss = 0.00142351 (0.471 sec)\n",
      "INFO:tensorflow:global_step/sec: 214.548\n",
      "INFO:tensorflow:step = 21201, loss = 0.00256507 (0.467 sec)\n",
      "INFO:tensorflow:global_step/sec: 229.552\n",
      "INFO:tensorflow:step = 21301, loss = 0.00106203 (0.435 sec)\n",
      "INFO:tensorflow:global_step/sec: 180.253\n",
      "INFO:tensorflow:step = 21401, loss = 0.0025859 (0.573 sec)\n",
      "INFO:tensorflow:global_step/sec: 170.246\n",
      "INFO:tensorflow:step = 21501, loss = 0.000238369 (0.569 sec)\n",
      "INFO:tensorflow:global_step/sec: 187.629\n",
      "INFO:tensorflow:step = 21601, loss = 0.00158536 (0.534 sec)\n",
      "INFO:tensorflow:global_step/sec: 141.173\n",
      "INFO:tensorflow:step = 21701, loss = 0.000727434 (0.707 sec)\n",
      "INFO:tensorflow:global_step/sec: 197.178\n",
      "INFO:tensorflow:step = 21801, loss = 0.000661301 (0.506 sec)\n",
      "INFO:tensorflow:global_step/sec: 177.274\n",
      "INFO:tensorflow:step = 21901, loss = 0.000490357 (0.564 sec)\n",
      "INFO:tensorflow:global_step/sec: 184.3\n",
      "INFO:tensorflow:step = 22001, loss = 0.000124842 (0.543 sec)\n",
      "INFO:tensorflow:global_step/sec: 157.404\n",
      "INFO:tensorflow:step = 22101, loss = 0.000445235 (0.639 sec)\n",
      "INFO:tensorflow:global_step/sec: 161.674\n",
      "INFO:tensorflow:step = 22201, loss = 0.00133724 (0.615 sec)\n",
      "INFO:tensorflow:global_step/sec: 205.924\n",
      "INFO:tensorflow:step = 22301, loss = 0.00247763 (0.485 sec)\n",
      "INFO:tensorflow:global_step/sec: 151.571\n",
      "INFO:tensorflow:step = 22401, loss = 0.00171271 (0.661 sec)\n",
      "INFO:tensorflow:global_step/sec: 167.057\n",
      "INFO:tensorflow:step = 22501, loss = 0.00149307 (0.597 sec)\n",
      "INFO:tensorflow:global_step/sec: 211.101\n",
      "INFO:tensorflow:step = 22601, loss = 0.00392994 (0.473 sec)\n",
      "INFO:tensorflow:global_step/sec: 187.857\n",
      "INFO:tensorflow:step = 22701, loss = 0.000875101 (0.535 sec)\n",
      "INFO:tensorflow:global_step/sec: 233.03\n",
      "INFO:tensorflow:step = 22801, loss = 0.00118385 (0.427 sec)\n",
      "INFO:tensorflow:global_step/sec: 216.344\n",
      "INFO:tensorflow:step = 22901, loss = 0.00240292 (0.462 sec)\n",
      "INFO:tensorflow:global_step/sec: 152.499\n",
      "INFO:tensorflow:step = 23001, loss = 0.000830913 (0.656 sec)\n",
      "INFO:tensorflow:global_step/sec: 157.051\n",
      "INFO:tensorflow:step = 23101, loss = 0.00284528 (0.637 sec)\n",
      "INFO:tensorflow:global_step/sec: 143.611\n",
      "INFO:tensorflow:step = 23201, loss = 0.00224091 (0.699 sec)\n",
      "INFO:tensorflow:global_step/sec: 180.221\n",
      "INFO:tensorflow:step = 23301, loss = 0.00193402 (0.553 sec)\n",
      "INFO:tensorflow:global_step/sec: 113.507\n",
      "INFO:tensorflow:step = 23401, loss = 0.000599899 (0.886 sec)\n",
      "INFO:tensorflow:global_step/sec: 183.409\n",
      "INFO:tensorflow:step = 23501, loss = 0.000690191 (0.542 sec)\n",
      "INFO:tensorflow:global_step/sec: 192.218\n",
      "INFO:tensorflow:step = 23601, loss = 0.0006689 (0.517 sec)\n",
      "INFO:tensorflow:global_step/sec: 185.838\n",
      "INFO:tensorflow:step = 23701, loss = 0.000450027 (0.541 sec)\n",
      "INFO:tensorflow:global_step/sec: 215.307\n",
      "INFO:tensorflow:step = 23801, loss = 0.00181704 (0.463 sec)\n",
      "INFO:tensorflow:global_step/sec: 177.357\n",
      "INFO:tensorflow:step = 23901, loss = 0.00110625 (0.563 sec)\n",
      "INFO:tensorflow:global_step/sec: 168.481\n",
      "INFO:tensorflow:step = 24001, loss = 0.000971603 (0.593 sec)\n",
      "INFO:tensorflow:global_step/sec: 201.818\n",
      "INFO:tensorflow:step = 24101, loss = 0.000599703 (0.496 sec)\n",
      "INFO:tensorflow:global_step/sec: 187.713\n",
      "INFO:tensorflow:step = 24201, loss = 0.00103672 (0.532 sec)\n",
      "INFO:tensorflow:global_step/sec: 216.134\n",
      "INFO:tensorflow:step = 24301, loss = 0.000316926 (0.463 sec)\n",
      "INFO:tensorflow:global_step/sec: 219.217\n",
      "INFO:tensorflow:step = 24401, loss = 0.00197788 (0.456 sec)\n",
      "INFO:tensorflow:global_step/sec: 218.515\n",
      "INFO:tensorflow:step = 24501, loss = 0.000518455 (0.457 sec)\n",
      "INFO:tensorflow:global_step/sec: 189.033\n",
      "INFO:tensorflow:step = 24601, loss = 0.000293449 (0.529 sec)\n",
      "INFO:tensorflow:global_step/sec: 207.98\n",
      "INFO:tensorflow:step = 24701, loss = 0.00114909 (0.481 sec)\n",
      "INFO:tensorflow:global_step/sec: 201.961\n",
      "INFO:tensorflow:step = 24801, loss = 0.00152487 (0.495 sec)\n",
      "INFO:tensorflow:global_step/sec: 196.621\n",
      "INFO:tensorflow:step = 24901, loss = 0.00201351 (0.509 sec)\n",
      "INFO:tensorflow:global_step/sec: 202.229\n",
      "INFO:tensorflow:step = 25001, loss = 0.000152594 (0.495 sec)\n",
      "INFO:tensorflow:global_step/sec: 208.784\n",
      "INFO:tensorflow:step = 25101, loss = 0.00193388 (0.478 sec)\n",
      "INFO:tensorflow:global_step/sec: 199.177\n",
      "INFO:tensorflow:step = 25201, loss = 0.00282617 (0.502 sec)\n",
      "INFO:tensorflow:global_step/sec: 219.338\n",
      "INFO:tensorflow:step = 25301, loss = 0.000192127 (0.456 sec)\n",
      "INFO:tensorflow:global_step/sec: 225.073\n",
      "INFO:tensorflow:step = 25401, loss = 0.000797401 (0.445 sec)\n",
      "INFO:tensorflow:global_step/sec: 224.073\n",
      "INFO:tensorflow:step = 25501, loss = 0.00124578 (0.446 sec)\n",
      "INFO:tensorflow:global_step/sec: 214.964\n",
      "INFO:tensorflow:step = 25601, loss = 0.00119779 (0.468 sec)\n",
      "INFO:tensorflow:global_step/sec: 225.402\n",
      "INFO:tensorflow:step = 25701, loss = 0.000874612 (0.442 sec)\n",
      "INFO:tensorflow:global_step/sec: 196.697\n",
      "INFO:tensorflow:step = 25801, loss = 0.00136518 (0.512 sec)\n",
      "INFO:tensorflow:global_step/sec: 191.198\n",
      "INFO:tensorflow:step = 25901, loss = 0.00184243 (0.521 sec)\n",
      "INFO:tensorflow:global_step/sec: 180.526\n",
      "INFO:tensorflow:step = 26001, loss = 7.84672e-05 (0.551 sec)\n",
      "INFO:tensorflow:global_step/sec: 146.162\n",
      "INFO:tensorflow:step = 26101, loss = 0.00103029 (0.684 sec)\n",
      "INFO:tensorflow:global_step/sec: 173.344\n",
      "INFO:tensorflow:step = 26201, loss = 0.000715368 (0.577 sec)\n",
      "INFO:tensorflow:global_step/sec: 220.452\n",
      "INFO:tensorflow:step = 26301, loss = 0.000957418 (0.455 sec)\n",
      "INFO:tensorflow:global_step/sec: 196.814\n",
      "INFO:tensorflow:step = 26401, loss = 0.00165632 (0.508 sec)\n",
      "INFO:tensorflow:global_step/sec: 205.416\n",
      "INFO:tensorflow:step = 26501, loss = 0.00100959 (0.486 sec)\n",
      "INFO:tensorflow:global_step/sec: 143.588\n",
      "INFO:tensorflow:step = 26601, loss = 0.000594357 (0.698 sec)\n",
      "INFO:tensorflow:global_step/sec: 182.041\n",
      "INFO:tensorflow:step = 26701, loss = 3.75124e-05 (0.547 sec)\n",
      "INFO:tensorflow:global_step/sec: 192.668\n",
      "INFO:tensorflow:step = 26801, loss = 0.000775705 (0.520 sec)\n",
      "INFO:tensorflow:global_step/sec: 174.691\n",
      "INFO:tensorflow:step = 26901, loss = 0.000904265 (0.575 sec)\n",
      "INFO:tensorflow:global_step/sec: 209.658\n",
      "INFO:tensorflow:step = 27001, loss = 0.000553487 (0.474 sec)\n",
      "INFO:tensorflow:global_step/sec: 174.305\n",
      "INFO:tensorflow:step = 27101, loss = 0.00042911 (0.579 sec)\n",
      "INFO:tensorflow:global_step/sec: 191.072\n",
      "INFO:tensorflow:step = 27201, loss = 0.000641743 (0.519 sec)\n",
      "INFO:tensorflow:global_step/sec: 225.124\n",
      "INFO:tensorflow:step = 27301, loss = 0.00113445 (0.444 sec)\n",
      "INFO:tensorflow:global_step/sec: 205.554\n",
      "INFO:tensorflow:step = 27401, loss = 0.000147887 (0.488 sec)\n",
      "INFO:tensorflow:global_step/sec: 213.7\n",
      "INFO:tensorflow:step = 27501, loss = 0.00149474 (0.468 sec)\n",
      "INFO:tensorflow:global_step/sec: 174.143\n",
      "INFO:tensorflow:step = 27601, loss = 0.00099866 (0.577 sec)\n",
      "INFO:tensorflow:global_step/sec: 165.073\n",
      "INFO:tensorflow:step = 27701, loss = 0.000368925 (0.603 sec)\n",
      "INFO:tensorflow:global_step/sec: 153.241\n",
      "INFO:tensorflow:step = 27801, loss = 0.000700521 (0.660 sec)\n",
      "INFO:tensorflow:global_step/sec: 162.966\n",
      "INFO:tensorflow:step = 27901, loss = 0.000367836 (0.606 sec)\n",
      "INFO:tensorflow:global_step/sec: 140.165\n",
      "INFO:tensorflow:step = 28001, loss = 0.00131156 (0.719 sec)\n",
      "INFO:tensorflow:global_step/sec: 111.07\n",
      "INFO:tensorflow:step = 28101, loss = 0.000550622 (0.895 sec)\n",
      "INFO:tensorflow:global_step/sec: 198.612\n",
      "INFO:tensorflow:step = 28201, loss = 0.00143182 (0.503 sec)\n",
      "INFO:tensorflow:global_step/sec: 224.526\n",
      "INFO:tensorflow:step = 28301, loss = 0.000660615 (0.445 sec)\n",
      "INFO:tensorflow:global_step/sec: 218.031\n",
      "INFO:tensorflow:step = 28401, loss = 0.00102658 (0.460 sec)\n",
      "INFO:tensorflow:global_step/sec: 127.98\n",
      "INFO:tensorflow:step = 28501, loss = 0.000680939 (0.780 sec)\n",
      "INFO:tensorflow:global_step/sec: 193.067\n",
      "INFO:tensorflow:step = 28601, loss = 0.000403072 (0.521 sec)\n",
      "INFO:tensorflow:global_step/sec: 166.959\n",
      "INFO:tensorflow:step = 28701, loss = 0.000918623 (0.601 sec)\n",
      "INFO:tensorflow:global_step/sec: 157.226\n",
      "INFO:tensorflow:step = 28801, loss = 0.000993003 (0.630 sec)\n",
      "INFO:tensorflow:global_step/sec: 157.164\n",
      "INFO:tensorflow:step = 28901, loss = 0.000232585 (0.637 sec)\n",
      "INFO:tensorflow:global_step/sec: 172.285\n",
      "INFO:tensorflow:step = 29001, loss = 0.00192796 (0.580 sec)\n",
      "INFO:tensorflow:global_step/sec: 160.443\n",
      "INFO:tensorflow:step = 29101, loss = 0.00101591 (0.631 sec)\n",
      "INFO:tensorflow:global_step/sec: 140.403\n",
      "INFO:tensorflow:step = 29201, loss = 0.00169011 (0.714 sec)\n",
      "INFO:tensorflow:global_step/sec: 170.602\n",
      "INFO:tensorflow:step = 29301, loss = 0.00108807 (0.577 sec)\n",
      "INFO:tensorflow:global_step/sec: 209.684\n",
      "INFO:tensorflow:step = 29401, loss = 0.00101428 (0.477 sec)\n",
      "INFO:tensorflow:global_step/sec: 204.819\n",
      "INFO:tensorflow:step = 29501, loss = 0.000796202 (0.489 sec)\n",
      "INFO:tensorflow:global_step/sec: 166.604\n",
      "INFO:tensorflow:step = 29601, loss = 0.000337627 (0.601 sec)\n",
      "INFO:tensorflow:global_step/sec: 179.916\n",
      "INFO:tensorflow:step = 29701, loss = 0.000258813 (0.554 sec)\n",
      "INFO:tensorflow:global_step/sec: 235.111\n",
      "INFO:tensorflow:step = 29801, loss = 0.000616941 (0.426 sec)\n",
      "INFO:tensorflow:global_step/sec: 206.438\n",
      "INFO:tensorflow:step = 29901, loss = 0.00074321 (0.486 sec)\n",
      "INFO:tensorflow:global_step/sec: 209.912\n",
      "INFO:tensorflow:step = 30001, loss = 6.01432e-05 (0.475 sec)\n",
      "INFO:tensorflow:global_step/sec: 141.273\n",
      "INFO:tensorflow:step = 30101, loss = 0.000580716 (0.708 sec)\n",
      "INFO:tensorflow:global_step/sec: 190.62\n",
      "INFO:tensorflow:step = 30201, loss = 0.000218506 (0.525 sec)\n",
      "INFO:tensorflow:global_step/sec: 134.221\n",
      "INFO:tensorflow:step = 30301, loss = 0.000837331 (0.752 sec)\n",
      "INFO:tensorflow:global_step/sec: 143.458\n",
      "INFO:tensorflow:step = 30401, loss = 0.00138102 (0.691 sec)\n",
      "INFO:tensorflow:global_step/sec: 184.728\n",
      "INFO:tensorflow:step = 30501, loss = 0.000929428 (0.540 sec)\n",
      "INFO:tensorflow:global_step/sec: 142.633\n",
      "INFO:tensorflow:step = 30601, loss = 0.00146183 (0.704 sec)\n",
      "INFO:tensorflow:global_step/sec: 175.783\n",
      "INFO:tensorflow:step = 30701, loss = 0.000773375 (0.566 sec)\n",
      "INFO:tensorflow:global_step/sec: 203.895\n",
      "INFO:tensorflow:step = 30801, loss = 0.00110586 (0.490 sec)\n",
      "INFO:tensorflow:global_step/sec: 155.189\n",
      "INFO:tensorflow:step = 30901, loss = 0.00121131 (0.648 sec)\n",
      "INFO:tensorflow:global_step/sec: 197.554\n",
      "INFO:tensorflow:step = 31001, loss = 0.00107659 (0.504 sec)\n",
      "INFO:tensorflow:global_step/sec: 164.426\n",
      "INFO:tensorflow:step = 31101, loss = 0.00138425 (0.609 sec)\n",
      "INFO:tensorflow:global_step/sec: 188.331\n",
      "INFO:tensorflow:step = 31201, loss = 0.000538949 (0.534 sec)\n",
      "INFO:tensorflow:global_step/sec: 142.422\n",
      "INFO:tensorflow:step = 31301, loss = 0.000428765 (0.701 sec)\n",
      "INFO:tensorflow:global_step/sec: 188.757\n",
      "INFO:tensorflow:step = 31401, loss = 0.000609493 (0.527 sec)\n",
      "INFO:tensorflow:global_step/sec: 185.832\n",
      "INFO:tensorflow:step = 31501, loss = 0.00025601 (0.537 sec)\n",
      "INFO:tensorflow:global_step/sec: 198.101\n",
      "INFO:tensorflow:step = 31601, loss = 8.65842e-05 (0.507 sec)\n",
      "INFO:tensorflow:global_step/sec: 174.038\n",
      "INFO:tensorflow:step = 31701, loss = 0.000604256 (0.573 sec)\n",
      "INFO:tensorflow:global_step/sec: 196.377\n",
      "INFO:tensorflow:step = 31801, loss = 9.59904e-05 (0.510 sec)\n",
      "INFO:tensorflow:global_step/sec: 212.313\n",
      "INFO:tensorflow:step = 31901, loss = 0.00079322 (0.470 sec)\n",
      "INFO:tensorflow:global_step/sec: 198.834\n",
      "INFO:tensorflow:step = 32001, loss = 0.000262161 (0.504 sec)\n",
      "INFO:tensorflow:global_step/sec: 182.364\n",
      "INFO:tensorflow:step = 32101, loss = 0.000368648 (0.549 sec)\n",
      "INFO:tensorflow:global_step/sec: 188.08\n",
      "INFO:tensorflow:step = 32201, loss = 0.00113988 (0.531 sec)\n",
      "INFO:tensorflow:global_step/sec: 184.35\n",
      "INFO:tensorflow:step = 32301, loss = 0.00038782 (0.544 sec)\n",
      "INFO:tensorflow:global_step/sec: 182.769\n",
      "INFO:tensorflow:step = 32401, loss = 0.000149349 (0.545 sec)\n",
      "INFO:tensorflow:global_step/sec: 198.102\n",
      "INFO:tensorflow:step = 32501, loss = 0.000642526 (0.504 sec)\n",
      "INFO:tensorflow:global_step/sec: 188.632\n",
      "INFO:tensorflow:step = 32601, loss = 0.000118947 (0.531 sec)\n",
      "INFO:tensorflow:global_step/sec: 170.969\n",
      "INFO:tensorflow:step = 32701, loss = 0.00136909 (0.589 sec)\n",
      "INFO:tensorflow:global_step/sec: 187.113\n",
      "INFO:tensorflow:step = 32801, loss = 0.00105548 (0.530 sec)\n",
      "INFO:tensorflow:global_step/sec: 210.662\n",
      "INFO:tensorflow:step = 32901, loss = 0.0003802 (0.477 sec)\n",
      "INFO:tensorflow:global_step/sec: 172.849\n",
      "INFO:tensorflow:step = 33001, loss = 0.000608995 (0.576 sec)\n",
      "INFO:tensorflow:global_step/sec: 185.058\n",
      "INFO:tensorflow:step = 33101, loss = 0.0019107 (0.541 sec)\n",
      "INFO:tensorflow:global_step/sec: 186.275\n",
      "INFO:tensorflow:step = 33201, loss = 0.000916178 (0.537 sec)\n",
      "INFO:tensorflow:global_step/sec: 212.533\n",
      "INFO:tensorflow:step = 33301, loss = 0.000244862 (0.470 sec)\n",
      "INFO:tensorflow:global_step/sec: 196.638\n",
      "INFO:tensorflow:step = 33401, loss = 0.00129239 (0.509 sec)\n",
      "INFO:tensorflow:global_step/sec: 174.287\n",
      "INFO:tensorflow:step = 33501, loss = 0.000242947 (0.576 sec)\n",
      "INFO:tensorflow:global_step/sec: 168.569\n",
      "INFO:tensorflow:step = 33601, loss = 0.000883703 (0.591 sec)\n",
      "INFO:tensorflow:global_step/sec: 150.886\n",
      "INFO:tensorflow:step = 33701, loss = 0.000904791 (0.670 sec)\n",
      "INFO:tensorflow:global_step/sec: 186.526\n",
      "INFO:tensorflow:step = 33801, loss = 0.00107614 (0.530 sec)\n",
      "INFO:tensorflow:global_step/sec: 155.071\n",
      "INFO:tensorflow:step = 33901, loss = 0.00107961 (0.644 sec)\n",
      "INFO:tensorflow:global_step/sec: 212.628\n",
      "INFO:tensorflow:step = 34001, loss = 0.000613074 (0.470 sec)\n",
      "INFO:tensorflow:global_step/sec: 209.47\n",
      "INFO:tensorflow:step = 34101, loss = 0.00085227 (0.478 sec)\n",
      "INFO:tensorflow:global_step/sec: 184.8\n",
      "INFO:tensorflow:step = 34201, loss = 0.00112095 (0.541 sec)\n",
      "INFO:tensorflow:global_step/sec: 192.841\n",
      "INFO:tensorflow:step = 34301, loss = 0.000104322 (0.522 sec)\n",
      "INFO:tensorflow:global_step/sec: 134.156\n",
      "INFO:tensorflow:step = 34401, loss = 0.000506521 (0.742 sec)\n",
      "INFO:tensorflow:global_step/sec: 202.907\n",
      "INFO:tensorflow:step = 34501, loss = 0.000799231 (0.493 sec)\n",
      "INFO:tensorflow:global_step/sec: 182.842\n",
      "INFO:tensorflow:step = 34601, loss = 0.000381998 (0.547 sec)\n",
      "INFO:tensorflow:global_step/sec: 193.183\n",
      "INFO:tensorflow:step = 34701, loss = 0.00197285 (0.518 sec)\n",
      "INFO:tensorflow:global_step/sec: 191.031\n",
      "INFO:tensorflow:step = 34801, loss = 0.00050132 (0.525 sec)\n",
      "INFO:tensorflow:global_step/sec: 200.765\n",
      "INFO:tensorflow:step = 34901, loss = 0.000430059 (0.496 sec)\n",
      "INFO:tensorflow:global_step/sec: 194.674\n",
      "INFO:tensorflow:step = 35001, loss = 0.000284109 (0.515 sec)\n",
      "INFO:tensorflow:global_step/sec: 222.426\n",
      "INFO:tensorflow:step = 35101, loss = 0.0012278 (0.450 sec)\n",
      "INFO:tensorflow:global_step/sec: 195.044\n",
      "INFO:tensorflow:step = 35201, loss = 0.000280491 (0.513 sec)\n",
      "INFO:tensorflow:global_step/sec: 199.509\n",
      "INFO:tensorflow:step = 35301, loss = 0.000161269 (0.499 sec)\n",
      "INFO:tensorflow:global_step/sec: 162.089\n",
      "INFO:tensorflow:step = 35401, loss = 0.00105551 (0.628 sec)\n",
      "INFO:tensorflow:global_step/sec: 126.497\n",
      "INFO:tensorflow:step = 35501, loss = 0.000203097 (0.779 sec)\n",
      "INFO:tensorflow:global_step/sec: 202.277\n",
      "INFO:tensorflow:step = 35601, loss = 0.000242335 (0.495 sec)\n",
      "INFO:tensorflow:global_step/sec: 166.981\n",
      "INFO:tensorflow:step = 35701, loss = 0.00086094 (0.598 sec)\n",
      "INFO:tensorflow:global_step/sec: 182.908\n",
      "INFO:tensorflow:step = 35801, loss = 0.000918586 (0.547 sec)\n",
      "INFO:tensorflow:global_step/sec: 222.44\n",
      "INFO:tensorflow:step = 35901, loss = 0.000671677 (0.450 sec)\n",
      "INFO:tensorflow:global_step/sec: 199.685\n",
      "INFO:tensorflow:step = 36001, loss = 0.000370165 (0.502 sec)\n",
      "INFO:tensorflow:global_step/sec: 147.789\n",
      "INFO:tensorflow:step = 36101, loss = 0.00120145 (0.676 sec)\n",
      "INFO:tensorflow:global_step/sec: 208.581\n",
      "INFO:tensorflow:step = 36201, loss = 0.000768125 (0.480 sec)\n",
      "INFO:tensorflow:global_step/sec: 189.123\n",
      "INFO:tensorflow:step = 36301, loss = 0.000106661 (0.528 sec)\n",
      "INFO:tensorflow:global_step/sec: 164.88\n",
      "INFO:tensorflow:step = 36401, loss = 0.000681248 (0.611 sec)\n",
      "INFO:tensorflow:global_step/sec: 148.579\n",
      "INFO:tensorflow:step = 36501, loss = 0.000214154 (0.669 sec)\n",
      "INFO:tensorflow:global_step/sec: 163.743\n",
      "INFO:tensorflow:step = 36601, loss = 0.000239673 (0.610 sec)\n",
      "INFO:tensorflow:global_step/sec: 166.603\n",
      "INFO:tensorflow:step = 36701, loss = 0.000405055 (0.600 sec)\n",
      "INFO:tensorflow:global_step/sec: 211.384\n",
      "INFO:tensorflow:step = 36801, loss = 0.000852568 (0.474 sec)\n",
      "INFO:tensorflow:global_step/sec: 190.995\n",
      "INFO:tensorflow:step = 36901, loss = 0.000667005 (0.524 sec)\n",
      "INFO:tensorflow:global_step/sec: 198.084\n",
      "INFO:tensorflow:step = 37001, loss = 0.000488099 (0.505 sec)\n",
      "INFO:tensorflow:global_step/sec: 206.847\n",
      "INFO:tensorflow:step = 37101, loss = 0.000311534 (0.482 sec)\n",
      "INFO:tensorflow:global_step/sec: 137.141\n",
      "INFO:tensorflow:step = 37201, loss = 0.000358862 (0.729 sec)\n",
      "INFO:tensorflow:global_step/sec: 176.969\n",
      "INFO:tensorflow:step = 37301, loss = 0.000707558 (0.565 sec)\n",
      "INFO:tensorflow:global_step/sec: 194.922\n",
      "INFO:tensorflow:step = 37401, loss = 0.000318062 (0.513 sec)\n",
      "INFO:tensorflow:global_step/sec: 176.448\n",
      "INFO:tensorflow:step = 37501, loss = 0.000298998 (0.568 sec)\n",
      "INFO:tensorflow:global_step/sec: 199.565\n",
      "INFO:tensorflow:step = 37601, loss = 0.000414938 (0.500 sec)\n",
      "INFO:tensorflow:global_step/sec: 205.56\n",
      "INFO:tensorflow:step = 37701, loss = 0.000145852 (0.487 sec)\n",
      "INFO:tensorflow:global_step/sec: 206.723\n",
      "INFO:tensorflow:step = 37801, loss = 0.000346428 (0.483 sec)\n",
      "INFO:tensorflow:global_step/sec: 189.979\n",
      "INFO:tensorflow:step = 37901, loss = 0.0015781 (0.527 sec)\n",
      "INFO:tensorflow:global_step/sec: 168.246\n",
      "INFO:tensorflow:step = 38001, loss = 0.000307783 (0.594 sec)\n",
      "INFO:tensorflow:global_step/sec: 185.32\n",
      "INFO:tensorflow:step = 38101, loss = 0.00120952 (0.539 sec)\n",
      "INFO:tensorflow:global_step/sec: 195.911\n",
      "INFO:tensorflow:step = 38201, loss = 0.000719946 (0.510 sec)\n",
      "INFO:tensorflow:global_step/sec: 153.341\n",
      "INFO:tensorflow:step = 38301, loss = 9.19537e-05 (0.653 sec)\n",
      "INFO:tensorflow:global_step/sec: 180.301\n",
      "INFO:tensorflow:step = 38401, loss = 0.000204637 (0.555 sec)\n",
      "INFO:tensorflow:global_step/sec: 154.679\n",
      "INFO:tensorflow:step = 38501, loss = 0.000502236 (0.653 sec)\n",
      "INFO:tensorflow:global_step/sec: 158.169\n",
      "INFO:tensorflow:step = 38601, loss = 0.000743682 (0.628 sec)\n",
      "INFO:tensorflow:global_step/sec: 147.676\n",
      "INFO:tensorflow:step = 38701, loss = 0.000451052 (0.674 sec)\n",
      "INFO:tensorflow:global_step/sec: 182.601\n",
      "INFO:tensorflow:step = 38801, loss = 0.000246905 (0.548 sec)\n",
      "INFO:tensorflow:global_step/sec: 117.129\n",
      "INFO:tensorflow:step = 38901, loss = 0.00129647 (0.856 sec)\n",
      "INFO:tensorflow:global_step/sec: 143.227\n",
      "INFO:tensorflow:step = 39001, loss = 0.000217024 (0.703 sec)\n",
      "INFO:tensorflow:global_step/sec: 170.023\n",
      "INFO:tensorflow:step = 39101, loss = 0.000741188 (0.583 sec)\n",
      "INFO:tensorflow:global_step/sec: 139.532\n",
      "INFO:tensorflow:step = 39201, loss = 0.000570652 (0.718 sec)\n",
      "INFO:tensorflow:global_step/sec: 141.798\n",
      "INFO:tensorflow:step = 39301, loss = 0.000307514 (0.704 sec)\n",
      "INFO:tensorflow:global_step/sec: 178.597\n",
      "INFO:tensorflow:step = 39401, loss = 0.00066551 (0.561 sec)\n",
      "INFO:tensorflow:global_step/sec: 181.208\n",
      "INFO:tensorflow:step = 39501, loss = 0.000248625 (0.551 sec)\n",
      "INFO:tensorflow:global_step/sec: 142.848\n",
      "INFO:tensorflow:step = 39601, loss = 0.000750375 (0.702 sec)\n",
      "INFO:tensorflow:global_step/sec: 115.437\n",
      "INFO:tensorflow:step = 39701, loss = 0.000224784 (0.865 sec)\n",
      "INFO:tensorflow:global_step/sec: 145.846\n",
      "INFO:tensorflow:step = 39801, loss = 0.00105966 (0.683 sec)\n",
      "INFO:tensorflow:global_step/sec: 136.104\n",
      "INFO:tensorflow:step = 39901, loss = 0.00136582 (0.739 sec)\n",
      "INFO:tensorflow:Saving checkpoints for 40000 into /var/folders/b1/6r6n8ptx4r9cq1rvs075k7j00000gn/T/tmp7felyjwd/model.ckpt.\n",
      "INFO:tensorflow:Loss for final step: 0.00045437.\n"
     ]
    },
    {
     "data": {
      "text/plain": [
       "SKCompat()"
      ]
     },
     "execution_count": 40,
     "metadata": {},
     "output_type": "execute_result"
    }
   ],
   "source": [
    "import tensorflow as tf\n",
    "\n",
    "config = tf.contrib.learn.RunConfig(tf_random_seed=42) # not shown in the config\n",
    "\n",
    "feature_cols = tf.contrib.learn.infer_real_valued_columns_from_input(X_train)\n",
    "dnn_clf = tf.contrib.learn.DNNClassifier(hidden_units=[300,100], n_classes=10,\n",
    "                                         feature_columns=feature_cols, config=config)\n",
    "dnn_clf = tf.contrib.learn.SKCompat(dnn_clf) # if TensorFlow >= 1.1\n",
    "dnn_clf.fit(X_train, y_train, batch_size=50, steps=40000)"
   ]
  },
  {
   "cell_type": "code",
   "execution_count": 41,
   "metadata": {
    "collapsed": false
   },
   "outputs": [
    {
     "name": "stdout",
     "output_type": "stream",
     "text": [
      "INFO:tensorflow:Restoring parameters from /var/folders/b1/6r6n8ptx4r9cq1rvs075k7j00000gn/T/tmp7felyjwd/model.ckpt-40000\n"
     ]
    },
    {
     "data": {
      "text/plain": [
       "0.98240000000000005"
      ]
     },
     "execution_count": 41,
     "metadata": {},
     "output_type": "execute_result"
    }
   ],
   "source": [
    "from sklearn.metrics import accuracy_score\n",
    "\n",
    "y_pred = dnn_clf.predict(X_test)\n",
    "accuracy_score(y_test, y_pred['classes'])"
   ]
  },
  {
   "cell_type": "code",
   "execution_count": 43,
   "metadata": {
    "collapsed": false
   },
   "outputs": [
    {
     "data": {
      "text/plain": [
       "0.071563045266568537"
      ]
     },
     "execution_count": 43,
     "metadata": {},
     "output_type": "execute_result"
    }
   ],
   "source": [
    "from sklearn.metrics import log_loss\n",
    "\n",
    "y_pred_proba = y_pred['probabilities']\n",
    "log_loss(y_test, y_pred_proba)"
   ]
  },
  {
   "cell_type": "markdown",
   "metadata": {},
   "source": [
    "- Log Loss Scoring function [http://wiki.fast.ai/index.php/Log_Loss]"
   ]
  },
  {
   "cell_type": "markdown",
   "metadata": {},
   "source": [
    "- 이 코드를 MNIST 데이터 세트에서 실행하면 (예 : Scikit-Learn의 StandardScaler를 사용하여 스케일링 한 후) 실제로 테스트 세트에서 98.1 % 이상의 정확도를 달성하는 모델을 얻을 수 있습니다! 3 장에서 훈련 한 최고의 모델보다 낫습니다.\n",
    "\n",
    "- TF.Learn 라이브러리는 모델을 평가할 수있는 편리한 함수를 제공합니다.\n",
    "\n",
    "- DNNClassifier 클래스는 ReLU 활성화 함수 (activation_fn 하이퍼 파라미터를 설정하여 변경할 수 있음)를 기반으로 모든 뉴런 레이어를 만듭니다. 출력 계층은 softmax 함수에 의존하고 비용 함수는 교차 엔트로피 (4 장에서 소개함)입니다.\n",
    "\n",
    "- TF.Learn API (및 TensorFlow는 일반적으로)가 아직 완전히 새롭기 때문에이 예제에서 사용 된 일부 이름과 함수는이 책을 읽을 때 조금 발전 할 수 있습니다. 그러나 일반적인 생각은 변하지 않아야 합니다.\n",
    "\n",
    "### Training a DNN using plain TensorFlow\n",
    "\n",
    "- 네트워크 아키텍처를보다 잘 제어하려면 TensorFlow의 하위 레벨 Python API (9 장에서 소개 함)를 사용하는 것이 좋습니다. 이 섹션에서는이 API를 사용하여 위와 동일한 모델을 구축하고 Mini-batch Gradient Descent를 구현하여 MNIST 데이터 세트에서이를 학습합니다. \n",
    "\n",
    "- 첫 번째 단계는 TensorFlow 그래프를 작성하는 것입니다. 이것이 건설 단계입니다. 두 번째 단계는 실행 단계입니다. 여기서 실제로 그래프를 실행하여 모델을 교육합니다.\n",
    "\n",
    "\n",
    "#### Construction phase\n",
    "- 시작하자. 먼저 tensorflow 라이브러리를 가져와야합니다. 그런 다음 입력 및 출력 수를 지정하고 각 계층에서 숨겨진 뉴런 수를 설정해야합니다."
   ]
  },
  {
   "cell_type": "code",
   "execution_count": 44,
   "metadata": {
    "collapsed": true
   },
   "outputs": [],
   "source": [
    "n_inputs = 28*28  # MNIST\n",
    "n_hidden1 = 300\n",
    "n_hidden2 = 100\n",
    "n_outputs = 10"
   ]
  },
  {
   "cell_type": "markdown",
   "metadata": {},
   "source": [
    "- 다음으로 9 장에서했던 것처럼 자리 표시 자 노드를 사용하여 훈련 데이터와 대상을 나타낼 수 있습니다. X의 모양은 부분적으로 만 정의됩니다. 2D 텐서 (즉, 행렬)이고, 첫 번째 차원을 따라 인스턴스가 있고 두 번째 차원을 따라 특징이 있음을 알 수 있습니다.\n",
    "\n",
    "- 피쳐 수가 28x28이 될 것입니다. (픽셀 당 하나의 기능) 그러나 각 훈련 배치에 얼마나 많은 인스턴스가 포함되는지는 아직 알 수 없습니다. 그래서 X의 모양은 (None, n_inputs)입니다. \n",
    "\n",
    "- 마찬가지로 y는 인스턴스 당 하나의 엔트리를 가진 1D 텐서가되지만이 시점에서 트레이닝 배치의 크기를 알 수 없기 때문에 모양은 (없음)입니다."
   ]
  },
  {
   "cell_type": "code",
   "execution_count": 45,
   "metadata": {
    "collapsed": true
   },
   "outputs": [],
   "source": [
    "reset_graph()\n",
    "\n",
    "X = tf.placeholder(tf.float32, shape=(None, n_inputs), name=\"X\")\n",
    "y = tf.placeholder(tf.int64, shape=(None), name=\"y\")"
   ]
  },
  {
   "cell_type": "markdown",
   "metadata": {},
   "source": [
    "- 이제 실제 신경망을 만들어 보겠습니다. 자리 표시 자 X는 입력 레이어로 작동합니다. 실행 단계에서 한 번에 하나의 훈련 배치로 대체됩니다 (훈련 배치의 모든 인스턴스는 신경 네트워크에서 동시에 처리됩니다). \n",
    "\n",
    "- 이제 두 개의 숨겨진 레이어와 출력 레이어를 만들어야합니다. 숨겨진 두 레이어는 거의 동일합니다. 연결되는 입력과 포함 된 뉴런의 수에 따라 다릅니다. \n",
    "\n",
    "- 출력 계층도 매우 유사하지만 ReLU 활성화 기능 대신 softmax 활성화 기능을 사용합니다. 한 번에 하나의 레이어를 만드는 데 사용할 neuron_layer() 함수를 만듭니다. 입력, 뉴런 수, 활성화 함수 및 레이어 이름을 지정하는 매개 변수가 필요합니다."
   ]
  },
  {
   "cell_type": "code",
   "execution_count": 46,
   "metadata": {
    "collapsed": true
   },
   "outputs": [],
   "source": [
    "def neuron_layer(X, n_neurons, name, activation=None):\n",
    "    with tf.name_scope(name):\n",
    "        n_inputs = int(X.get_shape()[1])\n",
    "        stddev = 2 / np.sqrt(n_inputs)\n",
    "        init = tf.truncated_normal((n_inputs, n_neurons), stddev=stddev)\n",
    "        W = tf.Variable(init, name=\"kernel\")\n",
    "        b = tf.Variable(tf.zeros([n_neurons]), name=\"bias\")\n",
    "        Z = tf.matmul(X, W) + b\n",
    "        if activation is not None:\n",
    "            return activation(Z)\n",
    "        else:\n",
    "            return Z"
   ]
  },
  {
   "cell_type": "markdown",
   "metadata": {},
   "source": [
    "- 먼저 계층 이름을 사용하여 이름 범위를 만듭니다. 이름 영역에는 신경 층에 대한 모든 계산 노드가 포함됩니다. 이것은 선택 사항이지만 노드가 잘 구성되어 있으면 그래프가 TensorBoard에서 훨씬 더 멋지게 보입니다.\n",
    "\n",
    "- 다음으로 입력 행렬의 모양을 찾고 두 번째 차원의 크기를 가져 와서 입력 수를 얻습니다 (첫 번째 차원은 인스턴스 용입니다).\n",
    "\n",
    "- 다음 세 줄은 가중치 행렬을 저장할 W 변수를 만듭니다. 그것은 각 입력과 각 뉴런 사이의 모든 연결 가중치를 포함하는 2D 텐서가 될 것이므로 그 모양은 (n_inputs, n_neurons)가 될 것입니다. \n",
    "\n",
    "- 표준 편차가 2 / ninputs 인 잘린 일반 (가우스) 분포를 사용하여 임의로 초기화됩니다. 특정 표준 편차를 사용하면 알고리즘이 훨씬 빨리 수렴하는 데 도움이됩니다 (11 장에서 더 자세히 논의 할 것입니다. 효율성에 엄청난 영향을 미친 신경망에 대한 작은 조정 중 하나입니다.)\n",
    "\n",
    "- Gradient Descent 알고리즘이 깨질 수 없는 대칭을 피하려면 모든 숨겨진 레이어에 대해 연결 가중치를 임의로 초기화하는 것이 중요합니다.\n",
    "\n",
    "- 다음 줄은 바이어스에 대한 b 변수를 만듭니다.이 변수는 뉴런 당 하나의 바이어스 매개 변수를 사용하여 0으로 초기화됩니다 (이 경우 대칭 문제 없음).\n",
    "\n",
    "- 그런 다음 우리는 == +를 계산할 부분 그래프를 만듭니다. 이 벡터화 된 구현은 한 번에 배치의 모든 인스턴스에 대해 입력의 가중치 합계와 레이어의 각 뉴런에 대한 바이어스 조건을 효율적으로 계산합니다.\n",
    "\n",
    "- 마지막으로 활성화 매개 변수가 \"relu\"로 설정된 경우 relu(z) (즉, max 0,)를 반환하거나 아니면 z를 반환합니다.\n",
    "\n",
    "- 자, 이제 당신은 뉴런 레이어를 생성하는 좋은 기능을 가지고 있습니다. 딥 뉴럴 네트워크 (Deep Neural Network)를 만드는 데 사용합시다! 첫 번째 숨겨진 계층은 X를 입력으로 사용합니다. 두 번째는 첫 번째 숨겨진 레이어의 출력을 입력으로 사용합니다. 마지막으로 출력 레이어는 두 번째 숨겨진 레이어의 출력을 입력으로 사용합니다."
   ]
  },
  {
   "cell_type": "code",
   "execution_count": 47,
   "metadata": {
    "collapsed": true
   },
   "outputs": [],
   "source": [
    "with tf.name_scope(\"dnn\"):\n",
    "    hidden1 = neuron_layer(X, n_hidden1, name=\"hidden1\",\n",
    "                           activation=tf.nn.relu)\n",
    "    hidden2 = neuron_layer(hidden1, n_hidden2, name=\"hidden2\",\n",
    "                           activation=tf.nn.relu)\n",
    "    logits = neuron_layer(hidden2, n_outputs, name=\"outputs\")"
   ]
  },
  {
   "cell_type": "markdown",
   "metadata": {},
   "source": [
    "- 다시 한번 우리는 명확성을 위해 이름 범위를 사용했습니다. 또한 logits는 softmax 활성화 함수를 거치기 전에 신경망의 출력입니다. 최적화를 위해 나중에 softmax 계산을 처리 할 것입니다.\n",
    "\n",
    "- 예상대로 TensorFlow에는 표준 신경망 레이어를 만드는 데 유용한 많은 기능이 있습니다. 우리가 방금 한 것처럼 자신의 neuron_layer() 함수를 정의 할 필요가 없는 경우가 종종 있습니다. 예를 들어, TensorFlow의 fully_connected() 함수는 완전히 연결된 레이어를 만듭니다. \n",
    "\n",
    "- 여기서 모든 입력은 레이어의 모든 뉴런에 연결됩니다. 적절한 초기화 전략을 사용하여 가중치 및 바이어스 변수를 작성하고 기본으로 ReLU 활성화 기능을 사용합니다 (activation_fn 인수를 사용하여 변경할 수 있음).\n",
    "\n",
    "- 11 장에서 볼 수 있듯이 정규화 및 정규화 매개 변수도 지원합니다. neuron_layer() 함수 대신에 fully_connected() 함수를 사용하기 위해 위의 코드를 조정 해보자. 함수를 가져 와서 dnn 생성 섹션을 다음 코드로 바꿉니다."
   ]
  },
  {
   "cell_type": "markdown",
   "metadata": {},
   "source": [
    "- 이제 우리는 신경망 모델을 사용할 준비가되었습니다. 우리는 이를 훈련시키는 데 사용할 비용 함수를 정의해야합니다.\n",
    "\n",
    "- 우리가 제 4 장에서 softmax 회귀를했던 것과 마찬가지로 교차 엔트로피를 사용할 것입니다. 앞서 논의한 것처럼 교차 엔트로피는 목표 클래스에 대한 낮은 확률을 추정하는 모델에 불이익을줍니다. \n",
    "\n",
    "- TensorFlow는 교차 엔트로피를 계산하는 몇 가지 기능을 제공합니다. \n",
    "\n",
    "- 우리는 sparse_soft max_cross_entropy_with_logits()를 사용할 것입니다 : \"logits\"(즉, softmax 활성화 함수를 거치기 전에 네트워크의 출력)를 기준으로 교차 엔트로피를 계산합니다. \n",
    "\n",
    "- 그리고 0에서부터 클래스 수 - 1 (우리의 경우 0에서 9). 이것은 각 인스턴스에 대해 교차 엔트로피를 포함하는 1D 텐서를 제공합니다. 그런 다음 TensorFlow의 reduce_mean() 함수를 사용하여 모든 인스턴스에 대한 평균 교차 엔트로피를 계산할 수 있습니다."
   ]
  },
  {
   "cell_type": "code",
   "execution_count": 95,
   "metadata": {
    "collapsed": true
   },
   "outputs": [],
   "source": [
    "with tf.name_scope(\"loss\"):\n",
    "    xentropy = tf.nn.sparse_softmax_cross_entropy_with_logits(labels=y,\n",
    "                                                              logits=logits)\n",
    "    loss = tf.reduce_mean(xentropy, name=\"loss\")"
   ]
  },
  {
   "cell_type": "markdown",
   "metadata": {},
   "source": [
    "- sparse_softmax_cross_entropy_with_logits() 함수는 softmax 활성화 함수를 적용한 다음 크로스 엔트로피를 계산하는 것과 같습니다.\n",
    "\n",
    "- 하지만 더 효율적이며 0 인 로그와 같은 모서리 사례를 적절히 처리합니다. 따라서 softmax 활성화 함수를 적용하지 않은 이유가 여기에 있습니다 일찍이. softmax_cross_entropy_with_logits ()라는 또 다른 함수가 있습니다.이 함수는 0에서부터 클래스 수 -1까지의 int 대신에 하나의 핫 벡터 형식으로 레이블을 사용합니다.\n",
    "\n",
    "- 우리는 신경망 모델을 가지고 있고 비용 함수를 가지고 있습니다. 이제 비용 함수를 최소화하기 위해 모델 매개 변수를 조정할 GradientDescentOptimizer를 정의해야 합니다. "
   ]
  },
  {
   "cell_type": "code",
   "execution_count": 49,
   "metadata": {
    "collapsed": true
   },
   "outputs": [],
   "source": [
    "learning_rate = 0.01\n",
    "\n",
    "with tf.name_scope(\"train\"):\n",
    "    optimizer = tf.train.GradientDescentOptimizer(learning_rate)\n",
    "    training_op = optimizer.minimize(loss)"
   ]
  },
  {
   "cell_type": "markdown",
   "metadata": {},
   "source": [
    "- 구축 단계의 마지막 중요한 단계는 모델을 평가하는 방법을 지정하는 것입니다. \n",
    "\n",
    "- 우리는 단순히 성능 척도로서 정확도를 사용합니다.\n",
    "\n",
    "- 첫째, 각 인스턴스에 대해 가장 높은 로짓이 목표 클래스에 해당하는지 여부를 확인하여 신경망의 예측이 올바른지 확인합니다. 이를 위해 in_top_k () 함수를 사용할 수 있습니다. 부울 값으로 가득 찬 1D 텐서를 반환합니다.\n",
    "\n",
    "- 이 부울을 부동 소수점에 캐스팅 한 다음 평균을 계산해야합니다. 이렇게하면 네트워크의 전체적인 정확성을 얻을 수 있습니다.\n"
   ]
  },
  {
   "cell_type": "code",
   "execution_count": 50,
   "metadata": {
    "collapsed": true
   },
   "outputs": [],
   "source": [
    "with tf.name_scope(\"eval\"):\n",
    "    correct = tf.nn.in_top_k(logits, y, 1)\n",
    "    accuracy = tf.reduce_mean(tf.cast(correct, tf.float32))"
   ]
  },
  {
   "cell_type": "markdown",
   "metadata": {},
   "source": [
    "- 평소처럼 모든 변수를 초기화하는 노드를 만들어야하며 훈련 된 모델 매개 변수를 디스크에 저장하는 Saver도 만듭니다."
   ]
  },
  {
   "cell_type": "code",
   "execution_count": 51,
   "metadata": {
    "collapsed": true
   },
   "outputs": [],
   "source": [
    "init = tf.global_variables_initializer()\n",
    "saver = tf.train.Saver()"
   ]
  },
  {
   "cell_type": "markdown",
   "metadata": {},
   "source": [
    "- 휴! 이것으로 건설 단계가 끝납니다. 이것은 40 줄 미만의 코드 였지만 입력 및 대상에 대한 자리 표시자를 만들고 뉴런 층을 작성하는 함수를 만들고 DNN을 만들기 위해 사용했으며 비용 함수를 정의했습니다. \n",
    "\n",
    "- 최적화 도구를 만들고 마지막으로 성능 측정 값을 정의했습니다. 이제 실행 단계로 넘어갑니다.\n",
    "\n",
    "### Execution phase\n",
    "\n",
    "- 이 부분은 훨씬 더 짧고 간단합니다. 우선, MNIST를로드 해 봅시다. 우리는 이전 장에서했던 것처럼 Scikit- Learn를 사용할 수 있었지만 TensorFlow는 데이터를 가져오고 (0에서 1 사이의) 크기를 조정하고 셔플 링하며 하나의 미니 배치를로드하는 간단한 함수를 제공하는 자체 도우미를 제공합니다. 시간. 그래서 대신 사용하자."
   ]
  },
  {
   "cell_type": "code",
   "execution_count": 53,
   "metadata": {
    "collapsed": true
   },
   "outputs": [],
   "source": [
    "n_epochs = 40\n",
    "batch_size = 50"
   ]
  },
  {
   "cell_type": "code",
   "execution_count": 54,
   "metadata": {
    "collapsed": false
   },
   "outputs": [
    {
     "name": "stdout",
     "output_type": "stream",
     "text": [
      "0 Train accuracy: 0.9 Test accuracy: 0.9128\n",
      "1 Train accuracy: 0.94 Test accuracy: 0.9291\n",
      "2 Train accuracy: 0.92 Test accuracy: 0.9398\n",
      "3 Train accuracy: 0.96 Test accuracy: 0.945\n",
      "4 Train accuracy: 0.92 Test accuracy: 0.9513\n",
      "5 Train accuracy: 0.94 Test accuracy: 0.9543\n",
      "6 Train accuracy: 0.98 Test accuracy: 0.9556\n",
      "7 Train accuracy: 0.96 Test accuracy: 0.9593\n",
      "8 Train accuracy: 0.92 Test accuracy: 0.9625\n",
      "9 Train accuracy: 0.96 Test accuracy: 0.9645\n",
      "10 Train accuracy: 0.98 Test accuracy: 0.9651\n",
      "11 Train accuracy: 0.94 Test accuracy: 0.967\n",
      "12 Train accuracy: 1.0 Test accuracy: 0.9691\n",
      "13 Train accuracy: 0.94 Test accuracy: 0.9684\n",
      "14 Train accuracy: 1.0 Test accuracy: 0.9697\n",
      "15 Train accuracy: 1.0 Test accuracy: 0.9714\n",
      "16 Train accuracy: 1.0 Test accuracy: 0.9714\n",
      "17 Train accuracy: 0.98 Test accuracy: 0.9715\n",
      "18 Train accuracy: 1.0 Test accuracy: 0.973\n",
      "19 Train accuracy: 1.0 Test accuracy: 0.973\n",
      "20 Train accuracy: 0.98 Test accuracy: 0.9736\n",
      "21 Train accuracy: 1.0 Test accuracy: 0.974\n",
      "22 Train accuracy: 1.0 Test accuracy: 0.9745\n",
      "23 Train accuracy: 1.0 Test accuracy: 0.9749\n",
      "24 Train accuracy: 1.0 Test accuracy: 0.975\n",
      "25 Train accuracy: 1.0 Test accuracy: 0.9756\n",
      "26 Train accuracy: 1.0 Test accuracy: 0.975\n",
      "27 Train accuracy: 1.0 Test accuracy: 0.9759\n",
      "28 Train accuracy: 0.98 Test accuracy: 0.976\n",
      "29 Train accuracy: 1.0 Test accuracy: 0.9768\n",
      "30 Train accuracy: 1.0 Test accuracy: 0.9766\n",
      "31 Train accuracy: 1.0 Test accuracy: 0.9769\n",
      "32 Train accuracy: 0.98 Test accuracy: 0.9768\n",
      "33 Train accuracy: 0.98 Test accuracy: 0.9764\n",
      "34 Train accuracy: 0.98 Test accuracy: 0.9788\n",
      "35 Train accuracy: 0.98 Test accuracy: 0.9776\n",
      "36 Train accuracy: 0.98 Test accuracy: 0.977\n",
      "37 Train accuracy: 1.0 Test accuracy: 0.9785\n",
      "38 Train accuracy: 1.0 Test accuracy: 0.9784\n",
      "39 Train accuracy: 1.0 Test accuracy: 0.9782\n"
     ]
    }
   ],
   "source": [
    "with tf.Session() as sess:\n",
    "    init.run()\n",
    "    for epoch in range(n_epochs):\n",
    "        for iteration in range(mnist.train.num_examples // batch_size):\n",
    "            X_batch, y_batch = mnist.train.next_batch(batch_size)\n",
    "            sess.run(training_op, feed_dict={X: X_batch, y: y_batch})\n",
    "        acc_train = accuracy.eval(feed_dict={X: X_batch, y: y_batch})\n",
    "        acc_test = accuracy.eval(feed_dict={X: mnist.test.images,\n",
    "                                            y: mnist.test.labels})\n",
    "        print(epoch, \"Train accuracy:\", acc_train, \"Test accuracy:\", acc_test)\n",
    "\n",
    "    save_path = saver.save(sess, \"./my_model_final.ckpt\")"
   ]
  },
  {
   "cell_type": "markdown",
   "metadata": {},
   "source": [
    "- 이제 실행하려는 에포크의 수와 미니 배치의 크기를 정의합니다.\n",
    "\n",
    "- 이 코드는 TensorFlow 세션을 열고 모든 변수를 초기화하는 init 노드를 실행합니다. 그런 다음 기본 교육 루프를 실행합니다. \n",
    "\n",
    "- 각 신기원에서 코드는 훈련 세트 크기에 해당하는 여러 가지 미니 배치를 반복합니다. \n",
    "\n",
    "- 각 미니 배치는 next_batch() 메소드를 사용하여 가져오고, 코드는 현재 트레이닝 작업을 실행하고 현재 미니 배치 입력 데이터와 대상을 제공합니다. 다음으로, 각 에포크의 끝에서 코드는 마지막 미니 배치 및 전체 학습 세트에서 모델을 평가하고 결과를 인쇄합니다. 마지막으로 모델 매개 변수가 디스크에 저장됩니다.\n",
    "\n",
    "### Using the neural network\n",
    "\n",
    "- 신경 네트워크가 훈련되었으므로 예측을 위해 사용할 수 있습니다. 그렇게하기 위해 동일한 구성 단계를 재사용 할 수 있지만 다음과 같이 실행 단계를 변경하십시오."
   ]
  },
  {
   "cell_type": "code",
   "execution_count": 55,
   "metadata": {
    "collapsed": false
   },
   "outputs": [
    {
     "name": "stdout",
     "output_type": "stream",
     "text": [
      "INFO:tensorflow:Restoring parameters from ./my_model_final.ckpt\n"
     ]
    }
   ],
   "source": [
    "with tf.Session() as sess:\n",
    "    saver.restore(sess, \"./my_model_final.ckpt\") # or better, use save_path\n",
    "    X_new_scaled = mnist.test.images[:20]\n",
    "    Z = logits.eval(feed_dict={X: X_new_scaled})\n",
    "    y_pred = np.argmax(Z, axis=1)"
   ]
  },
  {
   "cell_type": "markdown",
   "metadata": {},
   "source": [
    "- 먼저 코드는 디스크에서 모델 매개 변수를 로드합니다. 다음 분류 할 새 이미지를 로드합니다. 트레이닝 데이터와 동일한 피쳐 스케일링을 적용해야합니다 (이 경우, 0에서 1로 스케일).\n",
    "\n",
    "- 그런 다음 코드는 logits 노드를 평가합니다. 모든 예상 클래스 확률을 알고 싶다면 softmax () 함수를 logits에 적용해야하지만 클래스를 예측하려는 경우 가장 높은 logit 값을 가진 클래스를 선택할 수 있습니다 ( argmax () 함수는 트릭을 수행한다. 신경망 하이퍼 매개 변수 미세 조정"
   ]
  },
  {
   "cell_type": "code",
   "execution_count": 56,
   "metadata": {
    "collapsed": false
   },
   "outputs": [
    {
     "name": "stdout",
     "output_type": "stream",
     "text": [
      "Predicted classes: [7 2 1 0 4 1 4 9 6 9 0 6 9 0 1 5 9 7 3 4]\n",
      "Actual classes:    [7 2 1 0 4 1 4 9 5 9 0 6 9 0 1 5 9 7 3 4]\n"
     ]
    }
   ],
   "source": [
    "print(\"Predicted classes:\", y_pred)\n",
    "print(\"Actual classes:   \", mnist.test.labels[:20])"
   ]
  },
  {
   "cell_type": "code",
   "execution_count": 57,
   "metadata": {
    "collapsed": true
   },
   "outputs": [],
   "source": [
    "from IPython.display import clear_output, Image, display, HTML\n",
    "\n",
    "def strip_consts(graph_def, max_const_size=32):\n",
    "    \"\"\"Strip large constant values from graph_def.\"\"\"\n",
    "    strip_def = tf.GraphDef()\n",
    "    for n0 in graph_def.node:\n",
    "        n = strip_def.node.add() \n",
    "        n.MergeFrom(n0)\n",
    "        if n.op == 'Const':\n",
    "            tensor = n.attr['value'].tensor\n",
    "            size = len(tensor.tensor_content)\n",
    "            if size > max_const_size:\n",
    "                tensor.tensor_content = b\"<stripped %d bytes>\"%size\n",
    "    return strip_def\n",
    "\n",
    "def show_graph(graph_def, max_const_size=32):\n",
    "    \"\"\"Visualize TensorFlow graph.\"\"\"\n",
    "    if hasattr(graph_def, 'as_graph_def'):\n",
    "        graph_def = graph_def.as_graph_def()\n",
    "    strip_def = strip_consts(graph_def, max_const_size=max_const_size)\n",
    "    code = \"\"\"\n",
    "        <script>\n",
    "          function load() {{\n",
    "            document.getElementById(\"{id}\").pbtxt = {data};\n",
    "          }}\n",
    "        </script>\n",
    "        <link rel=\"import\" href=\"https://tensorboard.appspot.com/tf-graph-basic.build.html\" onload=load()>\n",
    "        <div style=\"height:600px\">\n",
    "          <tf-graph-basic id=\"{id}\"></tf-graph-basic>\n",
    "        </div>\n",
    "    \"\"\".format(data=repr(str(strip_def)), id='graph'+str(np.random.rand()))\n",
    "\n",
    "    iframe = \"\"\"\n",
    "        <iframe seamless style=\"width:1200px;height:620px;border:0\" srcdoc=\"{}\"></iframe>\n",
    "    \"\"\".format(code.replace('\"', '&quot;'))\n",
    "    display(HTML(iframe))"
   ]
  },
  {
   "cell_type": "code",
   "execution_count": 98,
   "metadata": {
    "collapsed": false
   },
   "outputs": [
    {
     "data": {
      "text/html": [
       "\n",
       "        <iframe seamless style=\"width:1200px;height:620px;border:0\" srcdoc=\"\n",
       "        <script>\n",
       "          function load() {\n",
       "            document.getElementById(&quot;graph0.08185155632074148&quot;).pbtxt = 'node {\\n  name: &quot;X&quot;\\n  op: &quot;Placeholder&quot;\\n  attr {\\n    key: &quot;dtype&quot;\\n    value {\\n      type: DT_FLOAT\\n    }\\n  }\\n  attr {\\n    key: &quot;shape&quot;\\n    value {\\n      shape {\\n        dim {\\n          size: -1\\n        }\\n        dim {\\n          size: 784\\n        }\\n      }\\n    }\\n  }\\n}\\nnode {\\n  name: &quot;y&quot;\\n  op: &quot;Placeholder&quot;\\n  attr {\\n    key: &quot;dtype&quot;\\n    value {\\n      type: DT_INT64\\n    }\\n  }\\n  attr {\\n    key: &quot;shape&quot;\\n    value {\\n      shape {\\n        unknown_rank: true\\n      }\\n    }\\n  }\\n}\\nnode {\\n  name: &quot;hidden1/kernel/Initializer/random_uniform/shape&quot;\\n  op: &quot;Const&quot;\\n  attr {\\n    key: &quot;_class&quot;\\n    value {\\n      list {\\n        s: &quot;loc:@hidden1/kernel&quot;\\n      }\\n    }\\n  }\\n  attr {\\n    key: &quot;dtype&quot;\\n    value {\\n      type: DT_INT32\\n    }\\n  }\\n  attr {\\n    key: &quot;value&quot;\\n    value {\\n      tensor {\\n        dtype: DT_INT32\\n        tensor_shape {\\n          dim {\\n            size: 2\\n          }\\n        }\\n        tensor_content: &quot;\\\\020\\\\003\\\\000\\\\000,\\\\001\\\\000\\\\000&quot;\\n      }\\n    }\\n  }\\n}\\nnode {\\n  name: &quot;hidden1/kernel/Initializer/random_uniform/min&quot;\\n  op: &quot;Const&quot;\\n  attr {\\n    key: &quot;_class&quot;\\n    value {\\n      list {\\n        s: &quot;loc:@hidden1/kernel&quot;\\n      }\\n    }\\n  }\\n  attr {\\n    key: &quot;dtype&quot;\\n    value {\\n      type: DT_FLOAT\\n    }\\n  }\\n  attr {\\n    key: &quot;value&quot;\\n    value {\\n      tensor {\\n        dtype: DT_FLOAT\\n        tensor_shape {\\n        }\\n        float_val: -0.07439795136451721\\n      }\\n    }\\n  }\\n}\\nnode {\\n  name: &quot;hidden1/kernel/Initializer/random_uniform/max&quot;\\n  op: &quot;Const&quot;\\n  attr {\\n    key: &quot;_class&quot;\\n    value {\\n      list {\\n        s: &quot;loc:@hidden1/kernel&quot;\\n      }\\n    }\\n  }\\n  attr {\\n    key: &quot;dtype&quot;\\n    value {\\n      type: DT_FLOAT\\n    }\\n  }\\n  attr {\\n    key: &quot;value&quot;\\n    value {\\n      tensor {\\n        dtype: DT_FLOAT\\n        tensor_shape {\\n        }\\n        float_val: 0.07439795136451721\\n      }\\n    }\\n  }\\n}\\nnode {\\n  name: &quot;hidden1/kernel/Initializer/random_uniform/RandomUniform&quot;\\n  op: &quot;RandomUniform&quot;\\n  input: &quot;hidden1/kernel/Initializer/random_uniform/shape&quot;\\n  attr {\\n    key: &quot;T&quot;\\n    value {\\n      type: DT_INT32\\n    }\\n  }\\n  attr {\\n    key: &quot;_class&quot;\\n    value {\\n      list {\\n        s: &quot;loc:@hidden1/kernel&quot;\\n      }\\n    }\\n  }\\n  attr {\\n    key: &quot;dtype&quot;\\n    value {\\n      type: DT_FLOAT\\n    }\\n  }\\n  attr {\\n    key: &quot;seed&quot;\\n    value {\\n      i: 42\\n    }\\n  }\\n  attr {\\n    key: &quot;seed2&quot;\\n    value {\\n      i: 5\\n    }\\n  }\\n}\\nnode {\\n  name: &quot;hidden1/kernel/Initializer/random_uniform/sub&quot;\\n  op: &quot;Sub&quot;\\n  input: &quot;hidden1/kernel/Initializer/random_uniform/max&quot;\\n  input: &quot;hidden1/kernel/Initializer/random_uniform/min&quot;\\n  attr {\\n    key: &quot;T&quot;\\n    value {\\n      type: DT_FLOAT\\n    }\\n  }\\n  attr {\\n    key: &quot;_class&quot;\\n    value {\\n      list {\\n        s: &quot;loc:@hidden1/kernel&quot;\\n      }\\n    }\\n  }\\n}\\nnode {\\n  name: &quot;hidden1/kernel/Initializer/random_uniform/mul&quot;\\n  op: &quot;Mul&quot;\\n  input: &quot;hidden1/kernel/Initializer/random_uniform/RandomUniform&quot;\\n  input: &quot;hidden1/kernel/Initializer/random_uniform/sub&quot;\\n  attr {\\n    key: &quot;T&quot;\\n    value {\\n      type: DT_FLOAT\\n    }\\n  }\\n  attr {\\n    key: &quot;_class&quot;\\n    value {\\n      list {\\n        s: &quot;loc:@hidden1/kernel&quot;\\n      }\\n    }\\n  }\\n}\\nnode {\\n  name: &quot;hidden1/kernel/Initializer/random_uniform&quot;\\n  op: &quot;Add&quot;\\n  input: &quot;hidden1/kernel/Initializer/random_uniform/mul&quot;\\n  input: &quot;hidden1/kernel/Initializer/random_uniform/min&quot;\\n  attr {\\n    key: &quot;T&quot;\\n    value {\\n      type: DT_FLOAT\\n    }\\n  }\\n  attr {\\n    key: &quot;_class&quot;\\n    value {\\n      list {\\n        s: &quot;loc:@hidden1/kernel&quot;\\n      }\\n    }\\n  }\\n}\\nnode {\\n  name: &quot;hidden1/kernel&quot;\\n  op: &quot;VariableV2&quot;\\n  attr {\\n    key: &quot;_class&quot;\\n    value {\\n      list {\\n        s: &quot;loc:@hidden1/kernel&quot;\\n      }\\n    }\\n  }\\n  attr {\\n    key: &quot;container&quot;\\n    value {\\n      s: &quot;&quot;\\n    }\\n  }\\n  attr {\\n    key: &quot;dtype&quot;\\n    value {\\n      type: DT_FLOAT\\n    }\\n  }\\n  attr {\\n    key: &quot;shape&quot;\\n    value {\\n      shape {\\n        dim {\\n          size: 784\\n        }\\n        dim {\\n          size: 300\\n        }\\n      }\\n    }\\n  }\\n  attr {\\n    key: &quot;shared_name&quot;\\n    value {\\n      s: &quot;&quot;\\n    }\\n  }\\n}\\nnode {\\n  name: &quot;hidden1/kernel/Assign&quot;\\n  op: &quot;Assign&quot;\\n  input: &quot;hidden1/kernel&quot;\\n  input: &quot;hidden1/kernel/Initializer/random_uniform&quot;\\n  attr {\\n    key: &quot;T&quot;\\n    value {\\n      type: DT_FLOAT\\n    }\\n  }\\n  attr {\\n    key: &quot;_class&quot;\\n    value {\\n      list {\\n        s: &quot;loc:@hidden1/kernel&quot;\\n      }\\n    }\\n  }\\n  attr {\\n    key: &quot;use_locking&quot;\\n    value {\\n      b: true\\n    }\\n  }\\n  attr {\\n    key: &quot;validate_shape&quot;\\n    value {\\n      b: true\\n    }\\n  }\\n}\\nnode {\\n  name: &quot;hidden1/kernel/read&quot;\\n  op: &quot;Identity&quot;\\n  input: &quot;hidden1/kernel&quot;\\n  attr {\\n    key: &quot;T&quot;\\n    value {\\n      type: DT_FLOAT\\n    }\\n  }\\n  attr {\\n    key: &quot;_class&quot;\\n    value {\\n      list {\\n        s: &quot;loc:@hidden1/kernel&quot;\\n      }\\n    }\\n  }\\n}\\nnode {\\n  name: &quot;hidden1/bias/Initializer/zeros&quot;\\n  op: &quot;Const&quot;\\n  attr {\\n    key: &quot;_class&quot;\\n    value {\\n      list {\\n        s: &quot;loc:@hidden1/bias&quot;\\n      }\\n    }\\n  }\\n  attr {\\n    key: &quot;dtype&quot;\\n    value {\\n      type: DT_FLOAT\\n    }\\n  }\\n  attr {\\n    key: &quot;value&quot;\\n    value {\\n      tensor {\\n        dtype: DT_FLOAT\\n        tensor_shape {\\n          dim {\\n            size: 300\\n          }\\n        }\\n        float_val: 0.0\\n      }\\n    }\\n  }\\n}\\nnode {\\n  name: &quot;hidden1/bias&quot;\\n  op: &quot;VariableV2&quot;\\n  attr {\\n    key: &quot;_class&quot;\\n    value {\\n      list {\\n        s: &quot;loc:@hidden1/bias&quot;\\n      }\\n    }\\n  }\\n  attr {\\n    key: &quot;container&quot;\\n    value {\\n      s: &quot;&quot;\\n    }\\n  }\\n  attr {\\n    key: &quot;dtype&quot;\\n    value {\\n      type: DT_FLOAT\\n    }\\n  }\\n  attr {\\n    key: &quot;shape&quot;\\n    value {\\n      shape {\\n        dim {\\n          size: 300\\n        }\\n      }\\n    }\\n  }\\n  attr {\\n    key: &quot;shared_name&quot;\\n    value {\\n      s: &quot;&quot;\\n    }\\n  }\\n}\\nnode {\\n  name: &quot;hidden1/bias/Assign&quot;\\n  op: &quot;Assign&quot;\\n  input: &quot;hidden1/bias&quot;\\n  input: &quot;hidden1/bias/Initializer/zeros&quot;\\n  attr {\\n    key: &quot;T&quot;\\n    value {\\n      type: DT_FLOAT\\n    }\\n  }\\n  attr {\\n    key: &quot;_class&quot;\\n    value {\\n      list {\\n        s: &quot;loc:@hidden1/bias&quot;\\n      }\\n    }\\n  }\\n  attr {\\n    key: &quot;use_locking&quot;\\n    value {\\n      b: true\\n    }\\n  }\\n  attr {\\n    key: &quot;validate_shape&quot;\\n    value {\\n      b: true\\n    }\\n  }\\n}\\nnode {\\n  name: &quot;hidden1/bias/read&quot;\\n  op: &quot;Identity&quot;\\n  input: &quot;hidden1/bias&quot;\\n  attr {\\n    key: &quot;T&quot;\\n    value {\\n      type: DT_FLOAT\\n    }\\n  }\\n  attr {\\n    key: &quot;_class&quot;\\n    value {\\n      list {\\n        s: &quot;loc:@hidden1/bias&quot;\\n      }\\n    }\\n  }\\n}\\nnode {\\n  name: &quot;dnn/hidden1/MatMul&quot;\\n  op: &quot;MatMul&quot;\\n  input: &quot;X&quot;\\n  input: &quot;hidden1/kernel/read&quot;\\n  attr {\\n    key: &quot;T&quot;\\n    value {\\n      type: DT_FLOAT\\n    }\\n  }\\n  attr {\\n    key: &quot;transpose_a&quot;\\n    value {\\n      b: false\\n    }\\n  }\\n  attr {\\n    key: &quot;transpose_b&quot;\\n    value {\\n      b: false\\n    }\\n  }\\n}\\nnode {\\n  name: &quot;dnn/hidden1/BiasAdd&quot;\\n  op: &quot;BiasAdd&quot;\\n  input: &quot;dnn/hidden1/MatMul&quot;\\n  input: &quot;hidden1/bias/read&quot;\\n  attr {\\n    key: &quot;T&quot;\\n    value {\\n      type: DT_FLOAT\\n    }\\n  }\\n  attr {\\n    key: &quot;data_format&quot;\\n    value {\\n      s: &quot;NHWC&quot;\\n    }\\n  }\\n}\\nnode {\\n  name: &quot;dnn/hidden1/Relu&quot;\\n  op: &quot;Relu&quot;\\n  input: &quot;dnn/hidden1/BiasAdd&quot;\\n  attr {\\n    key: &quot;T&quot;\\n    value {\\n      type: DT_FLOAT\\n    }\\n  }\\n}\\nnode {\\n  name: &quot;hidden2/kernel/Initializer/random_uniform/shape&quot;\\n  op: &quot;Const&quot;\\n  attr {\\n    key: &quot;_class&quot;\\n    value {\\n      list {\\n        s: &quot;loc:@hidden2/kernel&quot;\\n      }\\n    }\\n  }\\n  attr {\\n    key: &quot;dtype&quot;\\n    value {\\n      type: DT_INT32\\n    }\\n  }\\n  attr {\\n    key: &quot;value&quot;\\n    value {\\n      tensor {\\n        dtype: DT_INT32\\n        tensor_shape {\\n          dim {\\n            size: 2\\n          }\\n        }\\n        tensor_content: &quot;,\\\\001\\\\000\\\\000d\\\\000\\\\000\\\\000&quot;\\n      }\\n    }\\n  }\\n}\\nnode {\\n  name: &quot;hidden2/kernel/Initializer/random_uniform/min&quot;\\n  op: &quot;Const&quot;\\n  attr {\\n    key: &quot;_class&quot;\\n    value {\\n      list {\\n        s: &quot;loc:@hidden2/kernel&quot;\\n      }\\n    }\\n  }\\n  attr {\\n    key: &quot;dtype&quot;\\n    value {\\n      type: DT_FLOAT\\n    }\\n  }\\n  attr {\\n    key: &quot;value&quot;\\n    value {\\n      tensor {\\n        dtype: DT_FLOAT\\n        tensor_shape {\\n        }\\n        float_val: -0.12247448414564133\\n      }\\n    }\\n  }\\n}\\nnode {\\n  name: &quot;hidden2/kernel/Initializer/random_uniform/max&quot;\\n  op: &quot;Const&quot;\\n  attr {\\n    key: &quot;_class&quot;\\n    value {\\n      list {\\n        s: &quot;loc:@hidden2/kernel&quot;\\n      }\\n    }\\n  }\\n  attr {\\n    key: &quot;dtype&quot;\\n    value {\\n      type: DT_FLOAT\\n    }\\n  }\\n  attr {\\n    key: &quot;value&quot;\\n    value {\\n      tensor {\\n        dtype: DT_FLOAT\\n        tensor_shape {\\n        }\\n        float_val: 0.12247448414564133\\n      }\\n    }\\n  }\\n}\\nnode {\\n  name: &quot;hidden2/kernel/Initializer/random_uniform/RandomUniform&quot;\\n  op: &quot;RandomUniform&quot;\\n  input: &quot;hidden2/kernel/Initializer/random_uniform/shape&quot;\\n  attr {\\n    key: &quot;T&quot;\\n    value {\\n      type: DT_INT32\\n    }\\n  }\\n  attr {\\n    key: &quot;_class&quot;\\n    value {\\n      list {\\n        s: &quot;loc:@hidden2/kernel&quot;\\n      }\\n    }\\n  }\\n  attr {\\n    key: &quot;dtype&quot;\\n    value {\\n      type: DT_FLOAT\\n    }\\n  }\\n  attr {\\n    key: &quot;seed&quot;\\n    value {\\n      i: 42\\n    }\\n  }\\n  attr {\\n    key: &quot;seed2&quot;\\n    value {\\n      i: 22\\n    }\\n  }\\n}\\nnode {\\n  name: &quot;hidden2/kernel/Initializer/random_uniform/sub&quot;\\n  op: &quot;Sub&quot;\\n  input: &quot;hidden2/kernel/Initializer/random_uniform/max&quot;\\n  input: &quot;hidden2/kernel/Initializer/random_uniform/min&quot;\\n  attr {\\n    key: &quot;T&quot;\\n    value {\\n      type: DT_FLOAT\\n    }\\n  }\\n  attr {\\n    key: &quot;_class&quot;\\n    value {\\n      list {\\n        s: &quot;loc:@hidden2/kernel&quot;\\n      }\\n    }\\n  }\\n}\\nnode {\\n  name: &quot;hidden2/kernel/Initializer/random_uniform/mul&quot;\\n  op: &quot;Mul&quot;\\n  input: &quot;hidden2/kernel/Initializer/random_uniform/RandomUniform&quot;\\n  input: &quot;hidden2/kernel/Initializer/random_uniform/sub&quot;\\n  attr {\\n    key: &quot;T&quot;\\n    value {\\n      type: DT_FLOAT\\n    }\\n  }\\n  attr {\\n    key: &quot;_class&quot;\\n    value {\\n      list {\\n        s: &quot;loc:@hidden2/kernel&quot;\\n      }\\n    }\\n  }\\n}\\nnode {\\n  name: &quot;hidden2/kernel/Initializer/random_uniform&quot;\\n  op: &quot;Add&quot;\\n  input: &quot;hidden2/kernel/Initializer/random_uniform/mul&quot;\\n  input: &quot;hidden2/kernel/Initializer/random_uniform/min&quot;\\n  attr {\\n    key: &quot;T&quot;\\n    value {\\n      type: DT_FLOAT\\n    }\\n  }\\n  attr {\\n    key: &quot;_class&quot;\\n    value {\\n      list {\\n        s: &quot;loc:@hidden2/kernel&quot;\\n      }\\n    }\\n  }\\n}\\nnode {\\n  name: &quot;hidden2/kernel&quot;\\n  op: &quot;VariableV2&quot;\\n  attr {\\n    key: &quot;_class&quot;\\n    value {\\n      list {\\n        s: &quot;loc:@hidden2/kernel&quot;\\n      }\\n    }\\n  }\\n  attr {\\n    key: &quot;container&quot;\\n    value {\\n      s: &quot;&quot;\\n    }\\n  }\\n  attr {\\n    key: &quot;dtype&quot;\\n    value {\\n      type: DT_FLOAT\\n    }\\n  }\\n  attr {\\n    key: &quot;shape&quot;\\n    value {\\n      shape {\\n        dim {\\n          size: 300\\n        }\\n        dim {\\n          size: 100\\n        }\\n      }\\n    }\\n  }\\n  attr {\\n    key: &quot;shared_name&quot;\\n    value {\\n      s: &quot;&quot;\\n    }\\n  }\\n}\\nnode {\\n  name: &quot;hidden2/kernel/Assign&quot;\\n  op: &quot;Assign&quot;\\n  input: &quot;hidden2/kernel&quot;\\n  input: &quot;hidden2/kernel/Initializer/random_uniform&quot;\\n  attr {\\n    key: &quot;T&quot;\\n    value {\\n      type: DT_FLOAT\\n    }\\n  }\\n  attr {\\n    key: &quot;_class&quot;\\n    value {\\n      list {\\n        s: &quot;loc:@hidden2/kernel&quot;\\n      }\\n    }\\n  }\\n  attr {\\n    key: &quot;use_locking&quot;\\n    value {\\n      b: true\\n    }\\n  }\\n  attr {\\n    key: &quot;validate_shape&quot;\\n    value {\\n      b: true\\n    }\\n  }\\n}\\nnode {\\n  name: &quot;hidden2/kernel/read&quot;\\n  op: &quot;Identity&quot;\\n  input: &quot;hidden2/kernel&quot;\\n  attr {\\n    key: &quot;T&quot;\\n    value {\\n      type: DT_FLOAT\\n    }\\n  }\\n  attr {\\n    key: &quot;_class&quot;\\n    value {\\n      list {\\n        s: &quot;loc:@hidden2/kernel&quot;\\n      }\\n    }\\n  }\\n}\\nnode {\\n  name: &quot;hidden2/bias/Initializer/zeros&quot;\\n  op: &quot;Const&quot;\\n  attr {\\n    key: &quot;_class&quot;\\n    value {\\n      list {\\n        s: &quot;loc:@hidden2/bias&quot;\\n      }\\n    }\\n  }\\n  attr {\\n    key: &quot;dtype&quot;\\n    value {\\n      type: DT_FLOAT\\n    }\\n  }\\n  attr {\\n    key: &quot;value&quot;\\n    value {\\n      tensor {\\n        dtype: DT_FLOAT\\n        tensor_shape {\\n          dim {\\n            size: 100\\n          }\\n        }\\n        float_val: 0.0\\n      }\\n    }\\n  }\\n}\\nnode {\\n  name: &quot;hidden2/bias&quot;\\n  op: &quot;VariableV2&quot;\\n  attr {\\n    key: &quot;_class&quot;\\n    value {\\n      list {\\n        s: &quot;loc:@hidden2/bias&quot;\\n      }\\n    }\\n  }\\n  attr {\\n    key: &quot;container&quot;\\n    value {\\n      s: &quot;&quot;\\n    }\\n  }\\n  attr {\\n    key: &quot;dtype&quot;\\n    value {\\n      type: DT_FLOAT\\n    }\\n  }\\n  attr {\\n    key: &quot;shape&quot;\\n    value {\\n      shape {\\n        dim {\\n          size: 100\\n        }\\n      }\\n    }\\n  }\\n  attr {\\n    key: &quot;shared_name&quot;\\n    value {\\n      s: &quot;&quot;\\n    }\\n  }\\n}\\nnode {\\n  name: &quot;hidden2/bias/Assign&quot;\\n  op: &quot;Assign&quot;\\n  input: &quot;hidden2/bias&quot;\\n  input: &quot;hidden2/bias/Initializer/zeros&quot;\\n  attr {\\n    key: &quot;T&quot;\\n    value {\\n      type: DT_FLOAT\\n    }\\n  }\\n  attr {\\n    key: &quot;_class&quot;\\n    value {\\n      list {\\n        s: &quot;loc:@hidden2/bias&quot;\\n      }\\n    }\\n  }\\n  attr {\\n    key: &quot;use_locking&quot;\\n    value {\\n      b: true\\n    }\\n  }\\n  attr {\\n    key: &quot;validate_shape&quot;\\n    value {\\n      b: true\\n    }\\n  }\\n}\\nnode {\\n  name: &quot;hidden2/bias/read&quot;\\n  op: &quot;Identity&quot;\\n  input: &quot;hidden2/bias&quot;\\n  attr {\\n    key: &quot;T&quot;\\n    value {\\n      type: DT_FLOAT\\n    }\\n  }\\n  attr {\\n    key: &quot;_class&quot;\\n    value {\\n      list {\\n        s: &quot;loc:@hidden2/bias&quot;\\n      }\\n    }\\n  }\\n}\\nnode {\\n  name: &quot;dnn/hidden2/MatMul&quot;\\n  op: &quot;MatMul&quot;\\n  input: &quot;dnn/hidden1/Relu&quot;\\n  input: &quot;hidden2/kernel/read&quot;\\n  attr {\\n    key: &quot;T&quot;\\n    value {\\n      type: DT_FLOAT\\n    }\\n  }\\n  attr {\\n    key: &quot;transpose_a&quot;\\n    value {\\n      b: false\\n    }\\n  }\\n  attr {\\n    key: &quot;transpose_b&quot;\\n    value {\\n      b: false\\n    }\\n  }\\n}\\nnode {\\n  name: &quot;dnn/hidden2/BiasAdd&quot;\\n  op: &quot;BiasAdd&quot;\\n  input: &quot;dnn/hidden2/MatMul&quot;\\n  input: &quot;hidden2/bias/read&quot;\\n  attr {\\n    key: &quot;T&quot;\\n    value {\\n      type: DT_FLOAT\\n    }\\n  }\\n  attr {\\n    key: &quot;data_format&quot;\\n    value {\\n      s: &quot;NHWC&quot;\\n    }\\n  }\\n}\\nnode {\\n  name: &quot;dnn/hidden2/Relu&quot;\\n  op: &quot;Relu&quot;\\n  input: &quot;dnn/hidden2/BiasAdd&quot;\\n  attr {\\n    key: &quot;T&quot;\\n    value {\\n      type: DT_FLOAT\\n    }\\n  }\\n}\\nnode {\\n  name: &quot;outputs/kernel/Initializer/random_uniform/shape&quot;\\n  op: &quot;Const&quot;\\n  attr {\\n    key: &quot;_class&quot;\\n    value {\\n      list {\\n        s: &quot;loc:@outputs/kernel&quot;\\n      }\\n    }\\n  }\\n  attr {\\n    key: &quot;dtype&quot;\\n    value {\\n      type: DT_INT32\\n    }\\n  }\\n  attr {\\n    key: &quot;value&quot;\\n    value {\\n      tensor {\\n        dtype: DT_INT32\\n        tensor_shape {\\n          dim {\\n            size: 2\\n          }\\n        }\\n        tensor_content: &quot;d\\\\000\\\\000\\\\000\\\\n\\\\000\\\\000\\\\000&quot;\\n      }\\n    }\\n  }\\n}\\nnode {\\n  name: &quot;outputs/kernel/Initializer/random_uniform/min&quot;\\n  op: &quot;Const&quot;\\n  attr {\\n    key: &quot;_class&quot;\\n    value {\\n      list {\\n        s: &quot;loc:@outputs/kernel&quot;\\n      }\\n    }\\n  }\\n  attr {\\n    key: &quot;dtype&quot;\\n    value {\\n      type: DT_FLOAT\\n    }\\n  }\\n  attr {\\n    key: &quot;value&quot;\\n    value {\\n      tensor {\\n        dtype: DT_FLOAT\\n        tensor_shape {\\n        }\\n        float_val: -0.23354968428611755\\n      }\\n    }\\n  }\\n}\\nnode {\\n  name: &quot;outputs/kernel/Initializer/random_uniform/max&quot;\\n  op: &quot;Const&quot;\\n  attr {\\n    key: &quot;_class&quot;\\n    value {\\n      list {\\n        s: &quot;loc:@outputs/kernel&quot;\\n      }\\n    }\\n  }\\n  attr {\\n    key: &quot;dtype&quot;\\n    value {\\n      type: DT_FLOAT\\n    }\\n  }\\n  attr {\\n    key: &quot;value&quot;\\n    value {\\n      tensor {\\n        dtype: DT_FLOAT\\n        tensor_shape {\\n        }\\n        float_val: 0.23354968428611755\\n      }\\n    }\\n  }\\n}\\nnode {\\n  name: &quot;outputs/kernel/Initializer/random_uniform/RandomUniform&quot;\\n  op: &quot;RandomUniform&quot;\\n  input: &quot;outputs/kernel/Initializer/random_uniform/shape&quot;\\n  attr {\\n    key: &quot;T&quot;\\n    value {\\n      type: DT_INT32\\n    }\\n  }\\n  attr {\\n    key: &quot;_class&quot;\\n    value {\\n      list {\\n        s: &quot;loc:@outputs/kernel&quot;\\n      }\\n    }\\n  }\\n  attr {\\n    key: &quot;dtype&quot;\\n    value {\\n      type: DT_FLOAT\\n    }\\n  }\\n  attr {\\n    key: &quot;seed&quot;\\n    value {\\n      i: 42\\n    }\\n  }\\n  attr {\\n    key: &quot;seed2&quot;\\n    value {\\n      i: 39\\n    }\\n  }\\n}\\nnode {\\n  name: &quot;outputs/kernel/Initializer/random_uniform/sub&quot;\\n  op: &quot;Sub&quot;\\n  input: &quot;outputs/kernel/Initializer/random_uniform/max&quot;\\n  input: &quot;outputs/kernel/Initializer/random_uniform/min&quot;\\n  attr {\\n    key: &quot;T&quot;\\n    value {\\n      type: DT_FLOAT\\n    }\\n  }\\n  attr {\\n    key: &quot;_class&quot;\\n    value {\\n      list {\\n        s: &quot;loc:@outputs/kernel&quot;\\n      }\\n    }\\n  }\\n}\\nnode {\\n  name: &quot;outputs/kernel/Initializer/random_uniform/mul&quot;\\n  op: &quot;Mul&quot;\\n  input: &quot;outputs/kernel/Initializer/random_uniform/RandomUniform&quot;\\n  input: &quot;outputs/kernel/Initializer/random_uniform/sub&quot;\\n  attr {\\n    key: &quot;T&quot;\\n    value {\\n      type: DT_FLOAT\\n    }\\n  }\\n  attr {\\n    key: &quot;_class&quot;\\n    value {\\n      list {\\n        s: &quot;loc:@outputs/kernel&quot;\\n      }\\n    }\\n  }\\n}\\nnode {\\n  name: &quot;outputs/kernel/Initializer/random_uniform&quot;\\n  op: &quot;Add&quot;\\n  input: &quot;outputs/kernel/Initializer/random_uniform/mul&quot;\\n  input: &quot;outputs/kernel/Initializer/random_uniform/min&quot;\\n  attr {\\n    key: &quot;T&quot;\\n    value {\\n      type: DT_FLOAT\\n    }\\n  }\\n  attr {\\n    key: &quot;_class&quot;\\n    value {\\n      list {\\n        s: &quot;loc:@outputs/kernel&quot;\\n      }\\n    }\\n  }\\n}\\nnode {\\n  name: &quot;outputs/kernel&quot;\\n  op: &quot;VariableV2&quot;\\n  attr {\\n    key: &quot;_class&quot;\\n    value {\\n      list {\\n        s: &quot;loc:@outputs/kernel&quot;\\n      }\\n    }\\n  }\\n  attr {\\n    key: &quot;container&quot;\\n    value {\\n      s: &quot;&quot;\\n    }\\n  }\\n  attr {\\n    key: &quot;dtype&quot;\\n    value {\\n      type: DT_FLOAT\\n    }\\n  }\\n  attr {\\n    key: &quot;shape&quot;\\n    value {\\n      shape {\\n        dim {\\n          size: 100\\n        }\\n        dim {\\n          size: 10\\n        }\\n      }\\n    }\\n  }\\n  attr {\\n    key: &quot;shared_name&quot;\\n    value {\\n      s: &quot;&quot;\\n    }\\n  }\\n}\\nnode {\\n  name: &quot;outputs/kernel/Assign&quot;\\n  op: &quot;Assign&quot;\\n  input: &quot;outputs/kernel&quot;\\n  input: &quot;outputs/kernel/Initializer/random_uniform&quot;\\n  attr {\\n    key: &quot;T&quot;\\n    value {\\n      type: DT_FLOAT\\n    }\\n  }\\n  attr {\\n    key: &quot;_class&quot;\\n    value {\\n      list {\\n        s: &quot;loc:@outputs/kernel&quot;\\n      }\\n    }\\n  }\\n  attr {\\n    key: &quot;use_locking&quot;\\n    value {\\n      b: true\\n    }\\n  }\\n  attr {\\n    key: &quot;validate_shape&quot;\\n    value {\\n      b: true\\n    }\\n  }\\n}\\nnode {\\n  name: &quot;outputs/kernel/read&quot;\\n  op: &quot;Identity&quot;\\n  input: &quot;outputs/kernel&quot;\\n  attr {\\n    key: &quot;T&quot;\\n    value {\\n      type: DT_FLOAT\\n    }\\n  }\\n  attr {\\n    key: &quot;_class&quot;\\n    value {\\n      list {\\n        s: &quot;loc:@outputs/kernel&quot;\\n      }\\n    }\\n  }\\n}\\nnode {\\n  name: &quot;outputs/bias/Initializer/zeros&quot;\\n  op: &quot;Const&quot;\\n  attr {\\n    key: &quot;_class&quot;\\n    value {\\n      list {\\n        s: &quot;loc:@outputs/bias&quot;\\n      }\\n    }\\n  }\\n  attr {\\n    key: &quot;dtype&quot;\\n    value {\\n      type: DT_FLOAT\\n    }\\n  }\\n  attr {\\n    key: &quot;value&quot;\\n    value {\\n      tensor {\\n        dtype: DT_FLOAT\\n        tensor_shape {\\n          dim {\\n            size: 10\\n          }\\n        }\\n        float_val: 0.0\\n      }\\n    }\\n  }\\n}\\nnode {\\n  name: &quot;outputs/bias&quot;\\n  op: &quot;VariableV2&quot;\\n  attr {\\n    key: &quot;_class&quot;\\n    value {\\n      list {\\n        s: &quot;loc:@outputs/bias&quot;\\n      }\\n    }\\n  }\\n  attr {\\n    key: &quot;container&quot;\\n    value {\\n      s: &quot;&quot;\\n    }\\n  }\\n  attr {\\n    key: &quot;dtype&quot;\\n    value {\\n      type: DT_FLOAT\\n    }\\n  }\\n  attr {\\n    key: &quot;shape&quot;\\n    value {\\n      shape {\\n        dim {\\n          size: 10\\n        }\\n      }\\n    }\\n  }\\n  attr {\\n    key: &quot;shared_name&quot;\\n    value {\\n      s: &quot;&quot;\\n    }\\n  }\\n}\\nnode {\\n  name: &quot;outputs/bias/Assign&quot;\\n  op: &quot;Assign&quot;\\n  input: &quot;outputs/bias&quot;\\n  input: &quot;outputs/bias/Initializer/zeros&quot;\\n  attr {\\n    key: &quot;T&quot;\\n    value {\\n      type: DT_FLOAT\\n    }\\n  }\\n  attr {\\n    key: &quot;_class&quot;\\n    value {\\n      list {\\n        s: &quot;loc:@outputs/bias&quot;\\n      }\\n    }\\n  }\\n  attr {\\n    key: &quot;use_locking&quot;\\n    value {\\n      b: true\\n    }\\n  }\\n  attr {\\n    key: &quot;validate_shape&quot;\\n    value {\\n      b: true\\n    }\\n  }\\n}\\nnode {\\n  name: &quot;outputs/bias/read&quot;\\n  op: &quot;Identity&quot;\\n  input: &quot;outputs/bias&quot;\\n  attr {\\n    key: &quot;T&quot;\\n    value {\\n      type: DT_FLOAT\\n    }\\n  }\\n  attr {\\n    key: &quot;_class&quot;\\n    value {\\n      list {\\n        s: &quot;loc:@outputs/bias&quot;\\n      }\\n    }\\n  }\\n}\\nnode {\\n  name: &quot;dnn/outputs/MatMul&quot;\\n  op: &quot;MatMul&quot;\\n  input: &quot;dnn/hidden2/Relu&quot;\\n  input: &quot;outputs/kernel/read&quot;\\n  attr {\\n    key: &quot;T&quot;\\n    value {\\n      type: DT_FLOAT\\n    }\\n  }\\n  attr {\\n    key: &quot;transpose_a&quot;\\n    value {\\n      b: false\\n    }\\n  }\\n  attr {\\n    key: &quot;transpose_b&quot;\\n    value {\\n      b: false\\n    }\\n  }\\n}\\nnode {\\n  name: &quot;dnn/outputs/BiasAdd&quot;\\n  op: &quot;BiasAdd&quot;\\n  input: &quot;dnn/outputs/MatMul&quot;\\n  input: &quot;outputs/bias/read&quot;\\n  attr {\\n    key: &quot;T&quot;\\n    value {\\n      type: DT_FLOAT\\n    }\\n  }\\n  attr {\\n    key: &quot;data_format&quot;\\n    value {\\n      s: &quot;NHWC&quot;\\n    }\\n  }\\n}\\nnode {\\n  name: &quot;loss/SparseSoftmaxCrossEntropyWithLogits/Shape&quot;\\n  op: &quot;Shape&quot;\\n  input: &quot;y&quot;\\n  attr {\\n    key: &quot;T&quot;\\n    value {\\n      type: DT_INT64\\n    }\\n  }\\n  attr {\\n    key: &quot;out_type&quot;\\n    value {\\n      type: DT_INT32\\n    }\\n  }\\n}\\nnode {\\n  name: &quot;loss/SparseSoftmaxCrossEntropyWithLogits/SparseSoftmaxCrossEntropyWithLogits&quot;\\n  op: &quot;SparseSoftmaxCrossEntropyWithLogits&quot;\\n  input: &quot;dnn/outputs/BiasAdd&quot;\\n  input: &quot;y&quot;\\n  attr {\\n    key: &quot;T&quot;\\n    value {\\n      type: DT_FLOAT\\n    }\\n  }\\n  attr {\\n    key: &quot;Tlabels&quot;\\n    value {\\n      type: DT_INT64\\n    }\\n  }\\n}\\nnode {\\n  name: &quot;loss/Const&quot;\\n  op: &quot;Const&quot;\\n  attr {\\n    key: &quot;dtype&quot;\\n    value {\\n      type: DT_INT32\\n    }\\n  }\\n  attr {\\n    key: &quot;value&quot;\\n    value {\\n      tensor {\\n        dtype: DT_INT32\\n        tensor_shape {\\n          dim {\\n            size: 1\\n          }\\n        }\\n        int_val: 0\\n      }\\n    }\\n  }\\n}\\nnode {\\n  name: &quot;loss/loss&quot;\\n  op: &quot;Mean&quot;\\n  input: &quot;loss/SparseSoftmaxCrossEntropyWithLogits/SparseSoftmaxCrossEntropyWithLogits&quot;\\n  input: &quot;loss/Const&quot;\\n  attr {\\n    key: &quot;T&quot;\\n    value {\\n      type: DT_FLOAT\\n    }\\n  }\\n  attr {\\n    key: &quot;Tidx&quot;\\n    value {\\n      type: DT_INT32\\n    }\\n  }\\n  attr {\\n    key: &quot;keep_dims&quot;\\n    value {\\n      b: false\\n    }\\n  }\\n}\\nnode {\\n  name: &quot;train/gradients/Shape&quot;\\n  op: &quot;Const&quot;\\n  attr {\\n    key: &quot;dtype&quot;\\n    value {\\n      type: DT_INT32\\n    }\\n  }\\n  attr {\\n    key: &quot;value&quot;\\n    value {\\n      tensor {\\n        dtype: DT_INT32\\n        tensor_shape {\\n          dim {\\n          }\\n        }\\n      }\\n    }\\n  }\\n}\\nnode {\\n  name: &quot;train/gradients/Const&quot;\\n  op: &quot;Const&quot;\\n  attr {\\n    key: &quot;dtype&quot;\\n    value {\\n      type: DT_FLOAT\\n    }\\n  }\\n  attr {\\n    key: &quot;value&quot;\\n    value {\\n      tensor {\\n        dtype: DT_FLOAT\\n        tensor_shape {\\n        }\\n        float_val: 1.0\\n      }\\n    }\\n  }\\n}\\nnode {\\n  name: &quot;train/gradients/Fill&quot;\\n  op: &quot;Fill&quot;\\n  input: &quot;train/gradients/Shape&quot;\\n  input: &quot;train/gradients/Const&quot;\\n  attr {\\n    key: &quot;T&quot;\\n    value {\\n      type: DT_FLOAT\\n    }\\n  }\\n}\\nnode {\\n  name: &quot;train/gradients/loss/loss_grad/Reshape/shape&quot;\\n  op: &quot;Const&quot;\\n  attr {\\n    key: &quot;dtype&quot;\\n    value {\\n      type: DT_INT32\\n    }\\n  }\\n  attr {\\n    key: &quot;value&quot;\\n    value {\\n      tensor {\\n        dtype: DT_INT32\\n        tensor_shape {\\n          dim {\\n            size: 1\\n          }\\n        }\\n        int_val: 1\\n      }\\n    }\\n  }\\n}\\nnode {\\n  name: &quot;train/gradients/loss/loss_grad/Reshape&quot;\\n  op: &quot;Reshape&quot;\\n  input: &quot;train/gradients/Fill&quot;\\n  input: &quot;train/gradients/loss/loss_grad/Reshape/shape&quot;\\n  attr {\\n    key: &quot;T&quot;\\n    value {\\n      type: DT_FLOAT\\n    }\\n  }\\n  attr {\\n    key: &quot;Tshape&quot;\\n    value {\\n      type: DT_INT32\\n    }\\n  }\\n}\\nnode {\\n  name: &quot;train/gradients/loss/loss_grad/Shape&quot;\\n  op: &quot;Shape&quot;\\n  input: &quot;loss/SparseSoftmaxCrossEntropyWithLogits/SparseSoftmaxCrossEntropyWithLogits&quot;\\n  attr {\\n    key: &quot;T&quot;\\n    value {\\n      type: DT_FLOAT\\n    }\\n  }\\n  attr {\\n    key: &quot;out_type&quot;\\n    value {\\n      type: DT_INT32\\n    }\\n  }\\n}\\nnode {\\n  name: &quot;train/gradients/loss/loss_grad/Tile&quot;\\n  op: &quot;Tile&quot;\\n  input: &quot;train/gradients/loss/loss_grad/Reshape&quot;\\n  input: &quot;train/gradients/loss/loss_grad/Shape&quot;\\n  attr {\\n    key: &quot;T&quot;\\n    value {\\n      type: DT_FLOAT\\n    }\\n  }\\n  attr {\\n    key: &quot;Tmultiples&quot;\\n    value {\\n      type: DT_INT32\\n    }\\n  }\\n}\\nnode {\\n  name: &quot;train/gradients/loss/loss_grad/Shape_1&quot;\\n  op: &quot;Shape&quot;\\n  input: &quot;loss/SparseSoftmaxCrossEntropyWithLogits/SparseSoftmaxCrossEntropyWithLogits&quot;\\n  attr {\\n    key: &quot;T&quot;\\n    value {\\n      type: DT_FLOAT\\n    }\\n  }\\n  attr {\\n    key: &quot;out_type&quot;\\n    value {\\n      type: DT_INT32\\n    }\\n  }\\n}\\nnode {\\n  name: &quot;train/gradients/loss/loss_grad/Shape_2&quot;\\n  op: &quot;Const&quot;\\n  attr {\\n    key: &quot;dtype&quot;\\n    value {\\n      type: DT_INT32\\n    }\\n  }\\n  attr {\\n    key: &quot;value&quot;\\n    value {\\n      tensor {\\n        dtype: DT_INT32\\n        tensor_shape {\\n          dim {\\n          }\\n        }\\n      }\\n    }\\n  }\\n}\\nnode {\\n  name: &quot;train/gradients/loss/loss_grad/Const&quot;\\n  op: &quot;Const&quot;\\n  attr {\\n    key: &quot;dtype&quot;\\n    value {\\n      type: DT_INT32\\n    }\\n  }\\n  attr {\\n    key: &quot;value&quot;\\n    value {\\n      tensor {\\n        dtype: DT_INT32\\n        tensor_shape {\\n          dim {\\n            size: 1\\n          }\\n        }\\n        int_val: 0\\n      }\\n    }\\n  }\\n}\\nnode {\\n  name: &quot;train/gradients/loss/loss_grad/Prod&quot;\\n  op: &quot;Prod&quot;\\n  input: &quot;train/gradients/loss/loss_grad/Shape_1&quot;\\n  input: &quot;train/gradients/loss/loss_grad/Const&quot;\\n  attr {\\n    key: &quot;T&quot;\\n    value {\\n      type: DT_INT32\\n    }\\n  }\\n  attr {\\n    key: &quot;Tidx&quot;\\n    value {\\n      type: DT_INT32\\n    }\\n  }\\n  attr {\\n    key: &quot;keep_dims&quot;\\n    value {\\n      b: false\\n    }\\n  }\\n}\\nnode {\\n  name: &quot;train/gradients/loss/loss_grad/Const_1&quot;\\n  op: &quot;Const&quot;\\n  attr {\\n    key: &quot;dtype&quot;\\n    value {\\n      type: DT_INT32\\n    }\\n  }\\n  attr {\\n    key: &quot;value&quot;\\n    value {\\n      tensor {\\n        dtype: DT_INT32\\n        tensor_shape {\\n          dim {\\n            size: 1\\n          }\\n        }\\n        int_val: 0\\n      }\\n    }\\n  }\\n}\\nnode {\\n  name: &quot;train/gradients/loss/loss_grad/Prod_1&quot;\\n  op: &quot;Prod&quot;\\n  input: &quot;train/gradients/loss/loss_grad/Shape_2&quot;\\n  input: &quot;train/gradients/loss/loss_grad/Const_1&quot;\\n  attr {\\n    key: &quot;T&quot;\\n    value {\\n      type: DT_INT32\\n    }\\n  }\\n  attr {\\n    key: &quot;Tidx&quot;\\n    value {\\n      type: DT_INT32\\n    }\\n  }\\n  attr {\\n    key: &quot;keep_dims&quot;\\n    value {\\n      b: false\\n    }\\n  }\\n}\\nnode {\\n  name: &quot;train/gradients/loss/loss_grad/Maximum/y&quot;\\n  op: &quot;Const&quot;\\n  attr {\\n    key: &quot;dtype&quot;\\n    value {\\n      type: DT_INT32\\n    }\\n  }\\n  attr {\\n    key: &quot;value&quot;\\n    value {\\n      tensor {\\n        dtype: DT_INT32\\n        tensor_shape {\\n        }\\n        int_val: 1\\n      }\\n    }\\n  }\\n}\\nnode {\\n  name: &quot;train/gradients/loss/loss_grad/Maximum&quot;\\n  op: &quot;Maximum&quot;\\n  input: &quot;train/gradients/loss/loss_grad/Prod_1&quot;\\n  input: &quot;train/gradients/loss/loss_grad/Maximum/y&quot;\\n  attr {\\n    key: &quot;T&quot;\\n    value {\\n      type: DT_INT32\\n    }\\n  }\\n}\\nnode {\\n  name: &quot;train/gradients/loss/loss_grad/floordiv&quot;\\n  op: &quot;FloorDiv&quot;\\n  input: &quot;train/gradients/loss/loss_grad/Prod&quot;\\n  input: &quot;train/gradients/loss/loss_grad/Maximum&quot;\\n  attr {\\n    key: &quot;T&quot;\\n    value {\\n      type: DT_INT32\\n    }\\n  }\\n}\\nnode {\\n  name: &quot;train/gradients/loss/loss_grad/Cast&quot;\\n  op: &quot;Cast&quot;\\n  input: &quot;train/gradients/loss/loss_grad/floordiv&quot;\\n  attr {\\n    key: &quot;DstT&quot;\\n    value {\\n      type: DT_FLOAT\\n    }\\n  }\\n  attr {\\n    key: &quot;SrcT&quot;\\n    value {\\n      type: DT_INT32\\n    }\\n  }\\n}\\nnode {\\n  name: &quot;train/gradients/loss/loss_grad/truediv&quot;\\n  op: &quot;RealDiv&quot;\\n  input: &quot;train/gradients/loss/loss_grad/Tile&quot;\\n  input: &quot;train/gradients/loss/loss_grad/Cast&quot;\\n  attr {\\n    key: &quot;T&quot;\\n    value {\\n      type: DT_FLOAT\\n    }\\n  }\\n}\\nnode {\\n  name: &quot;train/gradients/zeros_like&quot;\\n  op: &quot;ZerosLike&quot;\\n  input: &quot;loss/SparseSoftmaxCrossEntropyWithLogits/SparseSoftmaxCrossEntropyWithLogits:1&quot;\\n  attr {\\n    key: &quot;T&quot;\\n    value {\\n      type: DT_FLOAT\\n    }\\n  }\\n}\\nnode {\\n  name: &quot;train/gradients/loss/SparseSoftmaxCrossEntropyWithLogits/SparseSoftmaxCrossEntropyWithLogits_grad/PreventGradient&quot;\\n  op: &quot;PreventGradient&quot;\\n  input: &quot;loss/SparseSoftmaxCrossEntropyWithLogits/SparseSoftmaxCrossEntropyWithLogits:1&quot;\\n  attr {\\n    key: &quot;T&quot;\\n    value {\\n      type: DT_FLOAT\\n    }\\n  }\\n  attr {\\n    key: &quot;message&quot;\\n    value {\\n      s: &quot;Currently there is no way to take the second derivative of sparse_softmax_cross_entropy_with_logits due to the fused implementation\\\\\\'s interaction with tf.gradients()&quot;\\n    }\\n  }\\n}\\nnode {\\n  name: &quot;train/gradients/loss/SparseSoftmaxCrossEntropyWithLogits/SparseSoftmaxCrossEntropyWithLogits_grad/ExpandDims/dim&quot;\\n  op: &quot;Const&quot;\\n  attr {\\n    key: &quot;dtype&quot;\\n    value {\\n      type: DT_INT32\\n    }\\n  }\\n  attr {\\n    key: &quot;value&quot;\\n    value {\\n      tensor {\\n        dtype: DT_INT32\\n        tensor_shape {\\n        }\\n        int_val: -1\\n      }\\n    }\\n  }\\n}\\nnode {\\n  name: &quot;train/gradients/loss/SparseSoftmaxCrossEntropyWithLogits/SparseSoftmaxCrossEntropyWithLogits_grad/ExpandDims&quot;\\n  op: &quot;ExpandDims&quot;\\n  input: &quot;train/gradients/loss/loss_grad/truediv&quot;\\n  input: &quot;train/gradients/loss/SparseSoftmaxCrossEntropyWithLogits/SparseSoftmaxCrossEntropyWithLogits_grad/ExpandDims/dim&quot;\\n  attr {\\n    key: &quot;T&quot;\\n    value {\\n      type: DT_FLOAT\\n    }\\n  }\\n  attr {\\n    key: &quot;Tdim&quot;\\n    value {\\n      type: DT_INT32\\n    }\\n  }\\n}\\nnode {\\n  name: &quot;train/gradients/loss/SparseSoftmaxCrossEntropyWithLogits/SparseSoftmaxCrossEntropyWithLogits_grad/mul&quot;\\n  op: &quot;Mul&quot;\\n  input: &quot;train/gradients/loss/SparseSoftmaxCrossEntropyWithLogits/SparseSoftmaxCrossEntropyWithLogits_grad/ExpandDims&quot;\\n  input: &quot;train/gradients/loss/SparseSoftmaxCrossEntropyWithLogits/SparseSoftmaxCrossEntropyWithLogits_grad/PreventGradient&quot;\\n  attr {\\n    key: &quot;T&quot;\\n    value {\\n      type: DT_FLOAT\\n    }\\n  }\\n}\\nnode {\\n  name: &quot;train/gradients/dnn/outputs/BiasAdd_grad/BiasAddGrad&quot;\\n  op: &quot;BiasAddGrad&quot;\\n  input: &quot;train/gradients/loss/SparseSoftmaxCrossEntropyWithLogits/SparseSoftmaxCrossEntropyWithLogits_grad/mul&quot;\\n  attr {\\n    key: &quot;T&quot;\\n    value {\\n      type: DT_FLOAT\\n    }\\n  }\\n  attr {\\n    key: &quot;data_format&quot;\\n    value {\\n      s: &quot;NHWC&quot;\\n    }\\n  }\\n}\\nnode {\\n  name: &quot;train/gradients/dnn/outputs/BiasAdd_grad/tuple/group_deps&quot;\\n  op: &quot;NoOp&quot;\\n  input: &quot;^train/gradients/loss/SparseSoftmaxCrossEntropyWithLogits/SparseSoftmaxCrossEntropyWithLogits_grad/mul&quot;\\n  input: &quot;^train/gradients/dnn/outputs/BiasAdd_grad/BiasAddGrad&quot;\\n}\\nnode {\\n  name: &quot;train/gradients/dnn/outputs/BiasAdd_grad/tuple/control_dependency&quot;\\n  op: &quot;Identity&quot;\\n  input: &quot;train/gradients/loss/SparseSoftmaxCrossEntropyWithLogits/SparseSoftmaxCrossEntropyWithLogits_grad/mul&quot;\\n  input: &quot;^train/gradients/dnn/outputs/BiasAdd_grad/tuple/group_deps&quot;\\n  attr {\\n    key: &quot;T&quot;\\n    value {\\n      type: DT_FLOAT\\n    }\\n  }\\n  attr {\\n    key: &quot;_class&quot;\\n    value {\\n      list {\\n        s: &quot;loc:@train/gradients/loss/SparseSoftmaxCrossEntropyWithLogits/SparseSoftmaxCrossEntropyWithLogits_grad/mul&quot;\\n      }\\n    }\\n  }\\n}\\nnode {\\n  name: &quot;train/gradients/dnn/outputs/BiasAdd_grad/tuple/control_dependency_1&quot;\\n  op: &quot;Identity&quot;\\n  input: &quot;train/gradients/dnn/outputs/BiasAdd_grad/BiasAddGrad&quot;\\n  input: &quot;^train/gradients/dnn/outputs/BiasAdd_grad/tuple/group_deps&quot;\\n  attr {\\n    key: &quot;T&quot;\\n    value {\\n      type: DT_FLOAT\\n    }\\n  }\\n  attr {\\n    key: &quot;_class&quot;\\n    value {\\n      list {\\n        s: &quot;loc:@train/gradients/dnn/outputs/BiasAdd_grad/BiasAddGrad&quot;\\n      }\\n    }\\n  }\\n}\\nnode {\\n  name: &quot;train/gradients/dnn/outputs/MatMul_grad/MatMul&quot;\\n  op: &quot;MatMul&quot;\\n  input: &quot;train/gradients/dnn/outputs/BiasAdd_grad/tuple/control_dependency&quot;\\n  input: &quot;outputs/kernel/read&quot;\\n  attr {\\n    key: &quot;T&quot;\\n    value {\\n      type: DT_FLOAT\\n    }\\n  }\\n  attr {\\n    key: &quot;transpose_a&quot;\\n    value {\\n      b: false\\n    }\\n  }\\n  attr {\\n    key: &quot;transpose_b&quot;\\n    value {\\n      b: true\\n    }\\n  }\\n}\\nnode {\\n  name: &quot;train/gradients/dnn/outputs/MatMul_grad/MatMul_1&quot;\\n  op: &quot;MatMul&quot;\\n  input: &quot;dnn/hidden2/Relu&quot;\\n  input: &quot;train/gradients/dnn/outputs/BiasAdd_grad/tuple/control_dependency&quot;\\n  attr {\\n    key: &quot;T&quot;\\n    value {\\n      type: DT_FLOAT\\n    }\\n  }\\n  attr {\\n    key: &quot;transpose_a&quot;\\n    value {\\n      b: true\\n    }\\n  }\\n  attr {\\n    key: &quot;transpose_b&quot;\\n    value {\\n      b: false\\n    }\\n  }\\n}\\nnode {\\n  name: &quot;train/gradients/dnn/outputs/MatMul_grad/tuple/group_deps&quot;\\n  op: &quot;NoOp&quot;\\n  input: &quot;^train/gradients/dnn/outputs/MatMul_grad/MatMul&quot;\\n  input: &quot;^train/gradients/dnn/outputs/MatMul_grad/MatMul_1&quot;\\n}\\nnode {\\n  name: &quot;train/gradients/dnn/outputs/MatMul_grad/tuple/control_dependency&quot;\\n  op: &quot;Identity&quot;\\n  input: &quot;train/gradients/dnn/outputs/MatMul_grad/MatMul&quot;\\n  input: &quot;^train/gradients/dnn/outputs/MatMul_grad/tuple/group_deps&quot;\\n  attr {\\n    key: &quot;T&quot;\\n    value {\\n      type: DT_FLOAT\\n    }\\n  }\\n  attr {\\n    key: &quot;_class&quot;\\n    value {\\n      list {\\n        s: &quot;loc:@train/gradients/dnn/outputs/MatMul_grad/MatMul&quot;\\n      }\\n    }\\n  }\\n}\\nnode {\\n  name: &quot;train/gradients/dnn/outputs/MatMul_grad/tuple/control_dependency_1&quot;\\n  op: &quot;Identity&quot;\\n  input: &quot;train/gradients/dnn/outputs/MatMul_grad/MatMul_1&quot;\\n  input: &quot;^train/gradients/dnn/outputs/MatMul_grad/tuple/group_deps&quot;\\n  attr {\\n    key: &quot;T&quot;\\n    value {\\n      type: DT_FLOAT\\n    }\\n  }\\n  attr {\\n    key: &quot;_class&quot;\\n    value {\\n      list {\\n        s: &quot;loc:@train/gradients/dnn/outputs/MatMul_grad/MatMul_1&quot;\\n      }\\n    }\\n  }\\n}\\nnode {\\n  name: &quot;train/gradients/dnn/hidden2/Relu_grad/ReluGrad&quot;\\n  op: &quot;ReluGrad&quot;\\n  input: &quot;train/gradients/dnn/outputs/MatMul_grad/tuple/control_dependency&quot;\\n  input: &quot;dnn/hidden2/Relu&quot;\\n  attr {\\n    key: &quot;T&quot;\\n    value {\\n      type: DT_FLOAT\\n    }\\n  }\\n}\\nnode {\\n  name: &quot;train/gradients/dnn/hidden2/BiasAdd_grad/BiasAddGrad&quot;\\n  op: &quot;BiasAddGrad&quot;\\n  input: &quot;train/gradients/dnn/hidden2/Relu_grad/ReluGrad&quot;\\n  attr {\\n    key: &quot;T&quot;\\n    value {\\n      type: DT_FLOAT\\n    }\\n  }\\n  attr {\\n    key: &quot;data_format&quot;\\n    value {\\n      s: &quot;NHWC&quot;\\n    }\\n  }\\n}\\nnode {\\n  name: &quot;train/gradients/dnn/hidden2/BiasAdd_grad/tuple/group_deps&quot;\\n  op: &quot;NoOp&quot;\\n  input: &quot;^train/gradients/dnn/hidden2/Relu_grad/ReluGrad&quot;\\n  input: &quot;^train/gradients/dnn/hidden2/BiasAdd_grad/BiasAddGrad&quot;\\n}\\nnode {\\n  name: &quot;train/gradients/dnn/hidden2/BiasAdd_grad/tuple/control_dependency&quot;\\n  op: &quot;Identity&quot;\\n  input: &quot;train/gradients/dnn/hidden2/Relu_grad/ReluGrad&quot;\\n  input: &quot;^train/gradients/dnn/hidden2/BiasAdd_grad/tuple/group_deps&quot;\\n  attr {\\n    key: &quot;T&quot;\\n    value {\\n      type: DT_FLOAT\\n    }\\n  }\\n  attr {\\n    key: &quot;_class&quot;\\n    value {\\n      list {\\n        s: &quot;loc:@train/gradients/dnn/hidden2/Relu_grad/ReluGrad&quot;\\n      }\\n    }\\n  }\\n}\\nnode {\\n  name: &quot;train/gradients/dnn/hidden2/BiasAdd_grad/tuple/control_dependency_1&quot;\\n  op: &quot;Identity&quot;\\n  input: &quot;train/gradients/dnn/hidden2/BiasAdd_grad/BiasAddGrad&quot;\\n  input: &quot;^train/gradients/dnn/hidden2/BiasAdd_grad/tuple/group_deps&quot;\\n  attr {\\n    key: &quot;T&quot;\\n    value {\\n      type: DT_FLOAT\\n    }\\n  }\\n  attr {\\n    key: &quot;_class&quot;\\n    value {\\n      list {\\n        s: &quot;loc:@train/gradients/dnn/hidden2/BiasAdd_grad/BiasAddGrad&quot;\\n      }\\n    }\\n  }\\n}\\nnode {\\n  name: &quot;train/gradients/dnn/hidden2/MatMul_grad/MatMul&quot;\\n  op: &quot;MatMul&quot;\\n  input: &quot;train/gradients/dnn/hidden2/BiasAdd_grad/tuple/control_dependency&quot;\\n  input: &quot;hidden2/kernel/read&quot;\\n  attr {\\n    key: &quot;T&quot;\\n    value {\\n      type: DT_FLOAT\\n    }\\n  }\\n  attr {\\n    key: &quot;transpose_a&quot;\\n    value {\\n      b: false\\n    }\\n  }\\n  attr {\\n    key: &quot;transpose_b&quot;\\n    value {\\n      b: true\\n    }\\n  }\\n}\\nnode {\\n  name: &quot;train/gradients/dnn/hidden2/MatMul_grad/MatMul_1&quot;\\n  op: &quot;MatMul&quot;\\n  input: &quot;dnn/hidden1/Relu&quot;\\n  input: &quot;train/gradients/dnn/hidden2/BiasAdd_grad/tuple/control_dependency&quot;\\n  attr {\\n    key: &quot;T&quot;\\n    value {\\n      type: DT_FLOAT\\n    }\\n  }\\n  attr {\\n    key: &quot;transpose_a&quot;\\n    value {\\n      b: true\\n    }\\n  }\\n  attr {\\n    key: &quot;transpose_b&quot;\\n    value {\\n      b: false\\n    }\\n  }\\n}\\nnode {\\n  name: &quot;train/gradients/dnn/hidden2/MatMul_grad/tuple/group_deps&quot;\\n  op: &quot;NoOp&quot;\\n  input: &quot;^train/gradients/dnn/hidden2/MatMul_grad/MatMul&quot;\\n  input: &quot;^train/gradients/dnn/hidden2/MatMul_grad/MatMul_1&quot;\\n}\\nnode {\\n  name: &quot;train/gradients/dnn/hidden2/MatMul_grad/tuple/control_dependency&quot;\\n  op: &quot;Identity&quot;\\n  input: &quot;train/gradients/dnn/hidden2/MatMul_grad/MatMul&quot;\\n  input: &quot;^train/gradients/dnn/hidden2/MatMul_grad/tuple/group_deps&quot;\\n  attr {\\n    key: &quot;T&quot;\\n    value {\\n      type: DT_FLOAT\\n    }\\n  }\\n  attr {\\n    key: &quot;_class&quot;\\n    value {\\n      list {\\n        s: &quot;loc:@train/gradients/dnn/hidden2/MatMul_grad/MatMul&quot;\\n      }\\n    }\\n  }\\n}\\nnode {\\n  name: &quot;train/gradients/dnn/hidden2/MatMul_grad/tuple/control_dependency_1&quot;\\n  op: &quot;Identity&quot;\\n  input: &quot;train/gradients/dnn/hidden2/MatMul_grad/MatMul_1&quot;\\n  input: &quot;^train/gradients/dnn/hidden2/MatMul_grad/tuple/group_deps&quot;\\n  attr {\\n    key: &quot;T&quot;\\n    value {\\n      type: DT_FLOAT\\n    }\\n  }\\n  attr {\\n    key: &quot;_class&quot;\\n    value {\\n      list {\\n        s: &quot;loc:@train/gradients/dnn/hidden2/MatMul_grad/MatMul_1&quot;\\n      }\\n    }\\n  }\\n}\\nnode {\\n  name: &quot;train/gradients/dnn/hidden1/Relu_grad/ReluGrad&quot;\\n  op: &quot;ReluGrad&quot;\\n  input: &quot;train/gradients/dnn/hidden2/MatMul_grad/tuple/control_dependency&quot;\\n  input: &quot;dnn/hidden1/Relu&quot;\\n  attr {\\n    key: &quot;T&quot;\\n    value {\\n      type: DT_FLOAT\\n    }\\n  }\\n}\\nnode {\\n  name: &quot;train/gradients/dnn/hidden1/BiasAdd_grad/BiasAddGrad&quot;\\n  op: &quot;BiasAddGrad&quot;\\n  input: &quot;train/gradients/dnn/hidden1/Relu_grad/ReluGrad&quot;\\n  attr {\\n    key: &quot;T&quot;\\n    value {\\n      type: DT_FLOAT\\n    }\\n  }\\n  attr {\\n    key: &quot;data_format&quot;\\n    value {\\n      s: &quot;NHWC&quot;\\n    }\\n  }\\n}\\nnode {\\n  name: &quot;train/gradients/dnn/hidden1/BiasAdd_grad/tuple/group_deps&quot;\\n  op: &quot;NoOp&quot;\\n  input: &quot;^train/gradients/dnn/hidden1/Relu_grad/ReluGrad&quot;\\n  input: &quot;^train/gradients/dnn/hidden1/BiasAdd_grad/BiasAddGrad&quot;\\n}\\nnode {\\n  name: &quot;train/gradients/dnn/hidden1/BiasAdd_grad/tuple/control_dependency&quot;\\n  op: &quot;Identity&quot;\\n  input: &quot;train/gradients/dnn/hidden1/Relu_grad/ReluGrad&quot;\\n  input: &quot;^train/gradients/dnn/hidden1/BiasAdd_grad/tuple/group_deps&quot;\\n  attr {\\n    key: &quot;T&quot;\\n    value {\\n      type: DT_FLOAT\\n    }\\n  }\\n  attr {\\n    key: &quot;_class&quot;\\n    value {\\n      list {\\n        s: &quot;loc:@train/gradients/dnn/hidden1/Relu_grad/ReluGrad&quot;\\n      }\\n    }\\n  }\\n}\\nnode {\\n  name: &quot;train/gradients/dnn/hidden1/BiasAdd_grad/tuple/control_dependency_1&quot;\\n  op: &quot;Identity&quot;\\n  input: &quot;train/gradients/dnn/hidden1/BiasAdd_grad/BiasAddGrad&quot;\\n  input: &quot;^train/gradients/dnn/hidden1/BiasAdd_grad/tuple/group_deps&quot;\\n  attr {\\n    key: &quot;T&quot;\\n    value {\\n      type: DT_FLOAT\\n    }\\n  }\\n  attr {\\n    key: &quot;_class&quot;\\n    value {\\n      list {\\n        s: &quot;loc:@train/gradients/dnn/hidden1/BiasAdd_grad/BiasAddGrad&quot;\\n      }\\n    }\\n  }\\n}\\nnode {\\n  name: &quot;train/gradients/dnn/hidden1/MatMul_grad/MatMul&quot;\\n  op: &quot;MatMul&quot;\\n  input: &quot;train/gradients/dnn/hidden1/BiasAdd_grad/tuple/control_dependency&quot;\\n  input: &quot;hidden1/kernel/read&quot;\\n  attr {\\n    key: &quot;T&quot;\\n    value {\\n      type: DT_FLOAT\\n    }\\n  }\\n  attr {\\n    key: &quot;transpose_a&quot;\\n    value {\\n      b: false\\n    }\\n  }\\n  attr {\\n    key: &quot;transpose_b&quot;\\n    value {\\n      b: true\\n    }\\n  }\\n}\\nnode {\\n  name: &quot;train/gradients/dnn/hidden1/MatMul_grad/MatMul_1&quot;\\n  op: &quot;MatMul&quot;\\n  input: &quot;X&quot;\\n  input: &quot;train/gradients/dnn/hidden1/BiasAdd_grad/tuple/control_dependency&quot;\\n  attr {\\n    key: &quot;T&quot;\\n    value {\\n      type: DT_FLOAT\\n    }\\n  }\\n  attr {\\n    key: &quot;transpose_a&quot;\\n    value {\\n      b: true\\n    }\\n  }\\n  attr {\\n    key: &quot;transpose_b&quot;\\n    value {\\n      b: false\\n    }\\n  }\\n}\\nnode {\\n  name: &quot;train/gradients/dnn/hidden1/MatMul_grad/tuple/group_deps&quot;\\n  op: &quot;NoOp&quot;\\n  input: &quot;^train/gradients/dnn/hidden1/MatMul_grad/MatMul&quot;\\n  input: &quot;^train/gradients/dnn/hidden1/MatMul_grad/MatMul_1&quot;\\n}\\nnode {\\n  name: &quot;train/gradients/dnn/hidden1/MatMul_grad/tuple/control_dependency&quot;\\n  op: &quot;Identity&quot;\\n  input: &quot;train/gradients/dnn/hidden1/MatMul_grad/MatMul&quot;\\n  input: &quot;^train/gradients/dnn/hidden1/MatMul_grad/tuple/group_deps&quot;\\n  attr {\\n    key: &quot;T&quot;\\n    value {\\n      type: DT_FLOAT\\n    }\\n  }\\n  attr {\\n    key: &quot;_class&quot;\\n    value {\\n      list {\\n        s: &quot;loc:@train/gradients/dnn/hidden1/MatMul_grad/MatMul&quot;\\n      }\\n    }\\n  }\\n}\\nnode {\\n  name: &quot;train/gradients/dnn/hidden1/MatMul_grad/tuple/control_dependency_1&quot;\\n  op: &quot;Identity&quot;\\n  input: &quot;train/gradients/dnn/hidden1/MatMul_grad/MatMul_1&quot;\\n  input: &quot;^train/gradients/dnn/hidden1/MatMul_grad/tuple/group_deps&quot;\\n  attr {\\n    key: &quot;T&quot;\\n    value {\\n      type: DT_FLOAT\\n    }\\n  }\\n  attr {\\n    key: &quot;_class&quot;\\n    value {\\n      list {\\n        s: &quot;loc:@train/gradients/dnn/hidden1/MatMul_grad/MatMul_1&quot;\\n      }\\n    }\\n  }\\n}\\nnode {\\n  name: &quot;train/GradientDescent/learning_rate&quot;\\n  op: &quot;Const&quot;\\n  attr {\\n    key: &quot;dtype&quot;\\n    value {\\n      type: DT_FLOAT\\n    }\\n  }\\n  attr {\\n    key: &quot;value&quot;\\n    value {\\n      tensor {\\n        dtype: DT_FLOAT\\n        tensor_shape {\\n        }\\n        float_val: 0.009999999776482582\\n      }\\n    }\\n  }\\n}\\nnode {\\n  name: &quot;train/GradientDescent/update_hidden1/kernel/ApplyGradientDescent&quot;\\n  op: &quot;ApplyGradientDescent&quot;\\n  input: &quot;hidden1/kernel&quot;\\n  input: &quot;train/GradientDescent/learning_rate&quot;\\n  input: &quot;train/gradients/dnn/hidden1/MatMul_grad/tuple/control_dependency_1&quot;\\n  attr {\\n    key: &quot;T&quot;\\n    value {\\n      type: DT_FLOAT\\n    }\\n  }\\n  attr {\\n    key: &quot;_class&quot;\\n    value {\\n      list {\\n        s: &quot;loc:@hidden1/kernel&quot;\\n      }\\n    }\\n  }\\n  attr {\\n    key: &quot;use_locking&quot;\\n    value {\\n      b: false\\n    }\\n  }\\n}\\nnode {\\n  name: &quot;train/GradientDescent/update_hidden1/bias/ApplyGradientDescent&quot;\\n  op: &quot;ApplyGradientDescent&quot;\\n  input: &quot;hidden1/bias&quot;\\n  input: &quot;train/GradientDescent/learning_rate&quot;\\n  input: &quot;train/gradients/dnn/hidden1/BiasAdd_grad/tuple/control_dependency_1&quot;\\n  attr {\\n    key: &quot;T&quot;\\n    value {\\n      type: DT_FLOAT\\n    }\\n  }\\n  attr {\\n    key: &quot;_class&quot;\\n    value {\\n      list {\\n        s: &quot;loc:@hidden1/bias&quot;\\n      }\\n    }\\n  }\\n  attr {\\n    key: &quot;use_locking&quot;\\n    value {\\n      b: false\\n    }\\n  }\\n}\\nnode {\\n  name: &quot;train/GradientDescent/update_hidden2/kernel/ApplyGradientDescent&quot;\\n  op: &quot;ApplyGradientDescent&quot;\\n  input: &quot;hidden2/kernel&quot;\\n  input: &quot;train/GradientDescent/learning_rate&quot;\\n  input: &quot;train/gradients/dnn/hidden2/MatMul_grad/tuple/control_dependency_1&quot;\\n  attr {\\n    key: &quot;T&quot;\\n    value {\\n      type: DT_FLOAT\\n    }\\n  }\\n  attr {\\n    key: &quot;_class&quot;\\n    value {\\n      list {\\n        s: &quot;loc:@hidden2/kernel&quot;\\n      }\\n    }\\n  }\\n  attr {\\n    key: &quot;use_locking&quot;\\n    value {\\n      b: false\\n    }\\n  }\\n}\\nnode {\\n  name: &quot;train/GradientDescent/update_hidden2/bias/ApplyGradientDescent&quot;\\n  op: &quot;ApplyGradientDescent&quot;\\n  input: &quot;hidden2/bias&quot;\\n  input: &quot;train/GradientDescent/learning_rate&quot;\\n  input: &quot;train/gradients/dnn/hidden2/BiasAdd_grad/tuple/control_dependency_1&quot;\\n  attr {\\n    key: &quot;T&quot;\\n    value {\\n      type: DT_FLOAT\\n    }\\n  }\\n  attr {\\n    key: &quot;_class&quot;\\n    value {\\n      list {\\n        s: &quot;loc:@hidden2/bias&quot;\\n      }\\n    }\\n  }\\n  attr {\\n    key: &quot;use_locking&quot;\\n    value {\\n      b: false\\n    }\\n  }\\n}\\nnode {\\n  name: &quot;train/GradientDescent/update_outputs/kernel/ApplyGradientDescent&quot;\\n  op: &quot;ApplyGradientDescent&quot;\\n  input: &quot;outputs/kernel&quot;\\n  input: &quot;train/GradientDescent/learning_rate&quot;\\n  input: &quot;train/gradients/dnn/outputs/MatMul_grad/tuple/control_dependency_1&quot;\\n  attr {\\n    key: &quot;T&quot;\\n    value {\\n      type: DT_FLOAT\\n    }\\n  }\\n  attr {\\n    key: &quot;_class&quot;\\n    value {\\n      list {\\n        s: &quot;loc:@outputs/kernel&quot;\\n      }\\n    }\\n  }\\n  attr {\\n    key: &quot;use_locking&quot;\\n    value {\\n      b: false\\n    }\\n  }\\n}\\nnode {\\n  name: &quot;train/GradientDescent/update_outputs/bias/ApplyGradientDescent&quot;\\n  op: &quot;ApplyGradientDescent&quot;\\n  input: &quot;outputs/bias&quot;\\n  input: &quot;train/GradientDescent/learning_rate&quot;\\n  input: &quot;train/gradients/dnn/outputs/BiasAdd_grad/tuple/control_dependency_1&quot;\\n  attr {\\n    key: &quot;T&quot;\\n    value {\\n      type: DT_FLOAT\\n    }\\n  }\\n  attr {\\n    key: &quot;_class&quot;\\n    value {\\n      list {\\n        s: &quot;loc:@outputs/bias&quot;\\n      }\\n    }\\n  }\\n  attr {\\n    key: &quot;use_locking&quot;\\n    value {\\n      b: false\\n    }\\n  }\\n}\\nnode {\\n  name: &quot;train/GradientDescent&quot;\\n  op: &quot;NoOp&quot;\\n  input: &quot;^train/GradientDescent/update_hidden1/kernel/ApplyGradientDescent&quot;\\n  input: &quot;^train/GradientDescent/update_hidden1/bias/ApplyGradientDescent&quot;\\n  input: &quot;^train/GradientDescent/update_hidden2/kernel/ApplyGradientDescent&quot;\\n  input: &quot;^train/GradientDescent/update_hidden2/bias/ApplyGradientDescent&quot;\\n  input: &quot;^train/GradientDescent/update_outputs/kernel/ApplyGradientDescent&quot;\\n  input: &quot;^train/GradientDescent/update_outputs/bias/ApplyGradientDescent&quot;\\n}\\nnode {\\n  name: &quot;eval/InTopK&quot;\\n  op: &quot;InTopK&quot;\\n  input: &quot;dnn/outputs/BiasAdd&quot;\\n  input: &quot;y&quot;\\n  attr {\\n    key: &quot;T&quot;\\n    value {\\n      type: DT_INT64\\n    }\\n  }\\n  attr {\\n    key: &quot;k&quot;\\n    value {\\n      i: 1\\n    }\\n  }\\n}\\nnode {\\n  name: &quot;eval/Cast&quot;\\n  op: &quot;Cast&quot;\\n  input: &quot;eval/InTopK&quot;\\n  attr {\\n    key: &quot;DstT&quot;\\n    value {\\n      type: DT_FLOAT\\n    }\\n  }\\n  attr {\\n    key: &quot;SrcT&quot;\\n    value {\\n      type: DT_BOOL\\n    }\\n  }\\n}\\nnode {\\n  name: &quot;eval/Const&quot;\\n  op: &quot;Const&quot;\\n  attr {\\n    key: &quot;dtype&quot;\\n    value {\\n      type: DT_INT32\\n    }\\n  }\\n  attr {\\n    key: &quot;value&quot;\\n    value {\\n      tensor {\\n        dtype: DT_INT32\\n        tensor_shape {\\n          dim {\\n            size: 1\\n          }\\n        }\\n        int_val: 0\\n      }\\n    }\\n  }\\n}\\nnode {\\n  name: &quot;eval/Mean&quot;\\n  op: &quot;Mean&quot;\\n  input: &quot;eval/Cast&quot;\\n  input: &quot;eval/Const&quot;\\n  attr {\\n    key: &quot;T&quot;\\n    value {\\n      type: DT_FLOAT\\n    }\\n  }\\n  attr {\\n    key: &quot;Tidx&quot;\\n    value {\\n      type: DT_INT32\\n    }\\n  }\\n  attr {\\n    key: &quot;keep_dims&quot;\\n    value {\\n      b: false\\n    }\\n  }\\n}\\nnode {\\n  name: &quot;init&quot;\\n  op: &quot;NoOp&quot;\\n  input: &quot;^hidden1/kernel/Assign&quot;\\n  input: &quot;^hidden1/bias/Assign&quot;\\n  input: &quot;^hidden2/kernel/Assign&quot;\\n  input: &quot;^hidden2/bias/Assign&quot;\\n  input: &quot;^outputs/kernel/Assign&quot;\\n  input: &quot;^outputs/bias/Assign&quot;\\n}\\nnode {\\n  name: &quot;save/Const&quot;\\n  op: &quot;Const&quot;\\n  attr {\\n    key: &quot;dtype&quot;\\n    value {\\n      type: DT_STRING\\n    }\\n  }\\n  attr {\\n    key: &quot;value&quot;\\n    value {\\n      tensor {\\n        dtype: DT_STRING\\n        tensor_shape {\\n        }\\n        string_val: &quot;model&quot;\\n      }\\n    }\\n  }\\n}\\nnode {\\n  name: &quot;save/SaveV2/tensor_names&quot;\\n  op: &quot;Const&quot;\\n  attr {\\n    key: &quot;dtype&quot;\\n    value {\\n      type: DT_STRING\\n    }\\n  }\\n  attr {\\n    key: &quot;value&quot;\\n    value {\\n      tensor {\\n        dtype: DT_STRING\\n        tensor_shape {\\n          dim {\\n            size: 6\\n          }\\n        }\\n        string_val: &quot;hidden1/bias&quot;\\n        string_val: &quot;hidden1/kernel&quot;\\n        string_val: &quot;hidden2/bias&quot;\\n        string_val: &quot;hidden2/kernel&quot;\\n        string_val: &quot;outputs/bias&quot;\\n        string_val: &quot;outputs/kernel&quot;\\n      }\\n    }\\n  }\\n}\\nnode {\\n  name: &quot;save/SaveV2/shape_and_slices&quot;\\n  op: &quot;Const&quot;\\n  attr {\\n    key: &quot;dtype&quot;\\n    value {\\n      type: DT_STRING\\n    }\\n  }\\n  attr {\\n    key: &quot;value&quot;\\n    value {\\n      tensor {\\n        dtype: DT_STRING\\n        tensor_shape {\\n          dim {\\n            size: 6\\n          }\\n        }\\n        string_val: &quot;&quot;\\n        string_val: &quot;&quot;\\n        string_val: &quot;&quot;\\n        string_val: &quot;&quot;\\n        string_val: &quot;&quot;\\n        string_val: &quot;&quot;\\n      }\\n    }\\n  }\\n}\\nnode {\\n  name: &quot;save/SaveV2&quot;\\n  op: &quot;SaveV2&quot;\\n  input: &quot;save/Const&quot;\\n  input: &quot;save/SaveV2/tensor_names&quot;\\n  input: &quot;save/SaveV2/shape_and_slices&quot;\\n  input: &quot;hidden1/bias&quot;\\n  input: &quot;hidden1/kernel&quot;\\n  input: &quot;hidden2/bias&quot;\\n  input: &quot;hidden2/kernel&quot;\\n  input: &quot;outputs/bias&quot;\\n  input: &quot;outputs/kernel&quot;\\n  attr {\\n    key: &quot;dtypes&quot;\\n    value {\\n      list {\\n        type: DT_FLOAT\\n        type: DT_FLOAT\\n        type: DT_FLOAT\\n        type: DT_FLOAT\\n        type: DT_FLOAT\\n        type: DT_FLOAT\\n      }\\n    }\\n  }\\n}\\nnode {\\n  name: &quot;save/control_dependency&quot;\\n  op: &quot;Identity&quot;\\n  input: &quot;save/Const&quot;\\n  input: &quot;^save/SaveV2&quot;\\n  attr {\\n    key: &quot;T&quot;\\n    value {\\n      type: DT_STRING\\n    }\\n  }\\n  attr {\\n    key: &quot;_class&quot;\\n    value {\\n      list {\\n        s: &quot;loc:@save/Const&quot;\\n      }\\n    }\\n  }\\n}\\nnode {\\n  name: &quot;save/RestoreV2/tensor_names&quot;\\n  op: &quot;Const&quot;\\n  attr {\\n    key: &quot;dtype&quot;\\n    value {\\n      type: DT_STRING\\n    }\\n  }\\n  attr {\\n    key: &quot;value&quot;\\n    value {\\n      tensor {\\n        dtype: DT_STRING\\n        tensor_shape {\\n          dim {\\n            size: 1\\n          }\\n        }\\n        string_val: &quot;hidden1/bias&quot;\\n      }\\n    }\\n  }\\n}\\nnode {\\n  name: &quot;save/RestoreV2/shape_and_slices&quot;\\n  op: &quot;Const&quot;\\n  attr {\\n    key: &quot;dtype&quot;\\n    value {\\n      type: DT_STRING\\n    }\\n  }\\n  attr {\\n    key: &quot;value&quot;\\n    value {\\n      tensor {\\n        dtype: DT_STRING\\n        tensor_shape {\\n          dim {\\n            size: 1\\n          }\\n        }\\n        string_val: &quot;&quot;\\n      }\\n    }\\n  }\\n}\\nnode {\\n  name: &quot;save/RestoreV2&quot;\\n  op: &quot;RestoreV2&quot;\\n  input: &quot;save/Const&quot;\\n  input: &quot;save/RestoreV2/tensor_names&quot;\\n  input: &quot;save/RestoreV2/shape_and_slices&quot;\\n  attr {\\n    key: &quot;dtypes&quot;\\n    value {\\n      list {\\n        type: DT_FLOAT\\n      }\\n    }\\n  }\\n}\\nnode {\\n  name: &quot;save/Assign&quot;\\n  op: &quot;Assign&quot;\\n  input: &quot;hidden1/bias&quot;\\n  input: &quot;save/RestoreV2&quot;\\n  attr {\\n    key: &quot;T&quot;\\n    value {\\n      type: DT_FLOAT\\n    }\\n  }\\n  attr {\\n    key: &quot;_class&quot;\\n    value {\\n      list {\\n        s: &quot;loc:@hidden1/bias&quot;\\n      }\\n    }\\n  }\\n  attr {\\n    key: &quot;use_locking&quot;\\n    value {\\n      b: true\\n    }\\n  }\\n  attr {\\n    key: &quot;validate_shape&quot;\\n    value {\\n      b: true\\n    }\\n  }\\n}\\nnode {\\n  name: &quot;save/RestoreV2_1/tensor_names&quot;\\n  op: &quot;Const&quot;\\n  attr {\\n    key: &quot;dtype&quot;\\n    value {\\n      type: DT_STRING\\n    }\\n  }\\n  attr {\\n    key: &quot;value&quot;\\n    value {\\n      tensor {\\n        dtype: DT_STRING\\n        tensor_shape {\\n          dim {\\n            size: 1\\n          }\\n        }\\n        string_val: &quot;hidden1/kernel&quot;\\n      }\\n    }\\n  }\\n}\\nnode {\\n  name: &quot;save/RestoreV2_1/shape_and_slices&quot;\\n  op: &quot;Const&quot;\\n  attr {\\n    key: &quot;dtype&quot;\\n    value {\\n      type: DT_STRING\\n    }\\n  }\\n  attr {\\n    key: &quot;value&quot;\\n    value {\\n      tensor {\\n        dtype: DT_STRING\\n        tensor_shape {\\n          dim {\\n            size: 1\\n          }\\n        }\\n        string_val: &quot;&quot;\\n      }\\n    }\\n  }\\n}\\nnode {\\n  name: &quot;save/RestoreV2_1&quot;\\n  op: &quot;RestoreV2&quot;\\n  input: &quot;save/Const&quot;\\n  input: &quot;save/RestoreV2_1/tensor_names&quot;\\n  input: &quot;save/RestoreV2_1/shape_and_slices&quot;\\n  attr {\\n    key: &quot;dtypes&quot;\\n    value {\\n      list {\\n        type: DT_FLOAT\\n      }\\n    }\\n  }\\n}\\nnode {\\n  name: &quot;save/Assign_1&quot;\\n  op: &quot;Assign&quot;\\n  input: &quot;hidden1/kernel&quot;\\n  input: &quot;save/RestoreV2_1&quot;\\n  attr {\\n    key: &quot;T&quot;\\n    value {\\n      type: DT_FLOAT\\n    }\\n  }\\n  attr {\\n    key: &quot;_class&quot;\\n    value {\\n      list {\\n        s: &quot;loc:@hidden1/kernel&quot;\\n      }\\n    }\\n  }\\n  attr {\\n    key: &quot;use_locking&quot;\\n    value {\\n      b: true\\n    }\\n  }\\n  attr {\\n    key: &quot;validate_shape&quot;\\n    value {\\n      b: true\\n    }\\n  }\\n}\\nnode {\\n  name: &quot;save/RestoreV2_2/tensor_names&quot;\\n  op: &quot;Const&quot;\\n  attr {\\n    key: &quot;dtype&quot;\\n    value {\\n      type: DT_STRING\\n    }\\n  }\\n  attr {\\n    key: &quot;value&quot;\\n    value {\\n      tensor {\\n        dtype: DT_STRING\\n        tensor_shape {\\n          dim {\\n            size: 1\\n          }\\n        }\\n        string_val: &quot;hidden2/bias&quot;\\n      }\\n    }\\n  }\\n}\\nnode {\\n  name: &quot;save/RestoreV2_2/shape_and_slices&quot;\\n  op: &quot;Const&quot;\\n  attr {\\n    key: &quot;dtype&quot;\\n    value {\\n      type: DT_STRING\\n    }\\n  }\\n  attr {\\n    key: &quot;value&quot;\\n    value {\\n      tensor {\\n        dtype: DT_STRING\\n        tensor_shape {\\n          dim {\\n            size: 1\\n          }\\n        }\\n        string_val: &quot;&quot;\\n      }\\n    }\\n  }\\n}\\nnode {\\n  name: &quot;save/RestoreV2_2&quot;\\n  op: &quot;RestoreV2&quot;\\n  input: &quot;save/Const&quot;\\n  input: &quot;save/RestoreV2_2/tensor_names&quot;\\n  input: &quot;save/RestoreV2_2/shape_and_slices&quot;\\n  attr {\\n    key: &quot;dtypes&quot;\\n    value {\\n      list {\\n        type: DT_FLOAT\\n      }\\n    }\\n  }\\n}\\nnode {\\n  name: &quot;save/Assign_2&quot;\\n  op: &quot;Assign&quot;\\n  input: &quot;hidden2/bias&quot;\\n  input: &quot;save/RestoreV2_2&quot;\\n  attr {\\n    key: &quot;T&quot;\\n    value {\\n      type: DT_FLOAT\\n    }\\n  }\\n  attr {\\n    key: &quot;_class&quot;\\n    value {\\n      list {\\n        s: &quot;loc:@hidden2/bias&quot;\\n      }\\n    }\\n  }\\n  attr {\\n    key: &quot;use_locking&quot;\\n    value {\\n      b: true\\n    }\\n  }\\n  attr {\\n    key: &quot;validate_shape&quot;\\n    value {\\n      b: true\\n    }\\n  }\\n}\\nnode {\\n  name: &quot;save/RestoreV2_3/tensor_names&quot;\\n  op: &quot;Const&quot;\\n  attr {\\n    key: &quot;dtype&quot;\\n    value {\\n      type: DT_STRING\\n    }\\n  }\\n  attr {\\n    key: &quot;value&quot;\\n    value {\\n      tensor {\\n        dtype: DT_STRING\\n        tensor_shape {\\n          dim {\\n            size: 1\\n          }\\n        }\\n        string_val: &quot;hidden2/kernel&quot;\\n      }\\n    }\\n  }\\n}\\nnode {\\n  name: &quot;save/RestoreV2_3/shape_and_slices&quot;\\n  op: &quot;Const&quot;\\n  attr {\\n    key: &quot;dtype&quot;\\n    value {\\n      type: DT_STRING\\n    }\\n  }\\n  attr {\\n    key: &quot;value&quot;\\n    value {\\n      tensor {\\n        dtype: DT_STRING\\n        tensor_shape {\\n          dim {\\n            size: 1\\n          }\\n        }\\n        string_val: &quot;&quot;\\n      }\\n    }\\n  }\\n}\\nnode {\\n  name: &quot;save/RestoreV2_3&quot;\\n  op: &quot;RestoreV2&quot;\\n  input: &quot;save/Const&quot;\\n  input: &quot;save/RestoreV2_3/tensor_names&quot;\\n  input: &quot;save/RestoreV2_3/shape_and_slices&quot;\\n  attr {\\n    key: &quot;dtypes&quot;\\n    value {\\n      list {\\n        type: DT_FLOAT\\n      }\\n    }\\n  }\\n}\\nnode {\\n  name: &quot;save/Assign_3&quot;\\n  op: &quot;Assign&quot;\\n  input: &quot;hidden2/kernel&quot;\\n  input: &quot;save/RestoreV2_3&quot;\\n  attr {\\n    key: &quot;T&quot;\\n    value {\\n      type: DT_FLOAT\\n    }\\n  }\\n  attr {\\n    key: &quot;_class&quot;\\n    value {\\n      list {\\n        s: &quot;loc:@hidden2/kernel&quot;\\n      }\\n    }\\n  }\\n  attr {\\n    key: &quot;use_locking&quot;\\n    value {\\n      b: true\\n    }\\n  }\\n  attr {\\n    key: &quot;validate_shape&quot;\\n    value {\\n      b: true\\n    }\\n  }\\n}\\nnode {\\n  name: &quot;save/RestoreV2_4/tensor_names&quot;\\n  op: &quot;Const&quot;\\n  attr {\\n    key: &quot;dtype&quot;\\n    value {\\n      type: DT_STRING\\n    }\\n  }\\n  attr {\\n    key: &quot;value&quot;\\n    value {\\n      tensor {\\n        dtype: DT_STRING\\n        tensor_shape {\\n          dim {\\n            size: 1\\n          }\\n        }\\n        string_val: &quot;outputs/bias&quot;\\n      }\\n    }\\n  }\\n}\\nnode {\\n  name: &quot;save/RestoreV2_4/shape_and_slices&quot;\\n  op: &quot;Const&quot;\\n  attr {\\n    key: &quot;dtype&quot;\\n    value {\\n      type: DT_STRING\\n    }\\n  }\\n  attr {\\n    key: &quot;value&quot;\\n    value {\\n      tensor {\\n        dtype: DT_STRING\\n        tensor_shape {\\n          dim {\\n            size: 1\\n          }\\n        }\\n        string_val: &quot;&quot;\\n      }\\n    }\\n  }\\n}\\nnode {\\n  name: &quot;save/RestoreV2_4&quot;\\n  op: &quot;RestoreV2&quot;\\n  input: &quot;save/Const&quot;\\n  input: &quot;save/RestoreV2_4/tensor_names&quot;\\n  input: &quot;save/RestoreV2_4/shape_and_slices&quot;\\n  attr {\\n    key: &quot;dtypes&quot;\\n    value {\\n      list {\\n        type: DT_FLOAT\\n      }\\n    }\\n  }\\n}\\nnode {\\n  name: &quot;save/Assign_4&quot;\\n  op: &quot;Assign&quot;\\n  input: &quot;outputs/bias&quot;\\n  input: &quot;save/RestoreV2_4&quot;\\n  attr {\\n    key: &quot;T&quot;\\n    value {\\n      type: DT_FLOAT\\n    }\\n  }\\n  attr {\\n    key: &quot;_class&quot;\\n    value {\\n      list {\\n        s: &quot;loc:@outputs/bias&quot;\\n      }\\n    }\\n  }\\n  attr {\\n    key: &quot;use_locking&quot;\\n    value {\\n      b: true\\n    }\\n  }\\n  attr {\\n    key: &quot;validate_shape&quot;\\n    value {\\n      b: true\\n    }\\n  }\\n}\\nnode {\\n  name: &quot;save/RestoreV2_5/tensor_names&quot;\\n  op: &quot;Const&quot;\\n  attr {\\n    key: &quot;dtype&quot;\\n    value {\\n      type: DT_STRING\\n    }\\n  }\\n  attr {\\n    key: &quot;value&quot;\\n    value {\\n      tensor {\\n        dtype: DT_STRING\\n        tensor_shape {\\n          dim {\\n            size: 1\\n          }\\n        }\\n        string_val: &quot;outputs/kernel&quot;\\n      }\\n    }\\n  }\\n}\\nnode {\\n  name: &quot;save/RestoreV2_5/shape_and_slices&quot;\\n  op: &quot;Const&quot;\\n  attr {\\n    key: &quot;dtype&quot;\\n    value {\\n      type: DT_STRING\\n    }\\n  }\\n  attr {\\n    key: &quot;value&quot;\\n    value {\\n      tensor {\\n        dtype: DT_STRING\\n        tensor_shape {\\n          dim {\\n            size: 1\\n          }\\n        }\\n        string_val: &quot;&quot;\\n      }\\n    }\\n  }\\n}\\nnode {\\n  name: &quot;save/RestoreV2_5&quot;\\n  op: &quot;RestoreV2&quot;\\n  input: &quot;save/Const&quot;\\n  input: &quot;save/RestoreV2_5/tensor_names&quot;\\n  input: &quot;save/RestoreV2_5/shape_and_slices&quot;\\n  attr {\\n    key: &quot;dtypes&quot;\\n    value {\\n      list {\\n        type: DT_FLOAT\\n      }\\n    }\\n  }\\n}\\nnode {\\n  name: &quot;save/Assign_5&quot;\\n  op: &quot;Assign&quot;\\n  input: &quot;outputs/kernel&quot;\\n  input: &quot;save/RestoreV2_5&quot;\\n  attr {\\n    key: &quot;T&quot;\\n    value {\\n      type: DT_FLOAT\\n    }\\n  }\\n  attr {\\n    key: &quot;_class&quot;\\n    value {\\n      list {\\n        s: &quot;loc:@outputs/kernel&quot;\\n      }\\n    }\\n  }\\n  attr {\\n    key: &quot;use_locking&quot;\\n    value {\\n      b: true\\n    }\\n  }\\n  attr {\\n    key: &quot;validate_shape&quot;\\n    value {\\n      b: true\\n    }\\n  }\\n}\\nnode {\\n  name: &quot;save/restore_all&quot;\\n  op: &quot;NoOp&quot;\\n  input: &quot;^save/Assign&quot;\\n  input: &quot;^save/Assign_1&quot;\\n  input: &quot;^save/Assign_2&quot;\\n  input: &quot;^save/Assign_3&quot;\\n  input: &quot;^save/Assign_4&quot;\\n  input: &quot;^save/Assign_5&quot;\\n}\\nnode {\\n  name: &quot;loss_1/SparseSoftmaxCrossEntropyWithLogits/Shape&quot;\\n  op: &quot;Shape&quot;\\n  input: &quot;y&quot;\\n  attr {\\n    key: &quot;T&quot;\\n    value {\\n      type: DT_INT64\\n    }\\n  }\\n  attr {\\n    key: &quot;out_type&quot;\\n    value {\\n      type: DT_INT32\\n    }\\n  }\\n}\\nnode {\\n  name: &quot;loss_1/SparseSoftmaxCrossEntropyWithLogits/SparseSoftmaxCrossEntropyWithLogits&quot;\\n  op: &quot;SparseSoftmaxCrossEntropyWithLogits&quot;\\n  input: &quot;dnn/outputs/BiasAdd&quot;\\n  input: &quot;y&quot;\\n  attr {\\n    key: &quot;T&quot;\\n    value {\\n      type: DT_FLOAT\\n    }\\n  }\\n  attr {\\n    key: &quot;Tlabels&quot;\\n    value {\\n      type: DT_INT64\\n    }\\n  }\\n}\\nnode {\\n  name: &quot;loss_1/Const&quot;\\n  op: &quot;Const&quot;\\n  attr {\\n    key: &quot;dtype&quot;\\n    value {\\n      type: DT_INT32\\n    }\\n  }\\n  attr {\\n    key: &quot;value&quot;\\n    value {\\n      tensor {\\n        dtype: DT_INT32\\n        tensor_shape {\\n          dim {\\n            size: 1\\n          }\\n        }\\n        int_val: 0\\n      }\\n    }\\n  }\\n}\\nnode {\\n  name: &quot;loss_1/loss&quot;\\n  op: &quot;Mean&quot;\\n  input: &quot;loss_1/SparseSoftmaxCrossEntropyWithLogits/SparseSoftmaxCrossEntropyWithLogits&quot;\\n  input: &quot;loss_1/Const&quot;\\n  attr {\\n    key: &quot;T&quot;\\n    value {\\n      type: DT_FLOAT\\n    }\\n  }\\n  attr {\\n    key: &quot;Tidx&quot;\\n    value {\\n      type: DT_INT32\\n    }\\n  }\\n  attr {\\n    key: &quot;keep_dims&quot;\\n    value {\\n      b: false\\n    }\\n  }\\n}\\n';\n",
       "          }\n",
       "        </script>\n",
       "        <link rel=&quot;import&quot; href=&quot;https://tensorboard.appspot.com/tf-graph-basic.build.html&quot; onload=load()>\n",
       "        <div style=&quot;height:600px&quot;>\n",
       "          <tf-graph-basic id=&quot;graph0.08185155632074148&quot;></tf-graph-basic>\n",
       "        </div>\n",
       "    \"></iframe>\n",
       "    "
      ],
      "text/plain": [
       "<IPython.core.display.HTML object>"
      ]
     },
     "metadata": {},
     "output_type": "display_data"
    }
   ],
   "source": [
    "show_graph(tf.get_default_graph())"
   ]
  },
  {
   "cell_type": "markdown",
   "metadata": {},
   "source": [
    "### Fine-tuning neural network hyperparameters\n",
    "\n",
    "- 신경 네트워크의 유연성 또한 주요 단점 중 하나입니다. 조정할 수 있는 많은 하이퍼 파라미터가 있습니다. \n",
    "\n",
    "- 상상할 수있는 네트워크 토폴로지 (뉴런 상호 연결 방식)를 사용할 수 있을 뿐만 아니라 간단한 MLP에서도 레이어 수, 레이어 당 뉴런 수, 각 레이어에서 사용할 활성화 함수의 유형, 가중치 초기화 로직 등을 제공합니다. 하이퍼 매개 변수의 조합이 작업에 가장 적합한 방법을 어떻게 알 수 있습니까?\n",
    "\n",
    "- 물론 이전 교차 장에서 했던 것처럼 교차 검증과 함께 그리드 검색을 사용하여 올바른 하이퍼 매개 변수를 찾을 수 있지만 대규모 데이터 세트에서 신경 네트워크를 학습하는 데는 많은 시간이 걸리기 때문에 합리적인 시간 내에 하이퍼 매개 변수 공간의 작은 부분을 탐색하십시오.\n",
    "\n",
    "- 검색 속도를 높이는 한 가지 방법은 매우 거친 그리드 검색으로 시작한 다음 점진적으로 가장 잘 작동하는 하이퍼 매개 변수 공간 부분을 확대하는 것입니다.\n",
    "\n",
    "- 각 하이퍼 매개 변수에 대해 합리적인 값이 무엇인지 생각하는 데 도움이되므로 검색 공간을 제한 할 수 있습니다. 숨겨진 레이어의 수부터 시작해 보겠습니다.\n",
    "\n",
    "\n",
    "### Number of hidden layers\n",
    "- 많은 문제들에 대해, 당신은 단지 하나의 숨겨진 레이어로 시작할 수 있으며, 합리적인 결과를 얻을 것입니다. 실제로 하나의 숨겨진 레이어가 있는 MLP가 충분한 뉴런을 제공한다면 가장 복잡한 기능조차도 모델링 할 수 있다는 사실이 실제로 나타났습니다. \n",
    "\n",
    "- 오랜 세월 동안 이러한 사실은 연구자들이 더 깊은 신경 네트워크를 조사 할 필요가 없다고 확신 시켰습니다. 그러나 깊은 네트워크는 얕은 네트워크보다 훨씬 더 높은 매개 변수 효율성을 간과했다. 얕은 네트워크보다 지수 적으로 적은 뉴런을 사용하여 복잡한 함수를 모델링 할 수 있으므로 훈련이 훨씬 빨라진다.\n",
    "\n",
    "- 이유를 이해하려면 드로잉 소프트웨어를 사용하여 포리스트를 그리도록 요청 받았지만 복사 / 붙여 넣기를 사용하는 것은 금지되어 있습니다. \n",
    "\n",
    "- 각 트리를 개별적으로 그려야 하고, 분기마다 분기하고 리프마다 리프를 그려야합니다. 하나의 잎을 그릴 수 있다면 그것을 복사하여 붙여 넣기를하고 그 지점을 복사 / 붙여 넣기하여 나무를 만들고 마지막으로이 나무를 복사하여 붙여 넣어 숲을 만들면 곧 마칠 수 있습니다. 실제 데이터는 종종 계층 적 방식으로 구조화되며 DNN은 자동으로이 사실을 이용합니다. 숨겨진 계층 모델을 하위 수준 구조 (예 : 다양한 모양 및 방향의 선분)로 모델링하고 숨겨진 계층은 이러한 저급 구조를 모델 중간 레벨 구조 (예 : 사각형, 원), 가장 높은 숨겨진 레이어와 출력 레이어는 이러한 중간 구조를 결합하여 상위 수준 구조 (예 : 면)를 모델링합니다.\n",
    "\n",
    "- 이 계층적 아키텍처는 DNN이보다 신속하게 좋은 솔루션으로 수렴 할 수 있을 뿐 아니라 새로운 데이터 세트로 일반화 할 수 있는 능력을 향상시킵니다.\n",
    "\n",
    "- 예를 들어 사진에서 얼굴을 인식하도록 모델을 이미 훈련했으며 새 신경망을 학습하여 헤어 스타일을 인식하려면 첫 번째 네트워크의 하위 레이어를 재사용하여 시작 교육을 시작할 수 있습니다. \n",
    "\n",
    "- 임의로 초기화 하는 대신 새로운 신경 네트워크의 처음 몇 개의 레이어의 가중치와 편차를 이용하여 첫 번째 네트워크의 하위 레이어의 가중치와 바이어스 값으로 초기화 할 수 있습니다. 이 방법으로 네트워크는 대부분의 사진에서 발생하는 모든 저수준 구조를 처음부터 배우지 않아도되며 더 높은 수준의 구조 (예 : 헤어 스타일) 만 학습하면 됩니다.\n",
    "\n",
    "- 요약하면, 많은 문제들에 대해, 하나 또는 두 개의 숨겨진 레이어로 시작할 수 있습니다. (즉, 수백 개의 뉴런을 가진 숨겨진 레이어 하나만 사용하여 MNIST 데이터 세트에서 97 % 이상의 정확도를 쉽게 얻을 수 있습니다. \n",
    "\n",
    "- 대략 동일한 양의 뉴런을 가진 2 개의 숨겨진 레이어를 사용하여 대략 98 %의 정확도를 제공합니다. 좀 더 복잡한 문제의 경우, 교육 세트를 과도하게 시작할 때까지 숨겨진 레이어의 수를 점차적으로 늘릴 수 있습니다. \n",
    "\n",
    "- 큰 이미지 분류 또는 음성 인식과 같은 매우 복잡한 작업에는 일반적으로 수십 개의 레이어가있는 네트워크가 필요하지만 (13 장에서 볼 수 있듯이 완전히 연결되지는 않음) 많은 양의 교육 데이터가 필요합니다. \n",
    "\n",
    "- 그러나 그러한 네트워크를 처음부터 교육 할 필요는 거의 없습니다. 유사한 작업을 수행하는 사전 교육 된 최첨단 네트워크의 일부를 재사용하는 것이 훨씬 더 일반적입니다. \n",
    "\n",
    "- 훈련은 훨씬 빨라지고 훨씬 적은 데이터가 필요합니다 (11 장에서 이에 대해 논의 할 것입니다)."
   ]
  },
  {
   "cell_type": "markdown",
   "metadata": {},
   "source": [
    "### Number of neurons per hidden layer\n",
    "\n",
    "- 숨겨진 레이어 당 뉴런의 수에 대한 합리적인 시작점은 대략 입력 레이어와 출력 레이어 사이의 뉴런 수를 보간하는 것입니다.\n",
    "- 예를 들어, MNIST 작업에는 784 개의 입력 뉴런과 10 개의 출력 뉴런이 있으므로 하나의 숨겨진 레이어 만 사용하기로 결정한 경우 400 개의 뉴런 (대략 784와 10의 평균)을 시작으로 사용할 수 있습니다. \n",
    "- 2 개의 숨겨진 레이어를 사용하면 첫 번째 레이어에 300 개의 뉴런과 두 번째 레이어에 100 개의 뉴런을 배치하는 것이 합리적인 선택입니다. \n",
    "\n",
    "- 레이어 수와 마찬가지로 네트워크가 지나치게 시작될 때까지 점차적으로 뉴런의 수를 늘릴 수 있습니다.\n",
    "- 불행히도, 당신이 볼 수 있듯이, 완벽한 양의 뉴런을 찾는 것은 여전히 다소 black art입니다.\n",
    "\n",
    "- 더 간단한 접근법은 실제로 필요한 것보다 더 많은 레이어와 뉴런을 가진 모델을 선택한 다음 조기 정지를 사용하여 오버 피팅을 방지합니다 (11 장에서 볼 수 있듯이 드롭 아웃과 같은 다른 정규화 기법). \n",
    "\n",
    "- 이것은 \"stretch pants\" 접근법이라고 불립니다. 크기와 완벽하게 맞는 바지를 찾는 데 시간을 낭비하는 대신 올바른 크기로 줄어들 수있는 큰 stretch pants를 사용하십시오.\n",
    "\n",
    "### Activation functions\n",
    "\n",
    "- 대부분의 경우 숨겨진 레이어 (또는 11 장에서 볼 수있는 변형 중 하나)에서 ReLU 활성화 함수를 사용할 수 있습니다.\n",
    "\n",
    "- 다른 활성화 함수보다 계산 속도가 훨씬 빠르며 그래디언트 디센트 (Gradient Descent)가 많이 걸리지 않습니다. (로지스틱 함수 또는 쌍곡선 탄젠트 함수가 1로 포화하는 것과는 대조적으로) \n",
    "\n",
    "- 큰 입력 값에 대해 포화 상태가 아니기 때문에 고원에 놓이게 됩니다.\n",
    "\n",
    "- 출력 레이어의 경우 softmax 활성화 기능은 일반적으로 분류 작업 (클래스가 상호 배타적 인 경우)에 적합한 선택입니다. 회귀 작업의 경우 정품 인증 기능을 전혀 사용하지 않아도됩니다.\n",
    "\n",
    "- 이것으로 인공 신경망에 대한 소개를 마칩니다. 다음 장에서 우리는 매우 깊은 그물을 훈련시키고, 여러 서버와 GPU에 걸쳐 훈련을 배포하는 기술을 논의한 다음, 다른 많은 대중적인 신경망 구조, Convolutional Neural Networks, Recurrent Neural Networks and Autoencoders를 탐구할 것입니다."
   ]
  },
  {
   "cell_type": "markdown",
   "metadata": {},
   "source": [
    "### Using dense() instead of neuron_layer()\n",
    "\n",
    "- 이 책은 `tf.layers.dense()`(이 장을 쓸 때 없었던) 대신 `tensorflow.contrib.layers.fully_connected()`를 사용합니다. \n",
    "- contrib 모듈의 내용은 예고없이 변경되거나 삭제 될 수 있으므로 `tf.layers.dense()`를 사용하는 것이 더 바람직합니다. \n",
    "- `dense()`함수는 몇 가지 사소한 차이점을 제외하면 `fully_connected()` 함수와 거의 동일합니다 :\n",
    "- 여러 매개 변수의 이름이 바뀌 었습니다 :`scope`는`name`이되고,`activation_fn`은 `activation`이 됩니다. (마찬가지로`_fn` 접미사는`normalizer_fn` 같은 다른 매개 변수에서 제거됩니다),`weights_initializer`는 `kernel_initializer` 등이 됩니다.)\n",
    "- 디폴트`activation`은`tf.nn.relu`보다는`None`입니다.\n",
    "- 더 많은 차이점이 11 장에 제시되어있다."
   ]
  },
  {
   "cell_type": "code",
   "execution_count": 59,
   "metadata": {
    "collapsed": true
   },
   "outputs": [],
   "source": [
    "n_inputs = 28*28  # MNIST\n",
    "n_hidden1 = 300\n",
    "n_hidden2 = 100\n",
    "n_outputs = 10"
   ]
  },
  {
   "cell_type": "code",
   "execution_count": 60,
   "metadata": {
    "collapsed": true
   },
   "outputs": [],
   "source": [
    "reset_graph()\n",
    "\n",
    "X = tf.placeholder(tf.float32, shape=(None, n_inputs), name=\"X\")\n",
    "y = tf.placeholder(tf.int64, shape=(None), name=\"y\") "
   ]
  },
  {
   "cell_type": "code",
   "execution_count": 61,
   "metadata": {
    "collapsed": true
   },
   "outputs": [],
   "source": [
    "with tf.name_scope(\"dnn\"):\n",
    "    hidden1 = tf.layers.dense(X, n_hidden1, name=\"hidden1\",\n",
    "                              activation=tf.nn.relu)\n",
    "    hidden2 = tf.layers.dense(hidden1, n_hidden2, name=\"hidden2\",\n",
    "                              activation=tf.nn.relu)\n",
    "    logits = tf.layers.dense(hidden2, n_outputs, name=\"outputs\")"
   ]
  },
  {
   "cell_type": "code",
   "execution_count": 62,
   "metadata": {
    "collapsed": true
   },
   "outputs": [],
   "source": [
    "with tf.name_scope(\"loss\"):\n",
    "    xentropy = tf.nn.sparse_softmax_cross_entropy_with_logits(labels=y, logits=logits)\n",
    "    loss = tf.reduce_mean(xentropy, name=\"loss\")"
   ]
  },
  {
   "cell_type": "code",
   "execution_count": 63,
   "metadata": {
    "collapsed": true
   },
   "outputs": [],
   "source": [
    "learning_rate = 0.01\n",
    "\n",
    "with tf.name_scope(\"train\"):\n",
    "    optimizer = tf.train.GradientDescentOptimizer(learning_rate)\n",
    "    training_op = optimizer.minimize(loss)"
   ]
  },
  {
   "cell_type": "code",
   "execution_count": 64,
   "metadata": {
    "collapsed": true
   },
   "outputs": [],
   "source": [
    "with tf.name_scope(\"eval\"):\n",
    "    correct = tf.nn.in_top_k(logits, y, 1)\n",
    "    accuracy = tf.reduce_mean(tf.cast(correct, tf.float32))"
   ]
  },
  {
   "cell_type": "code",
   "execution_count": 65,
   "metadata": {
    "collapsed": true
   },
   "outputs": [],
   "source": [
    "init = tf.global_variables_initializer()\n",
    "saver = tf.train.Saver()"
   ]
  },
  {
   "cell_type": "code",
   "execution_count": 66,
   "metadata": {
    "collapsed": false
   },
   "outputs": [
    {
     "name": "stdout",
     "output_type": "stream",
     "text": [
      "0 Train accuracy: 0.9 Test accuracy: 0.9053\n",
      "1 Train accuracy: 0.88 Test accuracy: 0.9206\n",
      "2 Train accuracy: 0.94 Test accuracy: 0.9301\n",
      "3 Train accuracy: 0.94 Test accuracy: 0.9397\n",
      "4 Train accuracy: 0.92 Test accuracy: 0.945\n",
      "5 Train accuracy: 0.94 Test accuracy: 0.9476\n",
      "6 Train accuracy: 0.92 Test accuracy: 0.9514\n",
      "7 Train accuracy: 0.98 Test accuracy: 0.9547\n",
      "8 Train accuracy: 0.96 Test accuracy: 0.9569\n",
      "9 Train accuracy: 0.94 Test accuracy: 0.9605\n",
      "10 Train accuracy: 0.92 Test accuracy: 0.962\n",
      "11 Train accuracy: 0.96 Test accuracy: 0.9631\n",
      "12 Train accuracy: 1.0 Test accuracy: 0.966\n",
      "13 Train accuracy: 0.94 Test accuracy: 0.9656\n",
      "14 Train accuracy: 1.0 Test accuracy: 0.967\n",
      "15 Train accuracy: 0.94 Test accuracy: 0.9682\n",
      "16 Train accuracy: 0.96 Test accuracy: 0.97\n",
      "17 Train accuracy: 0.98 Test accuracy: 0.9695\n",
      "18 Train accuracy: 1.0 Test accuracy: 0.97\n",
      "19 Train accuracy: 1.0 Test accuracy: 0.9708\n"
     ]
    }
   ],
   "source": [
    "n_epochs = 20\n",
    "n_batches = 50\n",
    "\n",
    "with tf.Session() as sess:\n",
    "    init.run()\n",
    "    for epoch in range(n_epochs):\n",
    "        for iteration in range(mnist.train.num_examples // batch_size):\n",
    "            X_batch, y_batch = mnist.train.next_batch(batch_size)\n",
    "            sess.run(training_op, feed_dict={X: X_batch, y: y_batch})\n",
    "        acc_train = accuracy.eval(feed_dict={X: X_batch, y: y_batch})\n",
    "        acc_test = accuracy.eval(feed_dict={X: mnist.test.images, y: mnist.test.labels})\n",
    "        print(epoch, \"Train accuracy:\", acc_train, \"Test accuracy:\", acc_test)\n",
    "\n",
    "    save_path = saver.save(sess, \"./my_model_final.ckpt\")"
   ]
  },
  {
   "cell_type": "code",
   "execution_count": 67,
   "metadata": {
    "collapsed": false
   },
   "outputs": [
    {
     "data": {
      "text/html": [
       "\n",
       "        <iframe seamless style=\"width:1200px;height:620px;border:0\" srcdoc=\"\n",
       "        <script>\n",
       "          function load() {\n",
       "            document.getElementById(&quot;graph0.7224827313584268&quot;).pbtxt = 'node {\\n  name: &quot;X&quot;\\n  op: &quot;Placeholder&quot;\\n  attr {\\n    key: &quot;dtype&quot;\\n    value {\\n      type: DT_FLOAT\\n    }\\n  }\\n  attr {\\n    key: &quot;shape&quot;\\n    value {\\n      shape {\\n        dim {\\n          size: -1\\n        }\\n        dim {\\n          size: 784\\n        }\\n      }\\n    }\\n  }\\n}\\nnode {\\n  name: &quot;y&quot;\\n  op: &quot;Placeholder&quot;\\n  attr {\\n    key: &quot;dtype&quot;\\n    value {\\n      type: DT_INT64\\n    }\\n  }\\n  attr {\\n    key: &quot;shape&quot;\\n    value {\\n      shape {\\n        unknown_rank: true\\n      }\\n    }\\n  }\\n}\\nnode {\\n  name: &quot;hidden1/kernel/Initializer/random_uniform/shape&quot;\\n  op: &quot;Const&quot;\\n  attr {\\n    key: &quot;_class&quot;\\n    value {\\n      list {\\n        s: &quot;loc:@hidden1/kernel&quot;\\n      }\\n    }\\n  }\\n  attr {\\n    key: &quot;dtype&quot;\\n    value {\\n      type: DT_INT32\\n    }\\n  }\\n  attr {\\n    key: &quot;value&quot;\\n    value {\\n      tensor {\\n        dtype: DT_INT32\\n        tensor_shape {\\n          dim {\\n            size: 2\\n          }\\n        }\\n        tensor_content: &quot;\\\\020\\\\003\\\\000\\\\000,\\\\001\\\\000\\\\000&quot;\\n      }\\n    }\\n  }\\n}\\nnode {\\n  name: &quot;hidden1/kernel/Initializer/random_uniform/min&quot;\\n  op: &quot;Const&quot;\\n  attr {\\n    key: &quot;_class&quot;\\n    value {\\n      list {\\n        s: &quot;loc:@hidden1/kernel&quot;\\n      }\\n    }\\n  }\\n  attr {\\n    key: &quot;dtype&quot;\\n    value {\\n      type: DT_FLOAT\\n    }\\n  }\\n  attr {\\n    key: &quot;value&quot;\\n    value {\\n      tensor {\\n        dtype: DT_FLOAT\\n        tensor_shape {\\n        }\\n        float_val: -0.07439795136451721\\n      }\\n    }\\n  }\\n}\\nnode {\\n  name: &quot;hidden1/kernel/Initializer/random_uniform/max&quot;\\n  op: &quot;Const&quot;\\n  attr {\\n    key: &quot;_class&quot;\\n    value {\\n      list {\\n        s: &quot;loc:@hidden1/kernel&quot;\\n      }\\n    }\\n  }\\n  attr {\\n    key: &quot;dtype&quot;\\n    value {\\n      type: DT_FLOAT\\n    }\\n  }\\n  attr {\\n    key: &quot;value&quot;\\n    value {\\n      tensor {\\n        dtype: DT_FLOAT\\n        tensor_shape {\\n        }\\n        float_val: 0.07439795136451721\\n      }\\n    }\\n  }\\n}\\nnode {\\n  name: &quot;hidden1/kernel/Initializer/random_uniform/RandomUniform&quot;\\n  op: &quot;RandomUniform&quot;\\n  input: &quot;hidden1/kernel/Initializer/random_uniform/shape&quot;\\n  attr {\\n    key: &quot;T&quot;\\n    value {\\n      type: DT_INT32\\n    }\\n  }\\n  attr {\\n    key: &quot;_class&quot;\\n    value {\\n      list {\\n        s: &quot;loc:@hidden1/kernel&quot;\\n      }\\n    }\\n  }\\n  attr {\\n    key: &quot;dtype&quot;\\n    value {\\n      type: DT_FLOAT\\n    }\\n  }\\n  attr {\\n    key: &quot;seed&quot;\\n    value {\\n      i: 42\\n    }\\n  }\\n  attr {\\n    key: &quot;seed2&quot;\\n    value {\\n      i: 5\\n    }\\n  }\\n}\\nnode {\\n  name: &quot;hidden1/kernel/Initializer/random_uniform/sub&quot;\\n  op: &quot;Sub&quot;\\n  input: &quot;hidden1/kernel/Initializer/random_uniform/max&quot;\\n  input: &quot;hidden1/kernel/Initializer/random_uniform/min&quot;\\n  attr {\\n    key: &quot;T&quot;\\n    value {\\n      type: DT_FLOAT\\n    }\\n  }\\n  attr {\\n    key: &quot;_class&quot;\\n    value {\\n      list {\\n        s: &quot;loc:@hidden1/kernel&quot;\\n      }\\n    }\\n  }\\n}\\nnode {\\n  name: &quot;hidden1/kernel/Initializer/random_uniform/mul&quot;\\n  op: &quot;Mul&quot;\\n  input: &quot;hidden1/kernel/Initializer/random_uniform/RandomUniform&quot;\\n  input: &quot;hidden1/kernel/Initializer/random_uniform/sub&quot;\\n  attr {\\n    key: &quot;T&quot;\\n    value {\\n      type: DT_FLOAT\\n    }\\n  }\\n  attr {\\n    key: &quot;_class&quot;\\n    value {\\n      list {\\n        s: &quot;loc:@hidden1/kernel&quot;\\n      }\\n    }\\n  }\\n}\\nnode {\\n  name: &quot;hidden1/kernel/Initializer/random_uniform&quot;\\n  op: &quot;Add&quot;\\n  input: &quot;hidden1/kernel/Initializer/random_uniform/mul&quot;\\n  input: &quot;hidden1/kernel/Initializer/random_uniform/min&quot;\\n  attr {\\n    key: &quot;T&quot;\\n    value {\\n      type: DT_FLOAT\\n    }\\n  }\\n  attr {\\n    key: &quot;_class&quot;\\n    value {\\n      list {\\n        s: &quot;loc:@hidden1/kernel&quot;\\n      }\\n    }\\n  }\\n}\\nnode {\\n  name: &quot;hidden1/kernel&quot;\\n  op: &quot;VariableV2&quot;\\n  attr {\\n    key: &quot;_class&quot;\\n    value {\\n      list {\\n        s: &quot;loc:@hidden1/kernel&quot;\\n      }\\n    }\\n  }\\n  attr {\\n    key: &quot;container&quot;\\n    value {\\n      s: &quot;&quot;\\n    }\\n  }\\n  attr {\\n    key: &quot;dtype&quot;\\n    value {\\n      type: DT_FLOAT\\n    }\\n  }\\n  attr {\\n    key: &quot;shape&quot;\\n    value {\\n      shape {\\n        dim {\\n          size: 784\\n        }\\n        dim {\\n          size: 300\\n        }\\n      }\\n    }\\n  }\\n  attr {\\n    key: &quot;shared_name&quot;\\n    value {\\n      s: &quot;&quot;\\n    }\\n  }\\n}\\nnode {\\n  name: &quot;hidden1/kernel/Assign&quot;\\n  op: &quot;Assign&quot;\\n  input: &quot;hidden1/kernel&quot;\\n  input: &quot;hidden1/kernel/Initializer/random_uniform&quot;\\n  attr {\\n    key: &quot;T&quot;\\n    value {\\n      type: DT_FLOAT\\n    }\\n  }\\n  attr {\\n    key: &quot;_class&quot;\\n    value {\\n      list {\\n        s: &quot;loc:@hidden1/kernel&quot;\\n      }\\n    }\\n  }\\n  attr {\\n    key: &quot;use_locking&quot;\\n    value {\\n      b: true\\n    }\\n  }\\n  attr {\\n    key: &quot;validate_shape&quot;\\n    value {\\n      b: true\\n    }\\n  }\\n}\\nnode {\\n  name: &quot;hidden1/kernel/read&quot;\\n  op: &quot;Identity&quot;\\n  input: &quot;hidden1/kernel&quot;\\n  attr {\\n    key: &quot;T&quot;\\n    value {\\n      type: DT_FLOAT\\n    }\\n  }\\n  attr {\\n    key: &quot;_class&quot;\\n    value {\\n      list {\\n        s: &quot;loc:@hidden1/kernel&quot;\\n      }\\n    }\\n  }\\n}\\nnode {\\n  name: &quot;hidden1/bias/Initializer/zeros&quot;\\n  op: &quot;Const&quot;\\n  attr {\\n    key: &quot;_class&quot;\\n    value {\\n      list {\\n        s: &quot;loc:@hidden1/bias&quot;\\n      }\\n    }\\n  }\\n  attr {\\n    key: &quot;dtype&quot;\\n    value {\\n      type: DT_FLOAT\\n    }\\n  }\\n  attr {\\n    key: &quot;value&quot;\\n    value {\\n      tensor {\\n        dtype: DT_FLOAT\\n        tensor_shape {\\n          dim {\\n            size: 300\\n          }\\n        }\\n        float_val: 0.0\\n      }\\n    }\\n  }\\n}\\nnode {\\n  name: &quot;hidden1/bias&quot;\\n  op: &quot;VariableV2&quot;\\n  attr {\\n    key: &quot;_class&quot;\\n    value {\\n      list {\\n        s: &quot;loc:@hidden1/bias&quot;\\n      }\\n    }\\n  }\\n  attr {\\n    key: &quot;container&quot;\\n    value {\\n      s: &quot;&quot;\\n    }\\n  }\\n  attr {\\n    key: &quot;dtype&quot;\\n    value {\\n      type: DT_FLOAT\\n    }\\n  }\\n  attr {\\n    key: &quot;shape&quot;\\n    value {\\n      shape {\\n        dim {\\n          size: 300\\n        }\\n      }\\n    }\\n  }\\n  attr {\\n    key: &quot;shared_name&quot;\\n    value {\\n      s: &quot;&quot;\\n    }\\n  }\\n}\\nnode {\\n  name: &quot;hidden1/bias/Assign&quot;\\n  op: &quot;Assign&quot;\\n  input: &quot;hidden1/bias&quot;\\n  input: &quot;hidden1/bias/Initializer/zeros&quot;\\n  attr {\\n    key: &quot;T&quot;\\n    value {\\n      type: DT_FLOAT\\n    }\\n  }\\n  attr {\\n    key: &quot;_class&quot;\\n    value {\\n      list {\\n        s: &quot;loc:@hidden1/bias&quot;\\n      }\\n    }\\n  }\\n  attr {\\n    key: &quot;use_locking&quot;\\n    value {\\n      b: true\\n    }\\n  }\\n  attr {\\n    key: &quot;validate_shape&quot;\\n    value {\\n      b: true\\n    }\\n  }\\n}\\nnode {\\n  name: &quot;hidden1/bias/read&quot;\\n  op: &quot;Identity&quot;\\n  input: &quot;hidden1/bias&quot;\\n  attr {\\n    key: &quot;T&quot;\\n    value {\\n      type: DT_FLOAT\\n    }\\n  }\\n  attr {\\n    key: &quot;_class&quot;\\n    value {\\n      list {\\n        s: &quot;loc:@hidden1/bias&quot;\\n      }\\n    }\\n  }\\n}\\nnode {\\n  name: &quot;dnn/hidden1/MatMul&quot;\\n  op: &quot;MatMul&quot;\\n  input: &quot;X&quot;\\n  input: &quot;hidden1/kernel/read&quot;\\n  attr {\\n    key: &quot;T&quot;\\n    value {\\n      type: DT_FLOAT\\n    }\\n  }\\n  attr {\\n    key: &quot;transpose_a&quot;\\n    value {\\n      b: false\\n    }\\n  }\\n  attr {\\n    key: &quot;transpose_b&quot;\\n    value {\\n      b: false\\n    }\\n  }\\n}\\nnode {\\n  name: &quot;dnn/hidden1/BiasAdd&quot;\\n  op: &quot;BiasAdd&quot;\\n  input: &quot;dnn/hidden1/MatMul&quot;\\n  input: &quot;hidden1/bias/read&quot;\\n  attr {\\n    key: &quot;T&quot;\\n    value {\\n      type: DT_FLOAT\\n    }\\n  }\\n  attr {\\n    key: &quot;data_format&quot;\\n    value {\\n      s: &quot;NHWC&quot;\\n    }\\n  }\\n}\\nnode {\\n  name: &quot;dnn/hidden1/Relu&quot;\\n  op: &quot;Relu&quot;\\n  input: &quot;dnn/hidden1/BiasAdd&quot;\\n  attr {\\n    key: &quot;T&quot;\\n    value {\\n      type: DT_FLOAT\\n    }\\n  }\\n}\\nnode {\\n  name: &quot;hidden2/kernel/Initializer/random_uniform/shape&quot;\\n  op: &quot;Const&quot;\\n  attr {\\n    key: &quot;_class&quot;\\n    value {\\n      list {\\n        s: &quot;loc:@hidden2/kernel&quot;\\n      }\\n    }\\n  }\\n  attr {\\n    key: &quot;dtype&quot;\\n    value {\\n      type: DT_INT32\\n    }\\n  }\\n  attr {\\n    key: &quot;value&quot;\\n    value {\\n      tensor {\\n        dtype: DT_INT32\\n        tensor_shape {\\n          dim {\\n            size: 2\\n          }\\n        }\\n        tensor_content: &quot;,\\\\001\\\\000\\\\000d\\\\000\\\\000\\\\000&quot;\\n      }\\n    }\\n  }\\n}\\nnode {\\n  name: &quot;hidden2/kernel/Initializer/random_uniform/min&quot;\\n  op: &quot;Const&quot;\\n  attr {\\n    key: &quot;_class&quot;\\n    value {\\n      list {\\n        s: &quot;loc:@hidden2/kernel&quot;\\n      }\\n    }\\n  }\\n  attr {\\n    key: &quot;dtype&quot;\\n    value {\\n      type: DT_FLOAT\\n    }\\n  }\\n  attr {\\n    key: &quot;value&quot;\\n    value {\\n      tensor {\\n        dtype: DT_FLOAT\\n        tensor_shape {\\n        }\\n        float_val: -0.12247448414564133\\n      }\\n    }\\n  }\\n}\\nnode {\\n  name: &quot;hidden2/kernel/Initializer/random_uniform/max&quot;\\n  op: &quot;Const&quot;\\n  attr {\\n    key: &quot;_class&quot;\\n    value {\\n      list {\\n        s: &quot;loc:@hidden2/kernel&quot;\\n      }\\n    }\\n  }\\n  attr {\\n    key: &quot;dtype&quot;\\n    value {\\n      type: DT_FLOAT\\n    }\\n  }\\n  attr {\\n    key: &quot;value&quot;\\n    value {\\n      tensor {\\n        dtype: DT_FLOAT\\n        tensor_shape {\\n        }\\n        float_val: 0.12247448414564133\\n      }\\n    }\\n  }\\n}\\nnode {\\n  name: &quot;hidden2/kernel/Initializer/random_uniform/RandomUniform&quot;\\n  op: &quot;RandomUniform&quot;\\n  input: &quot;hidden2/kernel/Initializer/random_uniform/shape&quot;\\n  attr {\\n    key: &quot;T&quot;\\n    value {\\n      type: DT_INT32\\n    }\\n  }\\n  attr {\\n    key: &quot;_class&quot;\\n    value {\\n      list {\\n        s: &quot;loc:@hidden2/kernel&quot;\\n      }\\n    }\\n  }\\n  attr {\\n    key: &quot;dtype&quot;\\n    value {\\n      type: DT_FLOAT\\n    }\\n  }\\n  attr {\\n    key: &quot;seed&quot;\\n    value {\\n      i: 42\\n    }\\n  }\\n  attr {\\n    key: &quot;seed2&quot;\\n    value {\\n      i: 22\\n    }\\n  }\\n}\\nnode {\\n  name: &quot;hidden2/kernel/Initializer/random_uniform/sub&quot;\\n  op: &quot;Sub&quot;\\n  input: &quot;hidden2/kernel/Initializer/random_uniform/max&quot;\\n  input: &quot;hidden2/kernel/Initializer/random_uniform/min&quot;\\n  attr {\\n    key: &quot;T&quot;\\n    value {\\n      type: DT_FLOAT\\n    }\\n  }\\n  attr {\\n    key: &quot;_class&quot;\\n    value {\\n      list {\\n        s: &quot;loc:@hidden2/kernel&quot;\\n      }\\n    }\\n  }\\n}\\nnode {\\n  name: &quot;hidden2/kernel/Initializer/random_uniform/mul&quot;\\n  op: &quot;Mul&quot;\\n  input: &quot;hidden2/kernel/Initializer/random_uniform/RandomUniform&quot;\\n  input: &quot;hidden2/kernel/Initializer/random_uniform/sub&quot;\\n  attr {\\n    key: &quot;T&quot;\\n    value {\\n      type: DT_FLOAT\\n    }\\n  }\\n  attr {\\n    key: &quot;_class&quot;\\n    value {\\n      list {\\n        s: &quot;loc:@hidden2/kernel&quot;\\n      }\\n    }\\n  }\\n}\\nnode {\\n  name: &quot;hidden2/kernel/Initializer/random_uniform&quot;\\n  op: &quot;Add&quot;\\n  input: &quot;hidden2/kernel/Initializer/random_uniform/mul&quot;\\n  input: &quot;hidden2/kernel/Initializer/random_uniform/min&quot;\\n  attr {\\n    key: &quot;T&quot;\\n    value {\\n      type: DT_FLOAT\\n    }\\n  }\\n  attr {\\n    key: &quot;_class&quot;\\n    value {\\n      list {\\n        s: &quot;loc:@hidden2/kernel&quot;\\n      }\\n    }\\n  }\\n}\\nnode {\\n  name: &quot;hidden2/kernel&quot;\\n  op: &quot;VariableV2&quot;\\n  attr {\\n    key: &quot;_class&quot;\\n    value {\\n      list {\\n        s: &quot;loc:@hidden2/kernel&quot;\\n      }\\n    }\\n  }\\n  attr {\\n    key: &quot;container&quot;\\n    value {\\n      s: &quot;&quot;\\n    }\\n  }\\n  attr {\\n    key: &quot;dtype&quot;\\n    value {\\n      type: DT_FLOAT\\n    }\\n  }\\n  attr {\\n    key: &quot;shape&quot;\\n    value {\\n      shape {\\n        dim {\\n          size: 300\\n        }\\n        dim {\\n          size: 100\\n        }\\n      }\\n    }\\n  }\\n  attr {\\n    key: &quot;shared_name&quot;\\n    value {\\n      s: &quot;&quot;\\n    }\\n  }\\n}\\nnode {\\n  name: &quot;hidden2/kernel/Assign&quot;\\n  op: &quot;Assign&quot;\\n  input: &quot;hidden2/kernel&quot;\\n  input: &quot;hidden2/kernel/Initializer/random_uniform&quot;\\n  attr {\\n    key: &quot;T&quot;\\n    value {\\n      type: DT_FLOAT\\n    }\\n  }\\n  attr {\\n    key: &quot;_class&quot;\\n    value {\\n      list {\\n        s: &quot;loc:@hidden2/kernel&quot;\\n      }\\n    }\\n  }\\n  attr {\\n    key: &quot;use_locking&quot;\\n    value {\\n      b: true\\n    }\\n  }\\n  attr {\\n    key: &quot;validate_shape&quot;\\n    value {\\n      b: true\\n    }\\n  }\\n}\\nnode {\\n  name: &quot;hidden2/kernel/read&quot;\\n  op: &quot;Identity&quot;\\n  input: &quot;hidden2/kernel&quot;\\n  attr {\\n    key: &quot;T&quot;\\n    value {\\n      type: DT_FLOAT\\n    }\\n  }\\n  attr {\\n    key: &quot;_class&quot;\\n    value {\\n      list {\\n        s: &quot;loc:@hidden2/kernel&quot;\\n      }\\n    }\\n  }\\n}\\nnode {\\n  name: &quot;hidden2/bias/Initializer/zeros&quot;\\n  op: &quot;Const&quot;\\n  attr {\\n    key: &quot;_class&quot;\\n    value {\\n      list {\\n        s: &quot;loc:@hidden2/bias&quot;\\n      }\\n    }\\n  }\\n  attr {\\n    key: &quot;dtype&quot;\\n    value {\\n      type: DT_FLOAT\\n    }\\n  }\\n  attr {\\n    key: &quot;value&quot;\\n    value {\\n      tensor {\\n        dtype: DT_FLOAT\\n        tensor_shape {\\n          dim {\\n            size: 100\\n          }\\n        }\\n        float_val: 0.0\\n      }\\n    }\\n  }\\n}\\nnode {\\n  name: &quot;hidden2/bias&quot;\\n  op: &quot;VariableV2&quot;\\n  attr {\\n    key: &quot;_class&quot;\\n    value {\\n      list {\\n        s: &quot;loc:@hidden2/bias&quot;\\n      }\\n    }\\n  }\\n  attr {\\n    key: &quot;container&quot;\\n    value {\\n      s: &quot;&quot;\\n    }\\n  }\\n  attr {\\n    key: &quot;dtype&quot;\\n    value {\\n      type: DT_FLOAT\\n    }\\n  }\\n  attr {\\n    key: &quot;shape&quot;\\n    value {\\n      shape {\\n        dim {\\n          size: 100\\n        }\\n      }\\n    }\\n  }\\n  attr {\\n    key: &quot;shared_name&quot;\\n    value {\\n      s: &quot;&quot;\\n    }\\n  }\\n}\\nnode {\\n  name: &quot;hidden2/bias/Assign&quot;\\n  op: &quot;Assign&quot;\\n  input: &quot;hidden2/bias&quot;\\n  input: &quot;hidden2/bias/Initializer/zeros&quot;\\n  attr {\\n    key: &quot;T&quot;\\n    value {\\n      type: DT_FLOAT\\n    }\\n  }\\n  attr {\\n    key: &quot;_class&quot;\\n    value {\\n      list {\\n        s: &quot;loc:@hidden2/bias&quot;\\n      }\\n    }\\n  }\\n  attr {\\n    key: &quot;use_locking&quot;\\n    value {\\n      b: true\\n    }\\n  }\\n  attr {\\n    key: &quot;validate_shape&quot;\\n    value {\\n      b: true\\n    }\\n  }\\n}\\nnode {\\n  name: &quot;hidden2/bias/read&quot;\\n  op: &quot;Identity&quot;\\n  input: &quot;hidden2/bias&quot;\\n  attr {\\n    key: &quot;T&quot;\\n    value {\\n      type: DT_FLOAT\\n    }\\n  }\\n  attr {\\n    key: &quot;_class&quot;\\n    value {\\n      list {\\n        s: &quot;loc:@hidden2/bias&quot;\\n      }\\n    }\\n  }\\n}\\nnode {\\n  name: &quot;dnn/hidden2/MatMul&quot;\\n  op: &quot;MatMul&quot;\\n  input: &quot;dnn/hidden1/Relu&quot;\\n  input: &quot;hidden2/kernel/read&quot;\\n  attr {\\n    key: &quot;T&quot;\\n    value {\\n      type: DT_FLOAT\\n    }\\n  }\\n  attr {\\n    key: &quot;transpose_a&quot;\\n    value {\\n      b: false\\n    }\\n  }\\n  attr {\\n    key: &quot;transpose_b&quot;\\n    value {\\n      b: false\\n    }\\n  }\\n}\\nnode {\\n  name: &quot;dnn/hidden2/BiasAdd&quot;\\n  op: &quot;BiasAdd&quot;\\n  input: &quot;dnn/hidden2/MatMul&quot;\\n  input: &quot;hidden2/bias/read&quot;\\n  attr {\\n    key: &quot;T&quot;\\n    value {\\n      type: DT_FLOAT\\n    }\\n  }\\n  attr {\\n    key: &quot;data_format&quot;\\n    value {\\n      s: &quot;NHWC&quot;\\n    }\\n  }\\n}\\nnode {\\n  name: &quot;dnn/hidden2/Relu&quot;\\n  op: &quot;Relu&quot;\\n  input: &quot;dnn/hidden2/BiasAdd&quot;\\n  attr {\\n    key: &quot;T&quot;\\n    value {\\n      type: DT_FLOAT\\n    }\\n  }\\n}\\nnode {\\n  name: &quot;outputs/kernel/Initializer/random_uniform/shape&quot;\\n  op: &quot;Const&quot;\\n  attr {\\n    key: &quot;_class&quot;\\n    value {\\n      list {\\n        s: &quot;loc:@outputs/kernel&quot;\\n      }\\n    }\\n  }\\n  attr {\\n    key: &quot;dtype&quot;\\n    value {\\n      type: DT_INT32\\n    }\\n  }\\n  attr {\\n    key: &quot;value&quot;\\n    value {\\n      tensor {\\n        dtype: DT_INT32\\n        tensor_shape {\\n          dim {\\n            size: 2\\n          }\\n        }\\n        tensor_content: &quot;d\\\\000\\\\000\\\\000\\\\n\\\\000\\\\000\\\\000&quot;\\n      }\\n    }\\n  }\\n}\\nnode {\\n  name: &quot;outputs/kernel/Initializer/random_uniform/min&quot;\\n  op: &quot;Const&quot;\\n  attr {\\n    key: &quot;_class&quot;\\n    value {\\n      list {\\n        s: &quot;loc:@outputs/kernel&quot;\\n      }\\n    }\\n  }\\n  attr {\\n    key: &quot;dtype&quot;\\n    value {\\n      type: DT_FLOAT\\n    }\\n  }\\n  attr {\\n    key: &quot;value&quot;\\n    value {\\n      tensor {\\n        dtype: DT_FLOAT\\n        tensor_shape {\\n        }\\n        float_val: -0.23354968428611755\\n      }\\n    }\\n  }\\n}\\nnode {\\n  name: &quot;outputs/kernel/Initializer/random_uniform/max&quot;\\n  op: &quot;Const&quot;\\n  attr {\\n    key: &quot;_class&quot;\\n    value {\\n      list {\\n        s: &quot;loc:@outputs/kernel&quot;\\n      }\\n    }\\n  }\\n  attr {\\n    key: &quot;dtype&quot;\\n    value {\\n      type: DT_FLOAT\\n    }\\n  }\\n  attr {\\n    key: &quot;value&quot;\\n    value {\\n      tensor {\\n        dtype: DT_FLOAT\\n        tensor_shape {\\n        }\\n        float_val: 0.23354968428611755\\n      }\\n    }\\n  }\\n}\\nnode {\\n  name: &quot;outputs/kernel/Initializer/random_uniform/RandomUniform&quot;\\n  op: &quot;RandomUniform&quot;\\n  input: &quot;outputs/kernel/Initializer/random_uniform/shape&quot;\\n  attr {\\n    key: &quot;T&quot;\\n    value {\\n      type: DT_INT32\\n    }\\n  }\\n  attr {\\n    key: &quot;_class&quot;\\n    value {\\n      list {\\n        s: &quot;loc:@outputs/kernel&quot;\\n      }\\n    }\\n  }\\n  attr {\\n    key: &quot;dtype&quot;\\n    value {\\n      type: DT_FLOAT\\n    }\\n  }\\n  attr {\\n    key: &quot;seed&quot;\\n    value {\\n      i: 42\\n    }\\n  }\\n  attr {\\n    key: &quot;seed2&quot;\\n    value {\\n      i: 39\\n    }\\n  }\\n}\\nnode {\\n  name: &quot;outputs/kernel/Initializer/random_uniform/sub&quot;\\n  op: &quot;Sub&quot;\\n  input: &quot;outputs/kernel/Initializer/random_uniform/max&quot;\\n  input: &quot;outputs/kernel/Initializer/random_uniform/min&quot;\\n  attr {\\n    key: &quot;T&quot;\\n    value {\\n      type: DT_FLOAT\\n    }\\n  }\\n  attr {\\n    key: &quot;_class&quot;\\n    value {\\n      list {\\n        s: &quot;loc:@outputs/kernel&quot;\\n      }\\n    }\\n  }\\n}\\nnode {\\n  name: &quot;outputs/kernel/Initializer/random_uniform/mul&quot;\\n  op: &quot;Mul&quot;\\n  input: &quot;outputs/kernel/Initializer/random_uniform/RandomUniform&quot;\\n  input: &quot;outputs/kernel/Initializer/random_uniform/sub&quot;\\n  attr {\\n    key: &quot;T&quot;\\n    value {\\n      type: DT_FLOAT\\n    }\\n  }\\n  attr {\\n    key: &quot;_class&quot;\\n    value {\\n      list {\\n        s: &quot;loc:@outputs/kernel&quot;\\n      }\\n    }\\n  }\\n}\\nnode {\\n  name: &quot;outputs/kernel/Initializer/random_uniform&quot;\\n  op: &quot;Add&quot;\\n  input: &quot;outputs/kernel/Initializer/random_uniform/mul&quot;\\n  input: &quot;outputs/kernel/Initializer/random_uniform/min&quot;\\n  attr {\\n    key: &quot;T&quot;\\n    value {\\n      type: DT_FLOAT\\n    }\\n  }\\n  attr {\\n    key: &quot;_class&quot;\\n    value {\\n      list {\\n        s: &quot;loc:@outputs/kernel&quot;\\n      }\\n    }\\n  }\\n}\\nnode {\\n  name: &quot;outputs/kernel&quot;\\n  op: &quot;VariableV2&quot;\\n  attr {\\n    key: &quot;_class&quot;\\n    value {\\n      list {\\n        s: &quot;loc:@outputs/kernel&quot;\\n      }\\n    }\\n  }\\n  attr {\\n    key: &quot;container&quot;\\n    value {\\n      s: &quot;&quot;\\n    }\\n  }\\n  attr {\\n    key: &quot;dtype&quot;\\n    value {\\n      type: DT_FLOAT\\n    }\\n  }\\n  attr {\\n    key: &quot;shape&quot;\\n    value {\\n      shape {\\n        dim {\\n          size: 100\\n        }\\n        dim {\\n          size: 10\\n        }\\n      }\\n    }\\n  }\\n  attr {\\n    key: &quot;shared_name&quot;\\n    value {\\n      s: &quot;&quot;\\n    }\\n  }\\n}\\nnode {\\n  name: &quot;outputs/kernel/Assign&quot;\\n  op: &quot;Assign&quot;\\n  input: &quot;outputs/kernel&quot;\\n  input: &quot;outputs/kernel/Initializer/random_uniform&quot;\\n  attr {\\n    key: &quot;T&quot;\\n    value {\\n      type: DT_FLOAT\\n    }\\n  }\\n  attr {\\n    key: &quot;_class&quot;\\n    value {\\n      list {\\n        s: &quot;loc:@outputs/kernel&quot;\\n      }\\n    }\\n  }\\n  attr {\\n    key: &quot;use_locking&quot;\\n    value {\\n      b: true\\n    }\\n  }\\n  attr {\\n    key: &quot;validate_shape&quot;\\n    value {\\n      b: true\\n    }\\n  }\\n}\\nnode {\\n  name: &quot;outputs/kernel/read&quot;\\n  op: &quot;Identity&quot;\\n  input: &quot;outputs/kernel&quot;\\n  attr {\\n    key: &quot;T&quot;\\n    value {\\n      type: DT_FLOAT\\n    }\\n  }\\n  attr {\\n    key: &quot;_class&quot;\\n    value {\\n      list {\\n        s: &quot;loc:@outputs/kernel&quot;\\n      }\\n    }\\n  }\\n}\\nnode {\\n  name: &quot;outputs/bias/Initializer/zeros&quot;\\n  op: &quot;Const&quot;\\n  attr {\\n    key: &quot;_class&quot;\\n    value {\\n      list {\\n        s: &quot;loc:@outputs/bias&quot;\\n      }\\n    }\\n  }\\n  attr {\\n    key: &quot;dtype&quot;\\n    value {\\n      type: DT_FLOAT\\n    }\\n  }\\n  attr {\\n    key: &quot;value&quot;\\n    value {\\n      tensor {\\n        dtype: DT_FLOAT\\n        tensor_shape {\\n          dim {\\n            size: 10\\n          }\\n        }\\n        float_val: 0.0\\n      }\\n    }\\n  }\\n}\\nnode {\\n  name: &quot;outputs/bias&quot;\\n  op: &quot;VariableV2&quot;\\n  attr {\\n    key: &quot;_class&quot;\\n    value {\\n      list {\\n        s: &quot;loc:@outputs/bias&quot;\\n      }\\n    }\\n  }\\n  attr {\\n    key: &quot;container&quot;\\n    value {\\n      s: &quot;&quot;\\n    }\\n  }\\n  attr {\\n    key: &quot;dtype&quot;\\n    value {\\n      type: DT_FLOAT\\n    }\\n  }\\n  attr {\\n    key: &quot;shape&quot;\\n    value {\\n      shape {\\n        dim {\\n          size: 10\\n        }\\n      }\\n    }\\n  }\\n  attr {\\n    key: &quot;shared_name&quot;\\n    value {\\n      s: &quot;&quot;\\n    }\\n  }\\n}\\nnode {\\n  name: &quot;outputs/bias/Assign&quot;\\n  op: &quot;Assign&quot;\\n  input: &quot;outputs/bias&quot;\\n  input: &quot;outputs/bias/Initializer/zeros&quot;\\n  attr {\\n    key: &quot;T&quot;\\n    value {\\n      type: DT_FLOAT\\n    }\\n  }\\n  attr {\\n    key: &quot;_class&quot;\\n    value {\\n      list {\\n        s: &quot;loc:@outputs/bias&quot;\\n      }\\n    }\\n  }\\n  attr {\\n    key: &quot;use_locking&quot;\\n    value {\\n      b: true\\n    }\\n  }\\n  attr {\\n    key: &quot;validate_shape&quot;\\n    value {\\n      b: true\\n    }\\n  }\\n}\\nnode {\\n  name: &quot;outputs/bias/read&quot;\\n  op: &quot;Identity&quot;\\n  input: &quot;outputs/bias&quot;\\n  attr {\\n    key: &quot;T&quot;\\n    value {\\n      type: DT_FLOAT\\n    }\\n  }\\n  attr {\\n    key: &quot;_class&quot;\\n    value {\\n      list {\\n        s: &quot;loc:@outputs/bias&quot;\\n      }\\n    }\\n  }\\n}\\nnode {\\n  name: &quot;dnn/outputs/MatMul&quot;\\n  op: &quot;MatMul&quot;\\n  input: &quot;dnn/hidden2/Relu&quot;\\n  input: &quot;outputs/kernel/read&quot;\\n  attr {\\n    key: &quot;T&quot;\\n    value {\\n      type: DT_FLOAT\\n    }\\n  }\\n  attr {\\n    key: &quot;transpose_a&quot;\\n    value {\\n      b: false\\n    }\\n  }\\n  attr {\\n    key: &quot;transpose_b&quot;\\n    value {\\n      b: false\\n    }\\n  }\\n}\\nnode {\\n  name: &quot;dnn/outputs/BiasAdd&quot;\\n  op: &quot;BiasAdd&quot;\\n  input: &quot;dnn/outputs/MatMul&quot;\\n  input: &quot;outputs/bias/read&quot;\\n  attr {\\n    key: &quot;T&quot;\\n    value {\\n      type: DT_FLOAT\\n    }\\n  }\\n  attr {\\n    key: &quot;data_format&quot;\\n    value {\\n      s: &quot;NHWC&quot;\\n    }\\n  }\\n}\\nnode {\\n  name: &quot;loss/SparseSoftmaxCrossEntropyWithLogits/Shape&quot;\\n  op: &quot;Shape&quot;\\n  input: &quot;y&quot;\\n  attr {\\n    key: &quot;T&quot;\\n    value {\\n      type: DT_INT64\\n    }\\n  }\\n  attr {\\n    key: &quot;out_type&quot;\\n    value {\\n      type: DT_INT32\\n    }\\n  }\\n}\\nnode {\\n  name: &quot;loss/SparseSoftmaxCrossEntropyWithLogits/SparseSoftmaxCrossEntropyWithLogits&quot;\\n  op: &quot;SparseSoftmaxCrossEntropyWithLogits&quot;\\n  input: &quot;dnn/outputs/BiasAdd&quot;\\n  input: &quot;y&quot;\\n  attr {\\n    key: &quot;T&quot;\\n    value {\\n      type: DT_FLOAT\\n    }\\n  }\\n  attr {\\n    key: &quot;Tlabels&quot;\\n    value {\\n      type: DT_INT64\\n    }\\n  }\\n}\\nnode {\\n  name: &quot;loss/Const&quot;\\n  op: &quot;Const&quot;\\n  attr {\\n    key: &quot;dtype&quot;\\n    value {\\n      type: DT_INT32\\n    }\\n  }\\n  attr {\\n    key: &quot;value&quot;\\n    value {\\n      tensor {\\n        dtype: DT_INT32\\n        tensor_shape {\\n          dim {\\n            size: 1\\n          }\\n        }\\n        int_val: 0\\n      }\\n    }\\n  }\\n}\\nnode {\\n  name: &quot;loss/loss&quot;\\n  op: &quot;Mean&quot;\\n  input: &quot;loss/SparseSoftmaxCrossEntropyWithLogits/SparseSoftmaxCrossEntropyWithLogits&quot;\\n  input: &quot;loss/Const&quot;\\n  attr {\\n    key: &quot;T&quot;\\n    value {\\n      type: DT_FLOAT\\n    }\\n  }\\n  attr {\\n    key: &quot;Tidx&quot;\\n    value {\\n      type: DT_INT32\\n    }\\n  }\\n  attr {\\n    key: &quot;keep_dims&quot;\\n    value {\\n      b: false\\n    }\\n  }\\n}\\nnode {\\n  name: &quot;train/gradients/Shape&quot;\\n  op: &quot;Const&quot;\\n  attr {\\n    key: &quot;dtype&quot;\\n    value {\\n      type: DT_INT32\\n    }\\n  }\\n  attr {\\n    key: &quot;value&quot;\\n    value {\\n      tensor {\\n        dtype: DT_INT32\\n        tensor_shape {\\n          dim {\\n          }\\n        }\\n      }\\n    }\\n  }\\n}\\nnode {\\n  name: &quot;train/gradients/Const&quot;\\n  op: &quot;Const&quot;\\n  attr {\\n    key: &quot;dtype&quot;\\n    value {\\n      type: DT_FLOAT\\n    }\\n  }\\n  attr {\\n    key: &quot;value&quot;\\n    value {\\n      tensor {\\n        dtype: DT_FLOAT\\n        tensor_shape {\\n        }\\n        float_val: 1.0\\n      }\\n    }\\n  }\\n}\\nnode {\\n  name: &quot;train/gradients/Fill&quot;\\n  op: &quot;Fill&quot;\\n  input: &quot;train/gradients/Shape&quot;\\n  input: &quot;train/gradients/Const&quot;\\n  attr {\\n    key: &quot;T&quot;\\n    value {\\n      type: DT_FLOAT\\n    }\\n  }\\n}\\nnode {\\n  name: &quot;train/gradients/loss/loss_grad/Reshape/shape&quot;\\n  op: &quot;Const&quot;\\n  attr {\\n    key: &quot;dtype&quot;\\n    value {\\n      type: DT_INT32\\n    }\\n  }\\n  attr {\\n    key: &quot;value&quot;\\n    value {\\n      tensor {\\n        dtype: DT_INT32\\n        tensor_shape {\\n          dim {\\n            size: 1\\n          }\\n        }\\n        int_val: 1\\n      }\\n    }\\n  }\\n}\\nnode {\\n  name: &quot;train/gradients/loss/loss_grad/Reshape&quot;\\n  op: &quot;Reshape&quot;\\n  input: &quot;train/gradients/Fill&quot;\\n  input: &quot;train/gradients/loss/loss_grad/Reshape/shape&quot;\\n  attr {\\n    key: &quot;T&quot;\\n    value {\\n      type: DT_FLOAT\\n    }\\n  }\\n  attr {\\n    key: &quot;Tshape&quot;\\n    value {\\n      type: DT_INT32\\n    }\\n  }\\n}\\nnode {\\n  name: &quot;train/gradients/loss/loss_grad/Shape&quot;\\n  op: &quot;Shape&quot;\\n  input: &quot;loss/SparseSoftmaxCrossEntropyWithLogits/SparseSoftmaxCrossEntropyWithLogits&quot;\\n  attr {\\n    key: &quot;T&quot;\\n    value {\\n      type: DT_FLOAT\\n    }\\n  }\\n  attr {\\n    key: &quot;out_type&quot;\\n    value {\\n      type: DT_INT32\\n    }\\n  }\\n}\\nnode {\\n  name: &quot;train/gradients/loss/loss_grad/Tile&quot;\\n  op: &quot;Tile&quot;\\n  input: &quot;train/gradients/loss/loss_grad/Reshape&quot;\\n  input: &quot;train/gradients/loss/loss_grad/Shape&quot;\\n  attr {\\n    key: &quot;T&quot;\\n    value {\\n      type: DT_FLOAT\\n    }\\n  }\\n  attr {\\n    key: &quot;Tmultiples&quot;\\n    value {\\n      type: DT_INT32\\n    }\\n  }\\n}\\nnode {\\n  name: &quot;train/gradients/loss/loss_grad/Shape_1&quot;\\n  op: &quot;Shape&quot;\\n  input: &quot;loss/SparseSoftmaxCrossEntropyWithLogits/SparseSoftmaxCrossEntropyWithLogits&quot;\\n  attr {\\n    key: &quot;T&quot;\\n    value {\\n      type: DT_FLOAT\\n    }\\n  }\\n  attr {\\n    key: &quot;out_type&quot;\\n    value {\\n      type: DT_INT32\\n    }\\n  }\\n}\\nnode {\\n  name: &quot;train/gradients/loss/loss_grad/Shape_2&quot;\\n  op: &quot;Const&quot;\\n  attr {\\n    key: &quot;dtype&quot;\\n    value {\\n      type: DT_INT32\\n    }\\n  }\\n  attr {\\n    key: &quot;value&quot;\\n    value {\\n      tensor {\\n        dtype: DT_INT32\\n        tensor_shape {\\n          dim {\\n          }\\n        }\\n      }\\n    }\\n  }\\n}\\nnode {\\n  name: &quot;train/gradients/loss/loss_grad/Const&quot;\\n  op: &quot;Const&quot;\\n  attr {\\n    key: &quot;dtype&quot;\\n    value {\\n      type: DT_INT32\\n    }\\n  }\\n  attr {\\n    key: &quot;value&quot;\\n    value {\\n      tensor {\\n        dtype: DT_INT32\\n        tensor_shape {\\n          dim {\\n            size: 1\\n          }\\n        }\\n        int_val: 0\\n      }\\n    }\\n  }\\n}\\nnode {\\n  name: &quot;train/gradients/loss/loss_grad/Prod&quot;\\n  op: &quot;Prod&quot;\\n  input: &quot;train/gradients/loss/loss_grad/Shape_1&quot;\\n  input: &quot;train/gradients/loss/loss_grad/Const&quot;\\n  attr {\\n    key: &quot;T&quot;\\n    value {\\n      type: DT_INT32\\n    }\\n  }\\n  attr {\\n    key: &quot;Tidx&quot;\\n    value {\\n      type: DT_INT32\\n    }\\n  }\\n  attr {\\n    key: &quot;keep_dims&quot;\\n    value {\\n      b: false\\n    }\\n  }\\n}\\nnode {\\n  name: &quot;train/gradients/loss/loss_grad/Const_1&quot;\\n  op: &quot;Const&quot;\\n  attr {\\n    key: &quot;dtype&quot;\\n    value {\\n      type: DT_INT32\\n    }\\n  }\\n  attr {\\n    key: &quot;value&quot;\\n    value {\\n      tensor {\\n        dtype: DT_INT32\\n        tensor_shape {\\n          dim {\\n            size: 1\\n          }\\n        }\\n        int_val: 0\\n      }\\n    }\\n  }\\n}\\nnode {\\n  name: &quot;train/gradients/loss/loss_grad/Prod_1&quot;\\n  op: &quot;Prod&quot;\\n  input: &quot;train/gradients/loss/loss_grad/Shape_2&quot;\\n  input: &quot;train/gradients/loss/loss_grad/Const_1&quot;\\n  attr {\\n    key: &quot;T&quot;\\n    value {\\n      type: DT_INT32\\n    }\\n  }\\n  attr {\\n    key: &quot;Tidx&quot;\\n    value {\\n      type: DT_INT32\\n    }\\n  }\\n  attr {\\n    key: &quot;keep_dims&quot;\\n    value {\\n      b: false\\n    }\\n  }\\n}\\nnode {\\n  name: &quot;train/gradients/loss/loss_grad/Maximum/y&quot;\\n  op: &quot;Const&quot;\\n  attr {\\n    key: &quot;dtype&quot;\\n    value {\\n      type: DT_INT32\\n    }\\n  }\\n  attr {\\n    key: &quot;value&quot;\\n    value {\\n      tensor {\\n        dtype: DT_INT32\\n        tensor_shape {\\n        }\\n        int_val: 1\\n      }\\n    }\\n  }\\n}\\nnode {\\n  name: &quot;train/gradients/loss/loss_grad/Maximum&quot;\\n  op: &quot;Maximum&quot;\\n  input: &quot;train/gradients/loss/loss_grad/Prod_1&quot;\\n  input: &quot;train/gradients/loss/loss_grad/Maximum/y&quot;\\n  attr {\\n    key: &quot;T&quot;\\n    value {\\n      type: DT_INT32\\n    }\\n  }\\n}\\nnode {\\n  name: &quot;train/gradients/loss/loss_grad/floordiv&quot;\\n  op: &quot;FloorDiv&quot;\\n  input: &quot;train/gradients/loss/loss_grad/Prod&quot;\\n  input: &quot;train/gradients/loss/loss_grad/Maximum&quot;\\n  attr {\\n    key: &quot;T&quot;\\n    value {\\n      type: DT_INT32\\n    }\\n  }\\n}\\nnode {\\n  name: &quot;train/gradients/loss/loss_grad/Cast&quot;\\n  op: &quot;Cast&quot;\\n  input: &quot;train/gradients/loss/loss_grad/floordiv&quot;\\n  attr {\\n    key: &quot;DstT&quot;\\n    value {\\n      type: DT_FLOAT\\n    }\\n  }\\n  attr {\\n    key: &quot;SrcT&quot;\\n    value {\\n      type: DT_INT32\\n    }\\n  }\\n}\\nnode {\\n  name: &quot;train/gradients/loss/loss_grad/truediv&quot;\\n  op: &quot;RealDiv&quot;\\n  input: &quot;train/gradients/loss/loss_grad/Tile&quot;\\n  input: &quot;train/gradients/loss/loss_grad/Cast&quot;\\n  attr {\\n    key: &quot;T&quot;\\n    value {\\n      type: DT_FLOAT\\n    }\\n  }\\n}\\nnode {\\n  name: &quot;train/gradients/zeros_like&quot;\\n  op: &quot;ZerosLike&quot;\\n  input: &quot;loss/SparseSoftmaxCrossEntropyWithLogits/SparseSoftmaxCrossEntropyWithLogits:1&quot;\\n  attr {\\n    key: &quot;T&quot;\\n    value {\\n      type: DT_FLOAT\\n    }\\n  }\\n}\\nnode {\\n  name: &quot;train/gradients/loss/SparseSoftmaxCrossEntropyWithLogits/SparseSoftmaxCrossEntropyWithLogits_grad/PreventGradient&quot;\\n  op: &quot;PreventGradient&quot;\\n  input: &quot;loss/SparseSoftmaxCrossEntropyWithLogits/SparseSoftmaxCrossEntropyWithLogits:1&quot;\\n  attr {\\n    key: &quot;T&quot;\\n    value {\\n      type: DT_FLOAT\\n    }\\n  }\\n  attr {\\n    key: &quot;message&quot;\\n    value {\\n      s: &quot;Currently there is no way to take the second derivative of sparse_softmax_cross_entropy_with_logits due to the fused implementation\\\\\\'s interaction with tf.gradients()&quot;\\n    }\\n  }\\n}\\nnode {\\n  name: &quot;train/gradients/loss/SparseSoftmaxCrossEntropyWithLogits/SparseSoftmaxCrossEntropyWithLogits_grad/ExpandDims/dim&quot;\\n  op: &quot;Const&quot;\\n  attr {\\n    key: &quot;dtype&quot;\\n    value {\\n      type: DT_INT32\\n    }\\n  }\\n  attr {\\n    key: &quot;value&quot;\\n    value {\\n      tensor {\\n        dtype: DT_INT32\\n        tensor_shape {\\n        }\\n        int_val: -1\\n      }\\n    }\\n  }\\n}\\nnode {\\n  name: &quot;train/gradients/loss/SparseSoftmaxCrossEntropyWithLogits/SparseSoftmaxCrossEntropyWithLogits_grad/ExpandDims&quot;\\n  op: &quot;ExpandDims&quot;\\n  input: &quot;train/gradients/loss/loss_grad/truediv&quot;\\n  input: &quot;train/gradients/loss/SparseSoftmaxCrossEntropyWithLogits/SparseSoftmaxCrossEntropyWithLogits_grad/ExpandDims/dim&quot;\\n  attr {\\n    key: &quot;T&quot;\\n    value {\\n      type: DT_FLOAT\\n    }\\n  }\\n  attr {\\n    key: &quot;Tdim&quot;\\n    value {\\n      type: DT_INT32\\n    }\\n  }\\n}\\nnode {\\n  name: &quot;train/gradients/loss/SparseSoftmaxCrossEntropyWithLogits/SparseSoftmaxCrossEntropyWithLogits_grad/mul&quot;\\n  op: &quot;Mul&quot;\\n  input: &quot;train/gradients/loss/SparseSoftmaxCrossEntropyWithLogits/SparseSoftmaxCrossEntropyWithLogits_grad/ExpandDims&quot;\\n  input: &quot;train/gradients/loss/SparseSoftmaxCrossEntropyWithLogits/SparseSoftmaxCrossEntropyWithLogits_grad/PreventGradient&quot;\\n  attr {\\n    key: &quot;T&quot;\\n    value {\\n      type: DT_FLOAT\\n    }\\n  }\\n}\\nnode {\\n  name: &quot;train/gradients/dnn/outputs/BiasAdd_grad/BiasAddGrad&quot;\\n  op: &quot;BiasAddGrad&quot;\\n  input: &quot;train/gradients/loss/SparseSoftmaxCrossEntropyWithLogits/SparseSoftmaxCrossEntropyWithLogits_grad/mul&quot;\\n  attr {\\n    key: &quot;T&quot;\\n    value {\\n      type: DT_FLOAT\\n    }\\n  }\\n  attr {\\n    key: &quot;data_format&quot;\\n    value {\\n      s: &quot;NHWC&quot;\\n    }\\n  }\\n}\\nnode {\\n  name: &quot;train/gradients/dnn/outputs/BiasAdd_grad/tuple/group_deps&quot;\\n  op: &quot;NoOp&quot;\\n  input: &quot;^train/gradients/loss/SparseSoftmaxCrossEntropyWithLogits/SparseSoftmaxCrossEntropyWithLogits_grad/mul&quot;\\n  input: &quot;^train/gradients/dnn/outputs/BiasAdd_grad/BiasAddGrad&quot;\\n}\\nnode {\\n  name: &quot;train/gradients/dnn/outputs/BiasAdd_grad/tuple/control_dependency&quot;\\n  op: &quot;Identity&quot;\\n  input: &quot;train/gradients/loss/SparseSoftmaxCrossEntropyWithLogits/SparseSoftmaxCrossEntropyWithLogits_grad/mul&quot;\\n  input: &quot;^train/gradients/dnn/outputs/BiasAdd_grad/tuple/group_deps&quot;\\n  attr {\\n    key: &quot;T&quot;\\n    value {\\n      type: DT_FLOAT\\n    }\\n  }\\n  attr {\\n    key: &quot;_class&quot;\\n    value {\\n      list {\\n        s: &quot;loc:@train/gradients/loss/SparseSoftmaxCrossEntropyWithLogits/SparseSoftmaxCrossEntropyWithLogits_grad/mul&quot;\\n      }\\n    }\\n  }\\n}\\nnode {\\n  name: &quot;train/gradients/dnn/outputs/BiasAdd_grad/tuple/control_dependency_1&quot;\\n  op: &quot;Identity&quot;\\n  input: &quot;train/gradients/dnn/outputs/BiasAdd_grad/BiasAddGrad&quot;\\n  input: &quot;^train/gradients/dnn/outputs/BiasAdd_grad/tuple/group_deps&quot;\\n  attr {\\n    key: &quot;T&quot;\\n    value {\\n      type: DT_FLOAT\\n    }\\n  }\\n  attr {\\n    key: &quot;_class&quot;\\n    value {\\n      list {\\n        s: &quot;loc:@train/gradients/dnn/outputs/BiasAdd_grad/BiasAddGrad&quot;\\n      }\\n    }\\n  }\\n}\\nnode {\\n  name: &quot;train/gradients/dnn/outputs/MatMul_grad/MatMul&quot;\\n  op: &quot;MatMul&quot;\\n  input: &quot;train/gradients/dnn/outputs/BiasAdd_grad/tuple/control_dependency&quot;\\n  input: &quot;outputs/kernel/read&quot;\\n  attr {\\n    key: &quot;T&quot;\\n    value {\\n      type: DT_FLOAT\\n    }\\n  }\\n  attr {\\n    key: &quot;transpose_a&quot;\\n    value {\\n      b: false\\n    }\\n  }\\n  attr {\\n    key: &quot;transpose_b&quot;\\n    value {\\n      b: true\\n    }\\n  }\\n}\\nnode {\\n  name: &quot;train/gradients/dnn/outputs/MatMul_grad/MatMul_1&quot;\\n  op: &quot;MatMul&quot;\\n  input: &quot;dnn/hidden2/Relu&quot;\\n  input: &quot;train/gradients/dnn/outputs/BiasAdd_grad/tuple/control_dependency&quot;\\n  attr {\\n    key: &quot;T&quot;\\n    value {\\n      type: DT_FLOAT\\n    }\\n  }\\n  attr {\\n    key: &quot;transpose_a&quot;\\n    value {\\n      b: true\\n    }\\n  }\\n  attr {\\n    key: &quot;transpose_b&quot;\\n    value {\\n      b: false\\n    }\\n  }\\n}\\nnode {\\n  name: &quot;train/gradients/dnn/outputs/MatMul_grad/tuple/group_deps&quot;\\n  op: &quot;NoOp&quot;\\n  input: &quot;^train/gradients/dnn/outputs/MatMul_grad/MatMul&quot;\\n  input: &quot;^train/gradients/dnn/outputs/MatMul_grad/MatMul_1&quot;\\n}\\nnode {\\n  name: &quot;train/gradients/dnn/outputs/MatMul_grad/tuple/control_dependency&quot;\\n  op: &quot;Identity&quot;\\n  input: &quot;train/gradients/dnn/outputs/MatMul_grad/MatMul&quot;\\n  input: &quot;^train/gradients/dnn/outputs/MatMul_grad/tuple/group_deps&quot;\\n  attr {\\n    key: &quot;T&quot;\\n    value {\\n      type: DT_FLOAT\\n    }\\n  }\\n  attr {\\n    key: &quot;_class&quot;\\n    value {\\n      list {\\n        s: &quot;loc:@train/gradients/dnn/outputs/MatMul_grad/MatMul&quot;\\n      }\\n    }\\n  }\\n}\\nnode {\\n  name: &quot;train/gradients/dnn/outputs/MatMul_grad/tuple/control_dependency_1&quot;\\n  op: &quot;Identity&quot;\\n  input: &quot;train/gradients/dnn/outputs/MatMul_grad/MatMul_1&quot;\\n  input: &quot;^train/gradients/dnn/outputs/MatMul_grad/tuple/group_deps&quot;\\n  attr {\\n    key: &quot;T&quot;\\n    value {\\n      type: DT_FLOAT\\n    }\\n  }\\n  attr {\\n    key: &quot;_class&quot;\\n    value {\\n      list {\\n        s: &quot;loc:@train/gradients/dnn/outputs/MatMul_grad/MatMul_1&quot;\\n      }\\n    }\\n  }\\n}\\nnode {\\n  name: &quot;train/gradients/dnn/hidden2/Relu_grad/ReluGrad&quot;\\n  op: &quot;ReluGrad&quot;\\n  input: &quot;train/gradients/dnn/outputs/MatMul_grad/tuple/control_dependency&quot;\\n  input: &quot;dnn/hidden2/Relu&quot;\\n  attr {\\n    key: &quot;T&quot;\\n    value {\\n      type: DT_FLOAT\\n    }\\n  }\\n}\\nnode {\\n  name: &quot;train/gradients/dnn/hidden2/BiasAdd_grad/BiasAddGrad&quot;\\n  op: &quot;BiasAddGrad&quot;\\n  input: &quot;train/gradients/dnn/hidden2/Relu_grad/ReluGrad&quot;\\n  attr {\\n    key: &quot;T&quot;\\n    value {\\n      type: DT_FLOAT\\n    }\\n  }\\n  attr {\\n    key: &quot;data_format&quot;\\n    value {\\n      s: &quot;NHWC&quot;\\n    }\\n  }\\n}\\nnode {\\n  name: &quot;train/gradients/dnn/hidden2/BiasAdd_grad/tuple/group_deps&quot;\\n  op: &quot;NoOp&quot;\\n  input: &quot;^train/gradients/dnn/hidden2/Relu_grad/ReluGrad&quot;\\n  input: &quot;^train/gradients/dnn/hidden2/BiasAdd_grad/BiasAddGrad&quot;\\n}\\nnode {\\n  name: &quot;train/gradients/dnn/hidden2/BiasAdd_grad/tuple/control_dependency&quot;\\n  op: &quot;Identity&quot;\\n  input: &quot;train/gradients/dnn/hidden2/Relu_grad/ReluGrad&quot;\\n  input: &quot;^train/gradients/dnn/hidden2/BiasAdd_grad/tuple/group_deps&quot;\\n  attr {\\n    key: &quot;T&quot;\\n    value {\\n      type: DT_FLOAT\\n    }\\n  }\\n  attr {\\n    key: &quot;_class&quot;\\n    value {\\n      list {\\n        s: &quot;loc:@train/gradients/dnn/hidden2/Relu_grad/ReluGrad&quot;\\n      }\\n    }\\n  }\\n}\\nnode {\\n  name: &quot;train/gradients/dnn/hidden2/BiasAdd_grad/tuple/control_dependency_1&quot;\\n  op: &quot;Identity&quot;\\n  input: &quot;train/gradients/dnn/hidden2/BiasAdd_grad/BiasAddGrad&quot;\\n  input: &quot;^train/gradients/dnn/hidden2/BiasAdd_grad/tuple/group_deps&quot;\\n  attr {\\n    key: &quot;T&quot;\\n    value {\\n      type: DT_FLOAT\\n    }\\n  }\\n  attr {\\n    key: &quot;_class&quot;\\n    value {\\n      list {\\n        s: &quot;loc:@train/gradients/dnn/hidden2/BiasAdd_grad/BiasAddGrad&quot;\\n      }\\n    }\\n  }\\n}\\nnode {\\n  name: &quot;train/gradients/dnn/hidden2/MatMul_grad/MatMul&quot;\\n  op: &quot;MatMul&quot;\\n  input: &quot;train/gradients/dnn/hidden2/BiasAdd_grad/tuple/control_dependency&quot;\\n  input: &quot;hidden2/kernel/read&quot;\\n  attr {\\n    key: &quot;T&quot;\\n    value {\\n      type: DT_FLOAT\\n    }\\n  }\\n  attr {\\n    key: &quot;transpose_a&quot;\\n    value {\\n      b: false\\n    }\\n  }\\n  attr {\\n    key: &quot;transpose_b&quot;\\n    value {\\n      b: true\\n    }\\n  }\\n}\\nnode {\\n  name: &quot;train/gradients/dnn/hidden2/MatMul_grad/MatMul_1&quot;\\n  op: &quot;MatMul&quot;\\n  input: &quot;dnn/hidden1/Relu&quot;\\n  input: &quot;train/gradients/dnn/hidden2/BiasAdd_grad/tuple/control_dependency&quot;\\n  attr {\\n    key: &quot;T&quot;\\n    value {\\n      type: DT_FLOAT\\n    }\\n  }\\n  attr {\\n    key: &quot;transpose_a&quot;\\n    value {\\n      b: true\\n    }\\n  }\\n  attr {\\n    key: &quot;transpose_b&quot;\\n    value {\\n      b: false\\n    }\\n  }\\n}\\nnode {\\n  name: &quot;train/gradients/dnn/hidden2/MatMul_grad/tuple/group_deps&quot;\\n  op: &quot;NoOp&quot;\\n  input: &quot;^train/gradients/dnn/hidden2/MatMul_grad/MatMul&quot;\\n  input: &quot;^train/gradients/dnn/hidden2/MatMul_grad/MatMul_1&quot;\\n}\\nnode {\\n  name: &quot;train/gradients/dnn/hidden2/MatMul_grad/tuple/control_dependency&quot;\\n  op: &quot;Identity&quot;\\n  input: &quot;train/gradients/dnn/hidden2/MatMul_grad/MatMul&quot;\\n  input: &quot;^train/gradients/dnn/hidden2/MatMul_grad/tuple/group_deps&quot;\\n  attr {\\n    key: &quot;T&quot;\\n    value {\\n      type: DT_FLOAT\\n    }\\n  }\\n  attr {\\n    key: &quot;_class&quot;\\n    value {\\n      list {\\n        s: &quot;loc:@train/gradients/dnn/hidden2/MatMul_grad/MatMul&quot;\\n      }\\n    }\\n  }\\n}\\nnode {\\n  name: &quot;train/gradients/dnn/hidden2/MatMul_grad/tuple/control_dependency_1&quot;\\n  op: &quot;Identity&quot;\\n  input: &quot;train/gradients/dnn/hidden2/MatMul_grad/MatMul_1&quot;\\n  input: &quot;^train/gradients/dnn/hidden2/MatMul_grad/tuple/group_deps&quot;\\n  attr {\\n    key: &quot;T&quot;\\n    value {\\n      type: DT_FLOAT\\n    }\\n  }\\n  attr {\\n    key: &quot;_class&quot;\\n    value {\\n      list {\\n        s: &quot;loc:@train/gradients/dnn/hidden2/MatMul_grad/MatMul_1&quot;\\n      }\\n    }\\n  }\\n}\\nnode {\\n  name: &quot;train/gradients/dnn/hidden1/Relu_grad/ReluGrad&quot;\\n  op: &quot;ReluGrad&quot;\\n  input: &quot;train/gradients/dnn/hidden2/MatMul_grad/tuple/control_dependency&quot;\\n  input: &quot;dnn/hidden1/Relu&quot;\\n  attr {\\n    key: &quot;T&quot;\\n    value {\\n      type: DT_FLOAT\\n    }\\n  }\\n}\\nnode {\\n  name: &quot;train/gradients/dnn/hidden1/BiasAdd_grad/BiasAddGrad&quot;\\n  op: &quot;BiasAddGrad&quot;\\n  input: &quot;train/gradients/dnn/hidden1/Relu_grad/ReluGrad&quot;\\n  attr {\\n    key: &quot;T&quot;\\n    value {\\n      type: DT_FLOAT\\n    }\\n  }\\n  attr {\\n    key: &quot;data_format&quot;\\n    value {\\n      s: &quot;NHWC&quot;\\n    }\\n  }\\n}\\nnode {\\n  name: &quot;train/gradients/dnn/hidden1/BiasAdd_grad/tuple/group_deps&quot;\\n  op: &quot;NoOp&quot;\\n  input: &quot;^train/gradients/dnn/hidden1/Relu_grad/ReluGrad&quot;\\n  input: &quot;^train/gradients/dnn/hidden1/BiasAdd_grad/BiasAddGrad&quot;\\n}\\nnode {\\n  name: &quot;train/gradients/dnn/hidden1/BiasAdd_grad/tuple/control_dependency&quot;\\n  op: &quot;Identity&quot;\\n  input: &quot;train/gradients/dnn/hidden1/Relu_grad/ReluGrad&quot;\\n  input: &quot;^train/gradients/dnn/hidden1/BiasAdd_grad/tuple/group_deps&quot;\\n  attr {\\n    key: &quot;T&quot;\\n    value {\\n      type: DT_FLOAT\\n    }\\n  }\\n  attr {\\n    key: &quot;_class&quot;\\n    value {\\n      list {\\n        s: &quot;loc:@train/gradients/dnn/hidden1/Relu_grad/ReluGrad&quot;\\n      }\\n    }\\n  }\\n}\\nnode {\\n  name: &quot;train/gradients/dnn/hidden1/BiasAdd_grad/tuple/control_dependency_1&quot;\\n  op: &quot;Identity&quot;\\n  input: &quot;train/gradients/dnn/hidden1/BiasAdd_grad/BiasAddGrad&quot;\\n  input: &quot;^train/gradients/dnn/hidden1/BiasAdd_grad/tuple/group_deps&quot;\\n  attr {\\n    key: &quot;T&quot;\\n    value {\\n      type: DT_FLOAT\\n    }\\n  }\\n  attr {\\n    key: &quot;_class&quot;\\n    value {\\n      list {\\n        s: &quot;loc:@train/gradients/dnn/hidden1/BiasAdd_grad/BiasAddGrad&quot;\\n      }\\n    }\\n  }\\n}\\nnode {\\n  name: &quot;train/gradients/dnn/hidden1/MatMul_grad/MatMul&quot;\\n  op: &quot;MatMul&quot;\\n  input: &quot;train/gradients/dnn/hidden1/BiasAdd_grad/tuple/control_dependency&quot;\\n  input: &quot;hidden1/kernel/read&quot;\\n  attr {\\n    key: &quot;T&quot;\\n    value {\\n      type: DT_FLOAT\\n    }\\n  }\\n  attr {\\n    key: &quot;transpose_a&quot;\\n    value {\\n      b: false\\n    }\\n  }\\n  attr {\\n    key: &quot;transpose_b&quot;\\n    value {\\n      b: true\\n    }\\n  }\\n}\\nnode {\\n  name: &quot;train/gradients/dnn/hidden1/MatMul_grad/MatMul_1&quot;\\n  op: &quot;MatMul&quot;\\n  input: &quot;X&quot;\\n  input: &quot;train/gradients/dnn/hidden1/BiasAdd_grad/tuple/control_dependency&quot;\\n  attr {\\n    key: &quot;T&quot;\\n    value {\\n      type: DT_FLOAT\\n    }\\n  }\\n  attr {\\n    key: &quot;transpose_a&quot;\\n    value {\\n      b: true\\n    }\\n  }\\n  attr {\\n    key: &quot;transpose_b&quot;\\n    value {\\n      b: false\\n    }\\n  }\\n}\\nnode {\\n  name: &quot;train/gradients/dnn/hidden1/MatMul_grad/tuple/group_deps&quot;\\n  op: &quot;NoOp&quot;\\n  input: &quot;^train/gradients/dnn/hidden1/MatMul_grad/MatMul&quot;\\n  input: &quot;^train/gradients/dnn/hidden1/MatMul_grad/MatMul_1&quot;\\n}\\nnode {\\n  name: &quot;train/gradients/dnn/hidden1/MatMul_grad/tuple/control_dependency&quot;\\n  op: &quot;Identity&quot;\\n  input: &quot;train/gradients/dnn/hidden1/MatMul_grad/MatMul&quot;\\n  input: &quot;^train/gradients/dnn/hidden1/MatMul_grad/tuple/group_deps&quot;\\n  attr {\\n    key: &quot;T&quot;\\n    value {\\n      type: DT_FLOAT\\n    }\\n  }\\n  attr {\\n    key: &quot;_class&quot;\\n    value {\\n      list {\\n        s: &quot;loc:@train/gradients/dnn/hidden1/MatMul_grad/MatMul&quot;\\n      }\\n    }\\n  }\\n}\\nnode {\\n  name: &quot;train/gradients/dnn/hidden1/MatMul_grad/tuple/control_dependency_1&quot;\\n  op: &quot;Identity&quot;\\n  input: &quot;train/gradients/dnn/hidden1/MatMul_grad/MatMul_1&quot;\\n  input: &quot;^train/gradients/dnn/hidden1/MatMul_grad/tuple/group_deps&quot;\\n  attr {\\n    key: &quot;T&quot;\\n    value {\\n      type: DT_FLOAT\\n    }\\n  }\\n  attr {\\n    key: &quot;_class&quot;\\n    value {\\n      list {\\n        s: &quot;loc:@train/gradients/dnn/hidden1/MatMul_grad/MatMul_1&quot;\\n      }\\n    }\\n  }\\n}\\nnode {\\n  name: &quot;train/GradientDescent/learning_rate&quot;\\n  op: &quot;Const&quot;\\n  attr {\\n    key: &quot;dtype&quot;\\n    value {\\n      type: DT_FLOAT\\n    }\\n  }\\n  attr {\\n    key: &quot;value&quot;\\n    value {\\n      tensor {\\n        dtype: DT_FLOAT\\n        tensor_shape {\\n        }\\n        float_val: 0.009999999776482582\\n      }\\n    }\\n  }\\n}\\nnode {\\n  name: &quot;train/GradientDescent/update_hidden1/kernel/ApplyGradientDescent&quot;\\n  op: &quot;ApplyGradientDescent&quot;\\n  input: &quot;hidden1/kernel&quot;\\n  input: &quot;train/GradientDescent/learning_rate&quot;\\n  input: &quot;train/gradients/dnn/hidden1/MatMul_grad/tuple/control_dependency_1&quot;\\n  attr {\\n    key: &quot;T&quot;\\n    value {\\n      type: DT_FLOAT\\n    }\\n  }\\n  attr {\\n    key: &quot;_class&quot;\\n    value {\\n      list {\\n        s: &quot;loc:@hidden1/kernel&quot;\\n      }\\n    }\\n  }\\n  attr {\\n    key: &quot;use_locking&quot;\\n    value {\\n      b: false\\n    }\\n  }\\n}\\nnode {\\n  name: &quot;train/GradientDescent/update_hidden1/bias/ApplyGradientDescent&quot;\\n  op: &quot;ApplyGradientDescent&quot;\\n  input: &quot;hidden1/bias&quot;\\n  input: &quot;train/GradientDescent/learning_rate&quot;\\n  input: &quot;train/gradients/dnn/hidden1/BiasAdd_grad/tuple/control_dependency_1&quot;\\n  attr {\\n    key: &quot;T&quot;\\n    value {\\n      type: DT_FLOAT\\n    }\\n  }\\n  attr {\\n    key: &quot;_class&quot;\\n    value {\\n      list {\\n        s: &quot;loc:@hidden1/bias&quot;\\n      }\\n    }\\n  }\\n  attr {\\n    key: &quot;use_locking&quot;\\n    value {\\n      b: false\\n    }\\n  }\\n}\\nnode {\\n  name: &quot;train/GradientDescent/update_hidden2/kernel/ApplyGradientDescent&quot;\\n  op: &quot;ApplyGradientDescent&quot;\\n  input: &quot;hidden2/kernel&quot;\\n  input: &quot;train/GradientDescent/learning_rate&quot;\\n  input: &quot;train/gradients/dnn/hidden2/MatMul_grad/tuple/control_dependency_1&quot;\\n  attr {\\n    key: &quot;T&quot;\\n    value {\\n      type: DT_FLOAT\\n    }\\n  }\\n  attr {\\n    key: &quot;_class&quot;\\n    value {\\n      list {\\n        s: &quot;loc:@hidden2/kernel&quot;\\n      }\\n    }\\n  }\\n  attr {\\n    key: &quot;use_locking&quot;\\n    value {\\n      b: false\\n    }\\n  }\\n}\\nnode {\\n  name: &quot;train/GradientDescent/update_hidden2/bias/ApplyGradientDescent&quot;\\n  op: &quot;ApplyGradientDescent&quot;\\n  input: &quot;hidden2/bias&quot;\\n  input: &quot;train/GradientDescent/learning_rate&quot;\\n  input: &quot;train/gradients/dnn/hidden2/BiasAdd_grad/tuple/control_dependency_1&quot;\\n  attr {\\n    key: &quot;T&quot;\\n    value {\\n      type: DT_FLOAT\\n    }\\n  }\\n  attr {\\n    key: &quot;_class&quot;\\n    value {\\n      list {\\n        s: &quot;loc:@hidden2/bias&quot;\\n      }\\n    }\\n  }\\n  attr {\\n    key: &quot;use_locking&quot;\\n    value {\\n      b: false\\n    }\\n  }\\n}\\nnode {\\n  name: &quot;train/GradientDescent/update_outputs/kernel/ApplyGradientDescent&quot;\\n  op: &quot;ApplyGradientDescent&quot;\\n  input: &quot;outputs/kernel&quot;\\n  input: &quot;train/GradientDescent/learning_rate&quot;\\n  input: &quot;train/gradients/dnn/outputs/MatMul_grad/tuple/control_dependency_1&quot;\\n  attr {\\n    key: &quot;T&quot;\\n    value {\\n      type: DT_FLOAT\\n    }\\n  }\\n  attr {\\n    key: &quot;_class&quot;\\n    value {\\n      list {\\n        s: &quot;loc:@outputs/kernel&quot;\\n      }\\n    }\\n  }\\n  attr {\\n    key: &quot;use_locking&quot;\\n    value {\\n      b: false\\n    }\\n  }\\n}\\nnode {\\n  name: &quot;train/GradientDescent/update_outputs/bias/ApplyGradientDescent&quot;\\n  op: &quot;ApplyGradientDescent&quot;\\n  input: &quot;outputs/bias&quot;\\n  input: &quot;train/GradientDescent/learning_rate&quot;\\n  input: &quot;train/gradients/dnn/outputs/BiasAdd_grad/tuple/control_dependency_1&quot;\\n  attr {\\n    key: &quot;T&quot;\\n    value {\\n      type: DT_FLOAT\\n    }\\n  }\\n  attr {\\n    key: &quot;_class&quot;\\n    value {\\n      list {\\n        s: &quot;loc:@outputs/bias&quot;\\n      }\\n    }\\n  }\\n  attr {\\n    key: &quot;use_locking&quot;\\n    value {\\n      b: false\\n    }\\n  }\\n}\\nnode {\\n  name: &quot;train/GradientDescent&quot;\\n  op: &quot;NoOp&quot;\\n  input: &quot;^train/GradientDescent/update_hidden1/kernel/ApplyGradientDescent&quot;\\n  input: &quot;^train/GradientDescent/update_hidden1/bias/ApplyGradientDescent&quot;\\n  input: &quot;^train/GradientDescent/update_hidden2/kernel/ApplyGradientDescent&quot;\\n  input: &quot;^train/GradientDescent/update_hidden2/bias/ApplyGradientDescent&quot;\\n  input: &quot;^train/GradientDescent/update_outputs/kernel/ApplyGradientDescent&quot;\\n  input: &quot;^train/GradientDescent/update_outputs/bias/ApplyGradientDescent&quot;\\n}\\nnode {\\n  name: &quot;eval/InTopK&quot;\\n  op: &quot;InTopK&quot;\\n  input: &quot;dnn/outputs/BiasAdd&quot;\\n  input: &quot;y&quot;\\n  attr {\\n    key: &quot;T&quot;\\n    value {\\n      type: DT_INT64\\n    }\\n  }\\n  attr {\\n    key: &quot;k&quot;\\n    value {\\n      i: 1\\n    }\\n  }\\n}\\nnode {\\n  name: &quot;eval/Cast&quot;\\n  op: &quot;Cast&quot;\\n  input: &quot;eval/InTopK&quot;\\n  attr {\\n    key: &quot;DstT&quot;\\n    value {\\n      type: DT_FLOAT\\n    }\\n  }\\n  attr {\\n    key: &quot;SrcT&quot;\\n    value {\\n      type: DT_BOOL\\n    }\\n  }\\n}\\nnode {\\n  name: &quot;eval/Const&quot;\\n  op: &quot;Const&quot;\\n  attr {\\n    key: &quot;dtype&quot;\\n    value {\\n      type: DT_INT32\\n    }\\n  }\\n  attr {\\n    key: &quot;value&quot;\\n    value {\\n      tensor {\\n        dtype: DT_INT32\\n        tensor_shape {\\n          dim {\\n            size: 1\\n          }\\n        }\\n        int_val: 0\\n      }\\n    }\\n  }\\n}\\nnode {\\n  name: &quot;eval/Mean&quot;\\n  op: &quot;Mean&quot;\\n  input: &quot;eval/Cast&quot;\\n  input: &quot;eval/Const&quot;\\n  attr {\\n    key: &quot;T&quot;\\n    value {\\n      type: DT_FLOAT\\n    }\\n  }\\n  attr {\\n    key: &quot;Tidx&quot;\\n    value {\\n      type: DT_INT32\\n    }\\n  }\\n  attr {\\n    key: &quot;keep_dims&quot;\\n    value {\\n      b: false\\n    }\\n  }\\n}\\nnode {\\n  name: &quot;init&quot;\\n  op: &quot;NoOp&quot;\\n  input: &quot;^hidden1/kernel/Assign&quot;\\n  input: &quot;^hidden1/bias/Assign&quot;\\n  input: &quot;^hidden2/kernel/Assign&quot;\\n  input: &quot;^hidden2/bias/Assign&quot;\\n  input: &quot;^outputs/kernel/Assign&quot;\\n  input: &quot;^outputs/bias/Assign&quot;\\n}\\nnode {\\n  name: &quot;save/Const&quot;\\n  op: &quot;Const&quot;\\n  attr {\\n    key: &quot;dtype&quot;\\n    value {\\n      type: DT_STRING\\n    }\\n  }\\n  attr {\\n    key: &quot;value&quot;\\n    value {\\n      tensor {\\n        dtype: DT_STRING\\n        tensor_shape {\\n        }\\n        string_val: &quot;model&quot;\\n      }\\n    }\\n  }\\n}\\nnode {\\n  name: &quot;save/SaveV2/tensor_names&quot;\\n  op: &quot;Const&quot;\\n  attr {\\n    key: &quot;dtype&quot;\\n    value {\\n      type: DT_STRING\\n    }\\n  }\\n  attr {\\n    key: &quot;value&quot;\\n    value {\\n      tensor {\\n        dtype: DT_STRING\\n        tensor_shape {\\n          dim {\\n            size: 6\\n          }\\n        }\\n        string_val: &quot;hidden1/bias&quot;\\n        string_val: &quot;hidden1/kernel&quot;\\n        string_val: &quot;hidden2/bias&quot;\\n        string_val: &quot;hidden2/kernel&quot;\\n        string_val: &quot;outputs/bias&quot;\\n        string_val: &quot;outputs/kernel&quot;\\n      }\\n    }\\n  }\\n}\\nnode {\\n  name: &quot;save/SaveV2/shape_and_slices&quot;\\n  op: &quot;Const&quot;\\n  attr {\\n    key: &quot;dtype&quot;\\n    value {\\n      type: DT_STRING\\n    }\\n  }\\n  attr {\\n    key: &quot;value&quot;\\n    value {\\n      tensor {\\n        dtype: DT_STRING\\n        tensor_shape {\\n          dim {\\n            size: 6\\n          }\\n        }\\n        string_val: &quot;&quot;\\n        string_val: &quot;&quot;\\n        string_val: &quot;&quot;\\n        string_val: &quot;&quot;\\n        string_val: &quot;&quot;\\n        string_val: &quot;&quot;\\n      }\\n    }\\n  }\\n}\\nnode {\\n  name: &quot;save/SaveV2&quot;\\n  op: &quot;SaveV2&quot;\\n  input: &quot;save/Const&quot;\\n  input: &quot;save/SaveV2/tensor_names&quot;\\n  input: &quot;save/SaveV2/shape_and_slices&quot;\\n  input: &quot;hidden1/bias&quot;\\n  input: &quot;hidden1/kernel&quot;\\n  input: &quot;hidden2/bias&quot;\\n  input: &quot;hidden2/kernel&quot;\\n  input: &quot;outputs/bias&quot;\\n  input: &quot;outputs/kernel&quot;\\n  attr {\\n    key: &quot;dtypes&quot;\\n    value {\\n      list {\\n        type: DT_FLOAT\\n        type: DT_FLOAT\\n        type: DT_FLOAT\\n        type: DT_FLOAT\\n        type: DT_FLOAT\\n        type: DT_FLOAT\\n      }\\n    }\\n  }\\n}\\nnode {\\n  name: &quot;save/control_dependency&quot;\\n  op: &quot;Identity&quot;\\n  input: &quot;save/Const&quot;\\n  input: &quot;^save/SaveV2&quot;\\n  attr {\\n    key: &quot;T&quot;\\n    value {\\n      type: DT_STRING\\n    }\\n  }\\n  attr {\\n    key: &quot;_class&quot;\\n    value {\\n      list {\\n        s: &quot;loc:@save/Const&quot;\\n      }\\n    }\\n  }\\n}\\nnode {\\n  name: &quot;save/RestoreV2/tensor_names&quot;\\n  op: &quot;Const&quot;\\n  attr {\\n    key: &quot;dtype&quot;\\n    value {\\n      type: DT_STRING\\n    }\\n  }\\n  attr {\\n    key: &quot;value&quot;\\n    value {\\n      tensor {\\n        dtype: DT_STRING\\n        tensor_shape {\\n          dim {\\n            size: 1\\n          }\\n        }\\n        string_val: &quot;hidden1/bias&quot;\\n      }\\n    }\\n  }\\n}\\nnode {\\n  name: &quot;save/RestoreV2/shape_and_slices&quot;\\n  op: &quot;Const&quot;\\n  attr {\\n    key: &quot;dtype&quot;\\n    value {\\n      type: DT_STRING\\n    }\\n  }\\n  attr {\\n    key: &quot;value&quot;\\n    value {\\n      tensor {\\n        dtype: DT_STRING\\n        tensor_shape {\\n          dim {\\n            size: 1\\n          }\\n        }\\n        string_val: &quot;&quot;\\n      }\\n    }\\n  }\\n}\\nnode {\\n  name: &quot;save/RestoreV2&quot;\\n  op: &quot;RestoreV2&quot;\\n  input: &quot;save/Const&quot;\\n  input: &quot;save/RestoreV2/tensor_names&quot;\\n  input: &quot;save/RestoreV2/shape_and_slices&quot;\\n  attr {\\n    key: &quot;dtypes&quot;\\n    value {\\n      list {\\n        type: DT_FLOAT\\n      }\\n    }\\n  }\\n}\\nnode {\\n  name: &quot;save/Assign&quot;\\n  op: &quot;Assign&quot;\\n  input: &quot;hidden1/bias&quot;\\n  input: &quot;save/RestoreV2&quot;\\n  attr {\\n    key: &quot;T&quot;\\n    value {\\n      type: DT_FLOAT\\n    }\\n  }\\n  attr {\\n    key: &quot;_class&quot;\\n    value {\\n      list {\\n        s: &quot;loc:@hidden1/bias&quot;\\n      }\\n    }\\n  }\\n  attr {\\n    key: &quot;use_locking&quot;\\n    value {\\n      b: true\\n    }\\n  }\\n  attr {\\n    key: &quot;validate_shape&quot;\\n    value {\\n      b: true\\n    }\\n  }\\n}\\nnode {\\n  name: &quot;save/RestoreV2_1/tensor_names&quot;\\n  op: &quot;Const&quot;\\n  attr {\\n    key: &quot;dtype&quot;\\n    value {\\n      type: DT_STRING\\n    }\\n  }\\n  attr {\\n    key: &quot;value&quot;\\n    value {\\n      tensor {\\n        dtype: DT_STRING\\n        tensor_shape {\\n          dim {\\n            size: 1\\n          }\\n        }\\n        string_val: &quot;hidden1/kernel&quot;\\n      }\\n    }\\n  }\\n}\\nnode {\\n  name: &quot;save/RestoreV2_1/shape_and_slices&quot;\\n  op: &quot;Const&quot;\\n  attr {\\n    key: &quot;dtype&quot;\\n    value {\\n      type: DT_STRING\\n    }\\n  }\\n  attr {\\n    key: &quot;value&quot;\\n    value {\\n      tensor {\\n        dtype: DT_STRING\\n        tensor_shape {\\n          dim {\\n            size: 1\\n          }\\n        }\\n        string_val: &quot;&quot;\\n      }\\n    }\\n  }\\n}\\nnode {\\n  name: &quot;save/RestoreV2_1&quot;\\n  op: &quot;RestoreV2&quot;\\n  input: &quot;save/Const&quot;\\n  input: &quot;save/RestoreV2_1/tensor_names&quot;\\n  input: &quot;save/RestoreV2_1/shape_and_slices&quot;\\n  attr {\\n    key: &quot;dtypes&quot;\\n    value {\\n      list {\\n        type: DT_FLOAT\\n      }\\n    }\\n  }\\n}\\nnode {\\n  name: &quot;save/Assign_1&quot;\\n  op: &quot;Assign&quot;\\n  input: &quot;hidden1/kernel&quot;\\n  input: &quot;save/RestoreV2_1&quot;\\n  attr {\\n    key: &quot;T&quot;\\n    value {\\n      type: DT_FLOAT\\n    }\\n  }\\n  attr {\\n    key: &quot;_class&quot;\\n    value {\\n      list {\\n        s: &quot;loc:@hidden1/kernel&quot;\\n      }\\n    }\\n  }\\n  attr {\\n    key: &quot;use_locking&quot;\\n    value {\\n      b: true\\n    }\\n  }\\n  attr {\\n    key: &quot;validate_shape&quot;\\n    value {\\n      b: true\\n    }\\n  }\\n}\\nnode {\\n  name: &quot;save/RestoreV2_2/tensor_names&quot;\\n  op: &quot;Const&quot;\\n  attr {\\n    key: &quot;dtype&quot;\\n    value {\\n      type: DT_STRING\\n    }\\n  }\\n  attr {\\n    key: &quot;value&quot;\\n    value {\\n      tensor {\\n        dtype: DT_STRING\\n        tensor_shape {\\n          dim {\\n            size: 1\\n          }\\n        }\\n        string_val: &quot;hidden2/bias&quot;\\n      }\\n    }\\n  }\\n}\\nnode {\\n  name: &quot;save/RestoreV2_2/shape_and_slices&quot;\\n  op: &quot;Const&quot;\\n  attr {\\n    key: &quot;dtype&quot;\\n    value {\\n      type: DT_STRING\\n    }\\n  }\\n  attr {\\n    key: &quot;value&quot;\\n    value {\\n      tensor {\\n        dtype: DT_STRING\\n        tensor_shape {\\n          dim {\\n            size: 1\\n          }\\n        }\\n        string_val: &quot;&quot;\\n      }\\n    }\\n  }\\n}\\nnode {\\n  name: &quot;save/RestoreV2_2&quot;\\n  op: &quot;RestoreV2&quot;\\n  input: &quot;save/Const&quot;\\n  input: &quot;save/RestoreV2_2/tensor_names&quot;\\n  input: &quot;save/RestoreV2_2/shape_and_slices&quot;\\n  attr {\\n    key: &quot;dtypes&quot;\\n    value {\\n      list {\\n        type: DT_FLOAT\\n      }\\n    }\\n  }\\n}\\nnode {\\n  name: &quot;save/Assign_2&quot;\\n  op: &quot;Assign&quot;\\n  input: &quot;hidden2/bias&quot;\\n  input: &quot;save/RestoreV2_2&quot;\\n  attr {\\n    key: &quot;T&quot;\\n    value {\\n      type: DT_FLOAT\\n    }\\n  }\\n  attr {\\n    key: &quot;_class&quot;\\n    value {\\n      list {\\n        s: &quot;loc:@hidden2/bias&quot;\\n      }\\n    }\\n  }\\n  attr {\\n    key: &quot;use_locking&quot;\\n    value {\\n      b: true\\n    }\\n  }\\n  attr {\\n    key: &quot;validate_shape&quot;\\n    value {\\n      b: true\\n    }\\n  }\\n}\\nnode {\\n  name: &quot;save/RestoreV2_3/tensor_names&quot;\\n  op: &quot;Const&quot;\\n  attr {\\n    key: &quot;dtype&quot;\\n    value {\\n      type: DT_STRING\\n    }\\n  }\\n  attr {\\n    key: &quot;value&quot;\\n    value {\\n      tensor {\\n        dtype: DT_STRING\\n        tensor_shape {\\n          dim {\\n            size: 1\\n          }\\n        }\\n        string_val: &quot;hidden2/kernel&quot;\\n      }\\n    }\\n  }\\n}\\nnode {\\n  name: &quot;save/RestoreV2_3/shape_and_slices&quot;\\n  op: &quot;Const&quot;\\n  attr {\\n    key: &quot;dtype&quot;\\n    value {\\n      type: DT_STRING\\n    }\\n  }\\n  attr {\\n    key: &quot;value&quot;\\n    value {\\n      tensor {\\n        dtype: DT_STRING\\n        tensor_shape {\\n          dim {\\n            size: 1\\n          }\\n        }\\n        string_val: &quot;&quot;\\n      }\\n    }\\n  }\\n}\\nnode {\\n  name: &quot;save/RestoreV2_3&quot;\\n  op: &quot;RestoreV2&quot;\\n  input: &quot;save/Const&quot;\\n  input: &quot;save/RestoreV2_3/tensor_names&quot;\\n  input: &quot;save/RestoreV2_3/shape_and_slices&quot;\\n  attr {\\n    key: &quot;dtypes&quot;\\n    value {\\n      list {\\n        type: DT_FLOAT\\n      }\\n    }\\n  }\\n}\\nnode {\\n  name: &quot;save/Assign_3&quot;\\n  op: &quot;Assign&quot;\\n  input: &quot;hidden2/kernel&quot;\\n  input: &quot;save/RestoreV2_3&quot;\\n  attr {\\n    key: &quot;T&quot;\\n    value {\\n      type: DT_FLOAT\\n    }\\n  }\\n  attr {\\n    key: &quot;_class&quot;\\n    value {\\n      list {\\n        s: &quot;loc:@hidden2/kernel&quot;\\n      }\\n    }\\n  }\\n  attr {\\n    key: &quot;use_locking&quot;\\n    value {\\n      b: true\\n    }\\n  }\\n  attr {\\n    key: &quot;validate_shape&quot;\\n    value {\\n      b: true\\n    }\\n  }\\n}\\nnode {\\n  name: &quot;save/RestoreV2_4/tensor_names&quot;\\n  op: &quot;Const&quot;\\n  attr {\\n    key: &quot;dtype&quot;\\n    value {\\n      type: DT_STRING\\n    }\\n  }\\n  attr {\\n    key: &quot;value&quot;\\n    value {\\n      tensor {\\n        dtype: DT_STRING\\n        tensor_shape {\\n          dim {\\n            size: 1\\n          }\\n        }\\n        string_val: &quot;outputs/bias&quot;\\n      }\\n    }\\n  }\\n}\\nnode {\\n  name: &quot;save/RestoreV2_4/shape_and_slices&quot;\\n  op: &quot;Const&quot;\\n  attr {\\n    key: &quot;dtype&quot;\\n    value {\\n      type: DT_STRING\\n    }\\n  }\\n  attr {\\n    key: &quot;value&quot;\\n    value {\\n      tensor {\\n        dtype: DT_STRING\\n        tensor_shape {\\n          dim {\\n            size: 1\\n          }\\n        }\\n        string_val: &quot;&quot;\\n      }\\n    }\\n  }\\n}\\nnode {\\n  name: &quot;save/RestoreV2_4&quot;\\n  op: &quot;RestoreV2&quot;\\n  input: &quot;save/Const&quot;\\n  input: &quot;save/RestoreV2_4/tensor_names&quot;\\n  input: &quot;save/RestoreV2_4/shape_and_slices&quot;\\n  attr {\\n    key: &quot;dtypes&quot;\\n    value {\\n      list {\\n        type: DT_FLOAT\\n      }\\n    }\\n  }\\n}\\nnode {\\n  name: &quot;save/Assign_4&quot;\\n  op: &quot;Assign&quot;\\n  input: &quot;outputs/bias&quot;\\n  input: &quot;save/RestoreV2_4&quot;\\n  attr {\\n    key: &quot;T&quot;\\n    value {\\n      type: DT_FLOAT\\n    }\\n  }\\n  attr {\\n    key: &quot;_class&quot;\\n    value {\\n      list {\\n        s: &quot;loc:@outputs/bias&quot;\\n      }\\n    }\\n  }\\n  attr {\\n    key: &quot;use_locking&quot;\\n    value {\\n      b: true\\n    }\\n  }\\n  attr {\\n    key: &quot;validate_shape&quot;\\n    value {\\n      b: true\\n    }\\n  }\\n}\\nnode {\\n  name: &quot;save/RestoreV2_5/tensor_names&quot;\\n  op: &quot;Const&quot;\\n  attr {\\n    key: &quot;dtype&quot;\\n    value {\\n      type: DT_STRING\\n    }\\n  }\\n  attr {\\n    key: &quot;value&quot;\\n    value {\\n      tensor {\\n        dtype: DT_STRING\\n        tensor_shape {\\n          dim {\\n            size: 1\\n          }\\n        }\\n        string_val: &quot;outputs/kernel&quot;\\n      }\\n    }\\n  }\\n}\\nnode {\\n  name: &quot;save/RestoreV2_5/shape_and_slices&quot;\\n  op: &quot;Const&quot;\\n  attr {\\n    key: &quot;dtype&quot;\\n    value {\\n      type: DT_STRING\\n    }\\n  }\\n  attr {\\n    key: &quot;value&quot;\\n    value {\\n      tensor {\\n        dtype: DT_STRING\\n        tensor_shape {\\n          dim {\\n            size: 1\\n          }\\n        }\\n        string_val: &quot;&quot;\\n      }\\n    }\\n  }\\n}\\nnode {\\n  name: &quot;save/RestoreV2_5&quot;\\n  op: &quot;RestoreV2&quot;\\n  input: &quot;save/Const&quot;\\n  input: &quot;save/RestoreV2_5/tensor_names&quot;\\n  input: &quot;save/RestoreV2_5/shape_and_slices&quot;\\n  attr {\\n    key: &quot;dtypes&quot;\\n    value {\\n      list {\\n        type: DT_FLOAT\\n      }\\n    }\\n  }\\n}\\nnode {\\n  name: &quot;save/Assign_5&quot;\\n  op: &quot;Assign&quot;\\n  input: &quot;outputs/kernel&quot;\\n  input: &quot;save/RestoreV2_5&quot;\\n  attr {\\n    key: &quot;T&quot;\\n    value {\\n      type: DT_FLOAT\\n    }\\n  }\\n  attr {\\n    key: &quot;_class&quot;\\n    value {\\n      list {\\n        s: &quot;loc:@outputs/kernel&quot;\\n      }\\n    }\\n  }\\n  attr {\\n    key: &quot;use_locking&quot;\\n    value {\\n      b: true\\n    }\\n  }\\n  attr {\\n    key: &quot;validate_shape&quot;\\n    value {\\n      b: true\\n    }\\n  }\\n}\\nnode {\\n  name: &quot;save/restore_all&quot;\\n  op: &quot;NoOp&quot;\\n  input: &quot;^save/Assign&quot;\\n  input: &quot;^save/Assign_1&quot;\\n  input: &quot;^save/Assign_2&quot;\\n  input: &quot;^save/Assign_3&quot;\\n  input: &quot;^save/Assign_4&quot;\\n  input: &quot;^save/Assign_5&quot;\\n}\\n';\n",
       "          }\n",
       "        </script>\n",
       "        <link rel=&quot;import&quot; href=&quot;https://tensorboard.appspot.com/tf-graph-basic.build.html&quot; onload=load()>\n",
       "        <div style=&quot;height:600px&quot;>\n",
       "          <tf-graph-basic id=&quot;graph0.7224827313584268&quot;></tf-graph-basic>\n",
       "        </div>\n",
       "    \"></iframe>\n",
       "    "
      ],
      "text/plain": [
       "<IPython.core.display.HTML object>"
      ]
     },
     "metadata": {},
     "output_type": "display_data"
    }
   ],
   "source": [
    "show_graph(tf.get_default_graph())"
   ]
  }
 ],
 "metadata": {
  "kernelspec": {
   "display_name": "Python 3",
   "language": "python",
   "name": "python3"
  },
  "language_info": {
   "codemirror_mode": {
    "name": "ipython",
    "version": 3
   },
   "file_extension": ".py",
   "mimetype": "text/x-python",
   "name": "python",
   "nbconvert_exporter": "python",
   "pygments_lexer": "ipython3",
   "version": "3.5.1rc1"
  }
 },
 "nbformat": 4,
 "nbformat_minor": 2
}
